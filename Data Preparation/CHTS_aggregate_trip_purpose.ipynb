{
 "cells": [
  {
   "cell_type": "markdown",
   "metadata": {},
   "source": [
    "#### This script is created to generate trip purpose by activity purpose using CHTS data\n",
    "#### To identify primary trip purpose the purpose hieracy was applied\n",
    "#### Delete a nan recode of sampno==1441893 in survey_place and survey_activity and correct the plano and tripno before running the script\n",
    "\n",
    "##### Jingyue Zhang, Last modified 1/17/2018"
   ]
  },
  {
   "cell_type": "code",
   "execution_count": null,
   "metadata": {
    "collapsed": true
   },
   "outputs": [],
   "source": [
    "#Import libraries\n",
    "from pandas import *\n",
    "import numpy as np\n",
    "from collections import Counter\n",
    "import csv\n",
    "import matplotlib.pyplot as plt\n",
    "from savReaderWriter import * "
   ]
  },
  {
   "cell_type": "code",
   "execution_count": null,
   "metadata": {
    "collapsed": false
   },
   "outputs": [],
   "source": [
    "'''Read the data from text file and convert in into a dataframe'''\n",
    "myAct=read_csv('C:/Users/jiz13007/Documents/CAMMSE/California House Travel Survey/caltrans_full_survey/caltrans_full_survey/survey_activity.csv')\n",
    "print (myAct.shape)\n",
    "    \n",
    "# Sort the trip file\n",
    "myAct.sort_values(['sampno','perno','plano','tripno','actno'], ascending=[True,True,True,True,True], inplace=True)\n",
    "myAct.reset_index(drop=True,inplace = True)\n",
    "\n",
    "#Column (25) contains character Ã\n",
    "#print myAct.head(10)\n",
    "\n",
    "myPlace=read_csv('C:/Users/jiz13007/Documents/CAMMSE/California House Travel Survey/caltrans_full_survey/caltrans_full_survey/survey_place.csv')\n",
    "#print (myPlace.shape)\n",
    "\n",
    "# Sort the place file\n",
    "myPlace.sort_values(['sampno','perno','plano','tripno'], ascending=[True,True,True,True], inplace=True)\n",
    "myPlace.reset_index(drop=True,inplace = True)\n",
    "print myPlace.shape\n",
    "#print myPlace.head()"
   ]
  },
  {
   "cell_type": "code",
   "execution_count": null,
   "metadata": {
    "collapsed": false
   },
   "outputs": [],
   "source": [
    "'''Step1: Check if id is correct'''\n",
    "#replace 'NAN' to '0' in tripno\n",
    "print myAct['tripno'].isnull().sum()\n",
    "myAct['tripno'].replace(np.nan,0,inplace=True)\n",
    "print sum(myAct['tripno']==0)\n",
    "print myPlace['tripno'].isnull().sum()\n",
    "myPlace['tripno'].replace(np.nan,0,inplace=True)\n",
    "print sum(myPlace['tripno']==0)"
   ]
  },
  {
   "cell_type": "code",
   "execution_count": null,
   "metadata": {
    "collapsed": false
   },
   "outputs": [],
   "source": [
    "'''Step1.1:\n",
    "Check if plano is correct\n",
    "sum of consecutive n numbers 1...n = n * (n+1) /2'''\n",
    "check_sampno=[]\n",
    "def consecutive_plano(group):#groupby sampno and perno\n",
    "    global check_sampno\n",
    "    sampno=group.sampno.tolist()[0]# the entire group should have the same value\n",
    "    plano=set(group.plano.tolist()) # get the unique values of plano\n",
    "    maximum=max(plano)\n",
    "    if sum(plano)==maximum*(maximum+1)/2:\n",
    "        pass\n",
    "    else:\n",
    "        check_sampno.append(sampno)\n",
    "    \n",
    "    return group\n",
    "\n",
    "result=myPlace.groupby(['sampno','perno']).apply(consecutive_plano)\n",
    "print check_sampno"
   ]
  },
  {
   "cell_type": "code",
   "execution_count": null,
   "metadata": {
    "collapsed": false
   },
   "outputs": [],
   "source": [
    "'''Step1.2:\n",
    "Check if tripno is correct\n",
    "sum of consecutive n numbers 1...n = n * (n+1) /2'''\n",
    "check_sampno=[]\n",
    "def consecutive_plano(group):#groupby sampno and perno\n",
    "    global check_sampno\n",
    "    sampno=group.sampno.tolist()[0]# the entire group should have the same value\n",
    "    tripno=set(group.tripno.tolist()) # get the unique values of plano\n",
    "    maximum=max(tripno)\n",
    "    if sum(tripno)==maximum*(maximum+1)/2:\n",
    "        pass\n",
    "    else:\n",
    "        check_sampno.append(sampno)\n",
    "    \n",
    "    return group\n",
    "\n",
    "result=myPlace.groupby(['sampno','perno']).apply(consecutive_plano)\n",
    "print check_sampno"
   ]
  },
  {
   "cell_type": "code",
   "execution_count": null,
   "metadata": {
    "collapsed": false
   },
   "outputs": [],
   "source": [
    "'''Step1.2:'''\n",
    "#myAct is large so split the data into 10 portions\n",
    "#groupby hh\n",
    "hh_group=myAct.groupby('sampno')['perno'].max()\n",
    "hh_group=DataFrame(hh_group)\n",
    "hh_group.reset_index(inplace = True)\n",
    "hh_group.sort_values(['sampno'], ascending=[True], inplace=True)\n",
    "hh_group.reset_index(drop=True,inplace = True)\n",
    "print hh_group.shape\n",
    "#print hh_group.head()\n",
    "hh_group['hh_indx']=hh_group.index\n",
    "#print hh_group.head()\n",
    "del hh_group['perno']\n",
    "myAct_temp=merge(myAct, hh_group, on=['sampno'], how='left')\n",
    "print myAct_temp.shape\n",
    "print myAct_temp['hh_indx'].max()\n",
    "Act1=myAct_temp.loc[(myAct_temp['hh_indx']>=0) &(myAct_temp['hh_indx']<=5000)]\n",
    "print Act1.shape\n",
    "Act2=myAct_temp.loc[(myAct_temp['hh_indx']>=5001) &(myAct_temp['hh_indx']<=10000)]\n",
    "print Act2.shape\n",
    "Act3=myAct_temp.loc[(myAct_temp['hh_indx']>=10001) &(myAct_temp['hh_indx']<=15000)]\n",
    "print Act3.shape\n",
    "Act4=myAct_temp.loc[(myAct_temp['hh_indx']>=15001) &(myAct_temp['hh_indx']<=20000)]\n",
    "print Act4.shape\n",
    "Act5=myAct_temp.loc[(myAct_temp['hh_indx']>=20001) &(myAct_temp['hh_indx']<=25000)]\n",
    "print Act5.shape\n",
    "Act6=myAct_temp.loc[(myAct_temp['hh_indx']>=25001) &(myAct_temp['hh_indx']<=30000)]\n",
    "print Act6.shape\n",
    "Act7=myAct_temp.loc[(myAct_temp['hh_indx']>=30001) &(myAct_temp['hh_indx']<=35000)]\n",
    "print Act7.shape\n",
    "Act8=myAct_temp.loc[(myAct_temp['hh_indx']>=35001) &(myAct_temp['hh_indx']<=42431)]\n",
    "print Act8.shape\n",
    "sum_total=len(Act1)+len(Act2)+len(Act3)+len(Act4)+len(Act5)+len(Act6)+len(Act7)+len(Act8)\n",
    "print sum_total\n",
    "print myAct.shape"
   ]
  },
  {
   "cell_type": "code",
   "execution_count": null,
   "metadata": {
    "collapsed": false
   },
   "outputs": [],
   "source": [
    "'''Step1.2:\n",
    "Check if actno is correct\n",
    "sum of consecutive n numbers 1...n = n * (n+1) /2'''\n",
    "check_sampno1=[]\n",
    "def consecutive_actno(group):#groupby sampno and perno plano\n",
    "    global check_sampno\n",
    "    sampno=group.sampno.tolist()[0]# the entire group should have the same value\n",
    "    actno=set(group.actno.tolist()) # get the unique values\n",
    "    maximum=max(actno)\n",
    "    if sum(actno)==maximum*(maximum+1)/2:\n",
    "        pass\n",
    "    else:\n",
    "        check_sampno1.append(sampno)\n",
    "    \n",
    "    return group\n",
    "\n",
    "result=Act1.groupby(['sampno','perno','plano']).apply(consecutive_actno)\n",
    "print check_sampno1"
   ]
  },
  {
   "cell_type": "code",
   "execution_count": null,
   "metadata": {
    "collapsed": false
   },
   "outputs": [],
   "source": [
    "#### actno is not consecutive, but the number will not be used and only the tripno matters, so the problem was not corrected\n",
    "del myAct_temp, Act1, Act2, Act3, Act4, Act5, Act6, Act7, Act8, hh_group"
   ]
  },
  {
   "cell_type": "markdown",
   "metadata": {},
   "source": [
    "#### Recode Activity Purpose Mapping\n",
    "#### -9-Home:1-8;\n",
    "#### 1-School:17-20;\n",
    "#### 2-Primary work:9-16; \n",
    "#### 3-Work-related: 25; \n",
    "#### 4-Meal:23,31\n",
    "#### 5-Shopping:27,28\n",
    "#### 6-Personal Business: 24,26,29,30,32,33,34,35\n",
    "#### 7-Social: 36,37\n",
    "#### 8-Escorting: 22\n",
    "#### 9-Other: 38, 39, 999\n",
    "#### 10-Change mode: 21"
   ]
  },
  {
   "cell_type": "code",
   "execution_count": null,
   "metadata": {
    "collapsed": false
   },
   "outputs": [],
   "source": [
    "'''Step3'''\n",
    "'''recode act_pur'''\n",
    "'''aggregate act_pur into 10 categories'''\n",
    "def trpPur(val):\n",
    "    if ((val>=1)&(val<=8)):\n",
    "        return -9 # Home\n",
    "    elif ((val>=17)&(val<=20)):\n",
    "        return 1 #School\n",
    "    elif ((val>=9)&(val<=16)):\n",
    "        return 2 # Primary Work\n",
    "    elif (val==25):\n",
    "        return 3 #Other work\n",
    "    elif ((val==23) | (val==31)):\n",
    "        return 4 #Meal\n",
    "    elif ((val==27) | (val==28)):\n",
    "        return 5 #Shopping\n",
    "    elif ((val==24) | (val==26) | (val==29) | (val==30)|(val==32) | (val==33) | (val==34) | (val==35)):\n",
    "        return 6 #Personal business\n",
    "    elif ((val==36) | (val==37)):\n",
    "        return 7 #Social\n",
    "    elif ((val==22)):\n",
    "        return 8 #Escorting\n",
    "    elif ((val==21)):\n",
    "        return 10 #Change mode\n",
    "    else:\n",
    "        return 9  #Other\n",
    "\n",
    "'''aggregate d_purpose_recode into 11 categories'''        \n",
    "Temp=myAct.purpose.map(trpPur)\n",
    "myAct.loc[:,'act_pur']=Temp \n",
    "print 'aggregated activity_purpose_recode categories:'\n",
    "print myAct['act_pur'].value_counts().sort_index()\n",
    "print myAct['purpose'].value_counts().sort_index()\n",
    "del Temp"
   ]
  },
  {
   "cell_type": "code",
   "execution_count": null,
   "metadata": {
    "collapsed": false
   },
   "outputs": [],
   "source": [
    "'''Step3.1'''\n",
    "# Identify primary activity for each trip using activity priority, the smallest value has highest priority\n",
    "agg_pur=myAct.groupby(['sampno','perno','plano','tripno'])['act_pur'].min() #groupby and identify the purpose with highest priority\n",
    "print agg_pur.shape #460520\n",
    "agg_pur=DataFrame(agg_pur)\n",
    "agg_pur.reset_index(inplace=True)\n",
    "agg_pur.columns=['sampno','perno','plano','tripno','trip_pur']\n",
    "print agg_pur.head()\n",
    "#Merge primary purpose to myAct\n",
    "myAct1=merge(myAct,agg_pur,on=['sampno','perno','plano','tripno'], how='left')\n",
    "print myAct1.shape\n",
    "# Identify origin purpose of the first trip (tripno==0)\n",
    "myAct_ori=myAct1.loc[myAct['tripno']==0]\n",
    "print myAct_ori.shape\n",
    "agg_pur_ori=myAct_ori.groupby(['sampno','perno'])['trip_pur'].min()\n",
    "agg_pur_ori=DataFrame(agg_pur_ori)\n",
    "agg_pur_ori.reset_index(inplace=True)\n",
    "agg_pur_ori.columns=['sampno','perno','first_o_pur']\n",
    "print agg_pur_ori.head()"
   ]
  },
  {
   "cell_type": "markdown",
   "metadata": {},
   "source": [
    "### Identify trip purpose"
   ]
  },
  {
   "cell_type": "code",
   "execution_count": null,
   "metadata": {
    "collapsed": false
   },
   "outputs": [],
   "source": [
    "'''Step4: Merge primary activity purpose to place file'''\n",
    "#Sort the place file\n",
    "myPlace.sort_values(['sampno','perno','plano','tripno'], ascending=[True,True,True,True], inplace=True)\n",
    "myPlace.reset_index(drop=True,inplace = True)\n",
    "print agg_pur.shape\n",
    "print myPlace.shape\n",
    "myPlace1=merge(myPlace, agg_pur, on=['sampno','perno','plano','tripno'], how='left')\n",
    "print myPlace1.shape\n",
    "print myPlace1.loc[myPlace1['trip_pur'].isnull(),'sampno']\n",
    "# identified three nan values. The persons (sampno==2652524, perno==4, tripno=2,3 and sampno==2818486. perno==4, tripno==3) reported trips but not report activities\n",
    "# therefore their records were deleted from place file\n",
    "myPlace1=myPlace1.dropna(subset = ['trip_pur'])\n",
    "print myPlace1.shape\n",
    "print myPlace1['trip_pur'].isnull().sum()"
   ]
  },
  {
   "cell_type": "code",
   "execution_count": null,
   "metadata": {
    "collapsed": false
   },
   "outputs": [],
   "source": [
    "'''Step4.1: merge origin purpose of the first trip to place file'''\n",
    "#Sort the place file\n",
    "myPlace1.sort_values(['sampno','perno','plano','tripno'], ascending=[True,True,True,True], inplace=True)\n",
    "myPlace1.reset_index(drop=True,inplace = True)\n",
    "myPlace2=merge(myPlace1, agg_pur_ori, on=['sampno','perno'], how='left')\n",
    "print myPlace2.shape\n",
    "print myPlace2.loc[myPlace2['first_o_pur'].isnull(),'sampno']"
   ]
  },
  {
   "cell_type": "markdown",
   "metadata": {},
   "source": [
    "### Identify trip departure time and arrivial time"
   ]
  },
  {
   "cell_type": "code",
   "execution_count": null,
   "metadata": {
    "collapsed": false
   },
   "outputs": [],
   "source": [
    "\n",
    "print myAct1.loc[(myAct1['sampno']==2527948)&(myAct1['perno']==1),('plano','arr_time','dep_time')]"
   ]
  },
  {
   "cell_type": "code",
   "execution_count": null,
   "metadata": {
    "collapsed": false
   },
   "outputs": [],
   "source": [
    "'''Step5'''\n",
    "'''actno is not sorted chronologically, therefore, the trip arrive time is identified as the earliest activity start time\n",
    "trip departure time is identified as the latest activity end time'''\n",
    "'''Step5.1: recode time as hour*60+minutes'''\n",
    "print myAct1[['arr_time','dep_time']].head()\n",
    "arr_time=myAct1['arr_time'].str.split(':',expand=True).astype(int)\n",
    "dep_time=myAct1['dep_time'].str.split(':',expand=True).astype(int)\n",
    "print arr_time.head()\n",
    "print dep_time.head()\n",
    "arr_time.columns=['strt_hour','strt_min','strt_second']\n",
    "dep_time.columns=['end_hour','end_min','end_second']\n",
    "myAct2=concat([myAct1, arr_time], axis=1)\n",
    "myAct3=concat([myAct2, dep_time], axis=1)\n",
    "print myAct3.shape\n",
    "print myAct3[['arr_time','strt_hour','strt_min','strt_second','dep_time','end_hour','end_min','end_second']].head()"
   ]
  },
  {
   "cell_type": "code",
   "execution_count": null,
   "metadata": {
    "collapsed": false
   },
   "outputs": [],
   "source": [
    "myAct3['strt_hour'].replace(0,24,inplace=True) #0 is 12am of the next day\n",
    "myAct3['strt_hour'].replace(1,25,inplace=True) #1 is 1am of the next day\n",
    "myAct3['strt_hour'].replace(2,26,inplace=True) #2 is 2am of the next day\n",
    "myAct3['end_hour'].replace(0,24,inplace=True) #0 is 12am of the next day\n",
    "myAct3['end_hour'].replace(1,25,inplace=True) #1 is 1am of the next day\n",
    "myAct3['end_hour'].replace(2,26,inplace=True) #2 is 2am of the next day\n",
    "print myAct3['strt_hour'].min()\n",
    "print myAct3['strt_hour'].max()\n",
    "print myAct3['end_hour'].min()\n",
    "print myAct3['end_hour'].max()\n",
    "print myAct3['strt_min'].min()\n",
    "print myAct3['strt_min'].max()\n",
    "print myAct3['end_min'].min()\n",
    "print myAct3['end_min'].max()\n",
    "print myAct3['strt_second'].min()\n",
    "print myAct3['strt_second'].max()\n",
    "print myAct3['end_second'].min()\n",
    "print myAct3['end_second'].max()\n",
    "##create strt_time and end_time\n",
    "myAct3['strt_time']=(myAct3['strt_hour']-3)*60+(myAct3['strt_min'])\n",
    "myAct3['end_time']=(myAct3['end_hour']-3)*60+(myAct3['end_min'])\n",
    "print myAct3['strt_time'].min()\n",
    "print myAct3['strt_time'].max()\n",
    "print myAct3['end_time'].min()\n",
    "print myAct3['end_time'].max()\n",
    "print myAct3[['arr_time','strt_time','dep_time','end_time']].head()"
   ]
  },
  {
   "cell_type": "code",
   "execution_count": null,
   "metadata": {
    "collapsed": false
   },
   "outputs": [],
   "source": [
    "'''Step5.1: check if time is correct'''\n",
    "'''Check if end time is earlier than start time'''\n",
    "myAct3['check_time']=myAct3['end_time']-myAct3['strt_time']\n",
    "print myAct3.loc[myAct3['check_time']<0,('sampno','perno')]\n",
    "# errors were identified (sampno=2527948, perno==1,plano==5,6) end_time and strt_time should be switched\n",
    "myAct3.loc[(myAct3['sampno']==2527948)&(myAct3['perno']==1)&(myAct3['plano']==5),'strt_time']=925\n",
    "myAct3.loc[(myAct3['sampno']==2527948)&(myAct3['perno']==1)&(myAct3['plano']==5),'end_time']=930\n",
    "myAct3.loc[(myAct3['sampno']==2527948)&(myAct3['perno']==1)&(myAct3['plano']==6),'strt_time']=950\n",
    "myAct3.loc[(myAct3['sampno']==2527948)&(myAct3['perno']==1)&(myAct3['plano']==6),'end_time']=957"
   ]
  },
  {
   "cell_type": "code",
   "execution_count": null,
   "metadata": {
    "collapsed": false
   },
   "outputs": [],
   "source": [
    "'''Step5.2 take the ealiest strt_time and latest end_time of each place'''\n",
    "strt_time_place=myAct3.groupby(['sampno','perno','plano'])['strt_time'].min()\n",
    "strt_time_place=DataFrame(strt_time_place)\n",
    "strt_time_place.reset_index(inplace=True)\n",
    "print strt_time_place.shape\n",
    "end_time_place=myAct3.groupby(['sampno','perno','plano'])['end_time'].max()\n",
    "end_time_place=DataFrame(end_time_place)\n",
    "end_time_place.reset_index(inplace=True)\n",
    "print end_time_place.shape\n",
    "print strt_time_place.head()\n",
    "print end_time_place.head()"
   ]
  },
  {
   "cell_type": "code",
   "execution_count": null,
   "metadata": {
    "collapsed": false
   },
   "outputs": [],
   "source": [
    "'''Step5.3 merge strt_time_place and end_time_place to place file'''\n",
    "myPlace3=merge(myPlace2,strt_time_place, on=['sampno','perno','plano'], how='left')\n",
    "myPlace4=merge(myPlace3,end_time_place, on=['sampno','perno','plano'], how='left')\n",
    "print myPlace2.shape\n",
    "print myPlace4.shape"
   ]
  },
  {
   "cell_type": "code",
   "execution_count": null,
   "metadata": {
    "collapsed": false
   },
   "outputs": [],
   "source": [
    "'''Step5.4 create a column to store the end time of first group of activities (tripno==0)'''\n",
    "myAct3_fir=myAct3.loc[myAct3['tripno']==0]\n",
    "print myAct3_fir.shape\n",
    "print myAct3_fir['tripno'].max()\n",
    "print myAct3_fir['plano'].max()\n",
    "end_time_first=myAct3_fir.groupby(['sampno','perno'])['end_time'].max()\n",
    "end_time_first=DataFrame(end_time_first)\n",
    "end_time_first.reset_index(inplace=True)\n",
    "end_time_first.columns=['sampno','perno','end_time_first']\n",
    "print end_time_first.head()"
   ]
  },
  {
   "cell_type": "code",
   "execution_count": null,
   "metadata": {
    "collapsed": false
   },
   "outputs": [],
   "source": [
    "'''Step5.4 create a column to store the end time of first group of activities (tripno==0)'''\n",
    "myPlace5=merge(myPlace4,end_time_first, on=['sampno','perno'], how='left')\n",
    "print myPlace5.shape"
   ]
  },
  {
   "cell_type": "markdown",
   "metadata": {},
   "source": [
    "## Create trip file"
   ]
  },
  {
   "cell_type": "code",
   "execution_count": null,
   "metadata": {
    "collapsed": false
   },
   "outputs": [],
   "source": [
    "'''Step6 Create trip file by deleting the records with no trip (tripno==0)'''\n",
    "'''Step6.1: first delete the persons who did not make any trip'''\n",
    "#For person who did not make any trip a record with plano==1 is still reported, need to delete these records\n",
    "myPlace5['noplace']=myPlace5.groupby(['sampno','perno'])['plano'].transform('max')\n",
    "myPlace5['notrip']=myPlace5.groupby(['sampno','perno'])['tripno'].transform('max')\n",
    "print sum((myPlace5['noplace']==1)&(myPlace5['notrip']!=0))\n",
    "print sum((myPlace5['notrip']==0)&(myPlace5['noplace']!=1))\n",
    "'''Step6.2: then delete the records before the first trip (plano==1 or tripno==0)'''\n",
    "myTrip=myPlace5.loc[(myPlace5['notrip']!=0)&(myPlace5['tripno']!=0)]\n",
    "print myTrip.shape\n",
    "print myTrip.head()"
   ]
  },
  {
   "cell_type": "code",
   "execution_count": null,
   "metadata": {
    "collapsed": false
   },
   "outputs": [],
   "source": [
    "# check if nan values\n",
    "print myTrip['trip_pur'].isnull().sum()\n",
    "print myTrip['first_o_pur'].isnull().sum()\n",
    "print myTrip['strt_time'].isnull().sum()\n",
    "print myTrip['end_time'].isnull().sum()\n",
    "print myTrip['end_time_first'].isnull().sum()"
   ]
  },
  {
   "cell_type": "code",
   "execution_count": null,
   "metadata": {
    "collapsed": false
   },
   "outputs": [],
   "source": [
    "#Rename trip_pur as d_pur\n",
    "myTrip.rename(columns={'trip_pur': 'd_pur','strt_time':'act_strt_time','end_time':'act_end_time'}, inplace=True)\n",
    "print myTrip[['d_pur','act_strt_time','act_end_time']].head()"
   ]
  },
  {
   "cell_type": "markdown",
   "metadata": {
    "collapsed": true
   },
   "source": [
    "### Create trip origin purpose"
   ]
  },
  {
   "cell_type": "code",
   "execution_count": null,
   "metadata": {
    "collapsed": true
   },
   "outputs": [],
   "source": [
    "# Recode trip origin purpose\n",
    "def oriPur(group): #groupby smapno, perno\n",
    "    tripid=group.tripno.tolist()\n",
    "    sze=len(tripid)\n",
    "    dpur_ls = group.d_pur.tolist()[:-1]  # Taking all but the last one\n",
    "    opur_first=group.first_o_pur.tolist()[0] #Take the first one\n",
    "    opur_ls=[-999 for x in xrange(sze)]\n",
    "    if sze==1:\n",
    "        opur_ls[0]=opur_first\n",
    "    else: \n",
    "        opur_ls[0]=opur_first\n",
    "        for i in xrange(len(dpur_ls)):\n",
    "            dpur=dpur_ls[i]\n",
    "            opur_ls[i+1]=dpur\n",
    "    \n",
    "    group['o_pur']=opur_ls\n",
    "    return group"
   ]
  },
  {
   "cell_type": "code",
   "execution_count": null,
   "metadata": {
    "collapsed": false
   },
   "outputs": [],
   "source": [
    "result=myTrip.groupby(['sampno','perno']).apply(oriPur)"
   ]
  },
  {
   "cell_type": "code",
   "execution_count": null,
   "metadata": {
    "collapsed": false
   },
   "outputs": [],
   "source": [
    "print result[['sampno','perno','plano','tripno','o_pur','d_pur','first_o_pur']].head()\n",
    "print result['o_pur'].value_counts()\n",
    "print result['o_pur'].isnull().sum()\n",
    "myTrip['o_pur']=result['o_pur']\n",
    "print myTrip['o_pur'].value_counts()\n",
    "print result['o_pur'].value_counts()\n",
    "del result"
   ]
  },
  {
   "cell_type": "markdown",
   "metadata": {},
   "source": [
    "### Create trip depature and arrival time"
   ]
  },
  {
   "cell_type": "code",
   "execution_count": null,
   "metadata": {
    "collapsed": false
   },
   "outputs": [],
   "source": [
    "#start time is trip arrivial time\n",
    "myTrip['trip_arr_time']=myTrip['act_strt_time']"
   ]
  },
  {
   "cell_type": "code",
   "execution_count": null,
   "metadata": {
    "collapsed": true
   },
   "outputs": [],
   "source": [
    "#start time is trip arrivial time\n",
    "#end time is departure time of next trip\n",
    "def tripTime(group): #groupby smapno, perno\n",
    "    tripid=group.tripno.tolist()\n",
    "    sze=len(tripid)\n",
    "    act_end_time_ls=group.act_end_time.tolist()[:-1] #Take all but the last one\n",
    "    act_end_first=group.end_time_first.tolist()[0] #Take the first one\n",
    "    trp_dep_ls=[-999 for x in xrange(sze)]\n",
    "    if sze==1: #only made one trip\n",
    "        trp_dep_ls[0]=act_end_first\n",
    "    else: \n",
    "        trp_dep_ls[0]=act_end_first\n",
    "        for i in xrange(len(act_end_time_ls)):\n",
    "            end_time=act_end_time_ls[i]\n",
    "            trp_dep_ls[i+1]=end_time\n",
    "    \n",
    "    group['trip_dep_time']=trp_dep_ls\n",
    "    return group"
   ]
  },
  {
   "cell_type": "code",
   "execution_count": null,
   "metadata": {
    "collapsed": false
   },
   "outputs": [],
   "source": [
    "result=myTrip.groupby(['sampno','perno']).apply(tripTime)\n",
    "print result[['sampno','perno','plano','tripno','act_strt_time','act_end_time','trip_dep_time','trip_arr_time']].head()\n",
    "print result['trip_dep_time'].isnull().sum()\n",
    "myTrip['trip_dep_time']=result['trip_dep_time']\n",
    "print myTrip['trip_dep_time'].isnull().sum()\n",
    "#del result"
   ]
  },
  {
   "cell_type": "markdown",
   "metadata": {},
   "source": [
    "### Calculate activity dwell time and trip duration time"
   ]
  },
  {
   "cell_type": "code",
   "execution_count": null,
   "metadata": {
    "collapsed": false
   },
   "outputs": [],
   "source": [
    "'''Step7'''\n",
    "myTrip['act_end_time'].replace(1439,1440, inplace=True) #should be 1440 not 1439 since the survey ended before 3:00 am of the next day\n",
    "myTrip['act_dwell']=myTrip['act_end_time']-myTrip['act_strt_time']\n",
    "print myTrip['act_dwell'].min()\n",
    "print myTrip['act_dwell'].max()\n",
    "myTrip['trip_duration']=myTrip['trip_arr_time']-myTrip['trip_dep_time']\n",
    "print myTrip['trip_duration'].min()\n",
    "print myTrip['trip_duration'].max()"
   ]
  },
  {
   "cell_type": "code",
   "execution_count": null,
   "metadata": {
    "collapsed": false
   },
   "outputs": [],
   "source": [
    "'''Step7.1: check if sum of trip duration and act dwell is 1440'''\n",
    "myTrip.loc[myTrip['tripno']==1,'initial_home']=myTrip['end_time_first']\n",
    "myTrip.loc[myTrip['tripno']!=1,'initial_home']=0\n",
    "myTrip.loc[(myTrip['tripno']==myTrip['notrip']),'final_home']=1440-myTrip['act_end_time']\n",
    "myTrip.loc[(myTrip['tripno']!=myTrip['notrip']),'final_home']=0\n",
    "print myTrip[['sampno','perno','tripno','act_strt_time','act_end_time','end_time_first','initial_home','final_home']].head(10)"
   ]
  },
  {
   "cell_type": "code",
   "execution_count": null,
   "metadata": {
    "collapsed": false
   },
   "outputs": [],
   "source": [
    "check_sampno\n",
    "def checkDur(group): #groupby sampno and perno\n",
    "    global check_sampno\n",
    "    sampno=group.sampno.tolist()[0]#take sampno\n",
    "    act_dwell=sum(group.act_dwell.tolist())\n",
    "    trp_dur=sum(group.trip_duration.tolist())\n",
    "    initial_home=sum(group.initial_home.tolist())\n",
    "    final_home=sum(group.final_home.tolist())\n",
    "    check=act_dwell+trp_dur+initial_home+final_home\n",
    "    if check!=1440:\n",
    "        check_sampno.append(sampno)\n",
    "    return group\n",
    "\n",
    "myTrip.groupby(['sampno','perno']).apply(checkDur)\n",
    "print check_sampno"
   ]
  },
  {
   "cell_type": "code",
   "execution_count": null,
   "metadata": {
    "collapsed": true
   },
   "outputs": [],
   "source": [
    "# write myTrip myAct3 and myPlace5 to pickles\n",
    "myAct3.to_pickle('C:/Users/jiz13007/Documents/CAMMSE/California House Travel Survey/code/pickle data new/myAct3.pkl')\n",
    "myPlace5.to_pickle('C:/Users/jiz13007/Documents/CAMMSE/California House Travel Survey/code/pickle data new/myPlace5.pkl')\n",
    "myTrip.to_pickle('C:/Users/jiz13007/Documents/CAMMSE/California House Travel Survey/code/pickle data new/myTrip_process.pkl')"
   ]
  },
  {
   "cell_type": "markdown",
   "metadata": {},
   "source": [
    "### Create personid, tripid by concatenating sampno+perno+tripno"
   ]
  },
  {
   "cell_type": "code",
   "execution_count": null,
   "metadata": {
    "collapsed": false
   },
   "outputs": [],
   "source": [
    "myTrip['tripno_x1']=myTrip['tripno'].astype('float') #first convert tripno as float\n",
    "myTrip['tripno_x2']=myTrip['tripno_x1'].astype('int') #then convert float to int\n",
    "myTrip['tripno_x']=myTrip['tripno_x2'].apply(lambda x: '{0:0>2}'.format(x))\n",
    "print myTrip['tripno_x'].head()\n",
    "print myTrip['tripno_x'].value_counts()\n",
    "print myTrip['tripno'].value_counts()\n",
    "myTrip['plano_x']=myTrip['plano'].apply(lambda x: '{0:0>2}'.format(x))\n",
    "print myTrip['plano_x'].head()\n",
    "print myTrip['plano_x'].value_counts()\n",
    "print myTrip['plano'].value_counts()\n",
    "myTrip['perno_x']=myTrip['perno'].apply(lambda x: '{0:0>2}'.format(x))\n",
    "print myTrip['perno_x'].head()\n",
    "print myTrip['perno_x'].value_counts()\n",
    "print myTrip['perno'].value_counts()\n",
    "myTrip['trpid'] = myTrip[\"sampno\"].map(str) + myTrip[\"perno_x\"].map(str)+myTrip[\"tripno_x\"].map(str)\n",
    "myTrip['perid'] = myTrip[\"sampno\"].map(str) + myTrip[\"perno_x\"].map(str)\n",
    "myTrip['plaid'] = myTrip[\"sampno\"].map(str) + myTrip[\"perno_x\"].map(str)+myTrip[\"plano_x\"].map(str)"
   ]
  },
  {
   "cell_type": "code",
   "execution_count": null,
   "metadata": {
    "collapsed": false
   },
   "outputs": [],
   "source": [
    "print myTrip[['sampno','perno','perid','plano','plaid','tripno','trpid']].head()"
   ]
  },
  {
   "cell_type": "code",
   "execution_count": null,
   "metadata": {
    "collapsed": false
   },
   "outputs": [],
   "source": [
    "del myTrip['tripno_x1']\n",
    "del myTrip['tripno_x2']\n",
    "del myTrip['tripno_x']"
   ]
  },
  {
   "cell_type": "code",
   "execution_count": null,
   "metadata": {
    "collapsed": false
   },
   "outputs": [],
   "source": [
    "myTrip.sort_values(['sampno','perno','tripno'], ascending=[True,True,True], inplace=True)\n",
    "myTrip.reset_index(drop=True,inplace = True)\n",
    "myTrip.to_pickle('C:/Users/jiz13007/Documents/CAMMSE/California House Travel Survey/code/pickle data new/myTrip_process1.pkl')"
   ]
  },
  {
   "cell_type": "markdown",
   "metadata": {},
   "source": [
    "### Create hh_member variables to indicate the hh members that in the trip"
   ]
  },
  {
   "cell_type": "code",
   "execution_count": null,
   "metadata": {
    "collapsed": false
   },
   "outputs": [],
   "source": [
    "#read hh file\n",
    "hh=read_csv('C:/Users/jiz13007/Documents/CAMMSE/California House Travel Survey/caltrans_full_survey/caltrans_full_survey/survey_households.csv')\n",
    "print hh.head()\n",
    "print hh.shape\n",
    "#sort trip file by sampno perno plano and tripno\n",
    "hh.sort_values(['sampno'], ascending=[True], inplace=True)\n",
    "hh.reset_index(drop=True,inplace = True)"
   ]
  },
  {
   "cell_type": "code",
   "execution_count": null,
   "metadata": {
    "collapsed": false
   },
   "outputs": [],
   "source": [
    "hh['persons_count'].value_counts()"
   ]
  },
  {
   "cell_type": "code",
   "execution_count": null,
   "metadata": {
    "collapsed": false
   },
   "outputs": [],
   "source": [
    "#Check if there are duplicates\n",
    "print sum(myTrip['per1']==myTrip['per2'])\n",
    "print sum(myTrip['per1']==myTrip['per3'])\n",
    "print sum(myTrip['per1']==myTrip['per4'])\n",
    "print sum(myTrip['per1']==myTrip['per5'])\n",
    "print sum(myTrip['per2']==myTrip['per3'])\n",
    "print sum(myTrip['per2']==myTrip['per4'])\n",
    "print sum(myTrip['per2']==myTrip['per5'])\n",
    "print sum(myTrip['per3']==myTrip['per4'])\n",
    "print sum(myTrip['per3']==myTrip['per5'])\n",
    "print sum(myTrip['per4']==myTrip['per5'])\n",
    "print sum(myTrip['perno']==myTrip['per1'])\n",
    "print sum(myTrip['perno']==myTrip['per2'])\n",
    "print sum(myTrip['perno']==myTrip['per3'])\n",
    "print sum(myTrip['perno']==myTrip['per4'])\n",
    "print sum(myTrip['perno']==myTrip['per5'])\n"
   ]
  },
  {
   "cell_type": "code",
   "execution_count": null,
   "metadata": {
    "collapsed": false
   },
   "outputs": [],
   "source": [
    "hhmem1=((myTrip['perno']==1)|(myTrip['per1']==1)|(myTrip['per2']==1)|(myTrip['per3']==1)|(myTrip['per4']==1)|(myTrip['per5']==1))\n",
    "print hhmem1.value_counts()\n",
    "hhmem2=((myTrip['perno']==2)|(myTrip['per1']==2)|(myTrip['per2']==2)|(myTrip['per3']==2)|(myTrip['per4']==2)|(myTrip['per5']==2))\n",
    "print hhmem2.value_counts()\n",
    "hhmem3=((myTrip['perno']==3)|(myTrip['per1']==3)|(myTrip['per2']==3)|(myTrip['per3']==3)|(myTrip['per4']==3)|(myTrip['per5']==3))\n",
    "print hhmem3.value_counts()\n",
    "hhmem4=((myTrip['perno']==4)|(myTrip['per1']==4)|(myTrip['per2']==4)|(myTrip['per3']==4)|(myTrip['per4']==4)|(myTrip['per5']==4))\n",
    "print hhmem4.value_counts()\n",
    "hhmem5=((myTrip['perno']==5)|(myTrip['per1']==5)|(myTrip['per2']==5)|(myTrip['per3']==5)|(myTrip['per4']==5)|(myTrip['per5']==5))\n",
    "print hhmem5.value_counts()\n",
    "hhmem6=((myTrip['perno']==6)|(myTrip['per1']==6)|(myTrip['per2']==6)|(myTrip['per3']==6)|(myTrip['per4']==6)|(myTrip['per5']==6))\n",
    "print hhmem6.value_counts()\n",
    "hhmem7=((myTrip['perno']==7)|(myTrip['per1']==7)|(myTrip['per2']==7)|(myTrip['per3']==7)|(myTrip['per4']==7)|(myTrip['per5']==7))\n",
    "print hhmem7.value_counts()\n",
    "hhmem8=((myTrip['perno']==8)|(myTrip['per1']==8)|(myTrip['per2']==8)|(myTrip['per3']==8)|(myTrip['per4']==8)|(myTrip['per5']==8))\n",
    "print hhmem8.value_counts()"
   ]
  },
  {
   "cell_type": "code",
   "execution_count": null,
   "metadata": {
    "collapsed": false
   },
   "outputs": [],
   "source": [
    "myTrip['hhmember1']=0\n",
    "myTrip.loc[hhmem1, 'hhmember1']=1\n",
    "print myTrip['hhmember1'].value_counts()\n",
    "\n",
    "myTrip['hhmember2']=0\n",
    "myTrip.loc[hhmem2, 'hhmember2']=1\n",
    "print myTrip['hhmember2'].value_counts()\n",
    "\n",
    "myTrip['hhmember3']=0\n",
    "myTrip.loc[hhmem3, 'hhmember3']=1\n",
    "print myTrip['hhmember3'].value_counts()\n",
    "\n",
    "myTrip['hhmember4']=0\n",
    "myTrip.loc[hhmem4, 'hhmember4']=1\n",
    "print myTrip['hhmember4'].value_counts()\n",
    "\n",
    "myTrip['hhmember5']=0\n",
    "myTrip.loc[hhmem5, 'hhmember5']=1\n",
    "print myTrip['hhmember5'].value_counts()\n",
    "\n",
    "myTrip['hhmember6']=0\n",
    "myTrip.loc[hhmem6, 'hhmember6']=1\n",
    "print myTrip['hhmember6'].value_counts()\n",
    "\n",
    "myTrip['hhmember7']=0\n",
    "myTrip.loc[hhmem7, 'hhmember7']=1\n",
    "print myTrip['hhmember7'].value_counts()\n",
    "\n",
    "myTrip['hhmember8']=0\n",
    "myTrip.loc[hhmem8, 'hhmember8']=1\n",
    "print myTrip['hhmember8'].value_counts()\n"
   ]
  },
  {
   "cell_type": "code",
   "execution_count": null,
   "metadata": {
    "collapsed": false
   },
   "outputs": [],
   "source": [
    "#Calculate travelers_hh\n",
    "myTrip['travelers_hh_cal']=myTrip['hhmember1']+myTrip['hhmember2']+myTrip['hhmember3']+myTrip['hhmember4']+myTrip['hhmember5']+myTrip['hhmember6']+myTrip['hhmember7']+myTrip['hhmember8']"
   ]
  },
  {
   "cell_type": "code",
   "execution_count": null,
   "metadata": {
    "collapsed": false
   },
   "outputs": [],
   "source": [
    "#missing values in tottr, hhmem, non_hh_members\n",
    "#replace missing in non_hh_members as 0, replace -1 as 0\n",
    "#replace missing in hhmem as calcuated value\n",
    "#replace missing in tottr as calcuated value\n",
    "print myTrip['tottr'].isnull().sum()\n",
    "print myTrip['hhmem'].isnull().sum()\n",
    "print myTrip['non_hh_members'].isnull().sum()\n",
    "myTrip['non_hh_members_recode']=myTrip['non_hh_members']\n",
    "myTrip['non_hh_members_recode'].replace(np.nan,0,inplace=True)\n",
    "myTrip['non_hh_members_recode'].replace(-1,0,inplace=True)\n",
    "myTrip['hhmem_recode']=myTrip['hhmem']+1\n",
    "myTrip.loc[myTrip['hhmem_recode'].isnull(),'hhmem_recode']=myTrip['travelers_hh_cal']\n",
    "myTrip['tottr_recode']=myTrip['tottr']\n",
    "myTrip.loc[myTrip['tottr_recode'].isnull(),'tottr_recode']=myTrip['travelers_hh_cal']\n",
    "print myTrip['tottr_recode'].isnull().sum()\n",
    "print myTrip['hhmem_recode'].isnull().sum()\n",
    "print myTrip['non_hh_members_recode'].isnull().sum()"
   ]
  },
  {
   "cell_type": "code",
   "execution_count": null,
   "metadata": {
    "collapsed": false
   },
   "outputs": [],
   "source": [
    "print sum(myTrip['travelers_hh_cal']!=myTrip['hhmem_recode']) #25 records do not match. Okay because only 5 hh can be reported\n",
    "print sum(myTrip['tottr_recode']!=myTrip['hhmem_recode']+myTrip['non_hh_members_recode']) #8 records do not match\n",
    "myTrip['tottr_cal']=myTrip['hhmem_recode']+myTrip['non_hh_members_recode']\n",
    "print myTrip['tottr_cal'].min()\n",
    "print myTrip['tottr_cal'].max()\n",
    "print myTrip['tottr_cal'].isnull().sum()"
   ]
  },
  {
   "cell_type": "markdown",
   "metadata": {},
   "source": [
    "### Create origin/destination location variables"
   ]
  },
  {
   "cell_type": "code",
   "execution_count": null,
   "metadata": {
    "collapsed": false
   },
   "outputs": [],
   "source": [
    "'''Read the data from text file and convert in into a dataframe'''\n",
    "myAct3=read_pickle('C:/Users/jiz13007/Documents/CAMMSE/California House Travel Survey/code/pickle data new/myAct3.pkl')\n",
    "print (myAct3.shape)\n",
    "    \n",
    "# Sort the trip file\n",
    "myAct3.sort_values(['sampno','perno','plano','tripno','actno'], ascending=[True,True,True,True,True], inplace=True)\n",
    "myAct3.reset_index(drop=True,inplace = True)\n",
    "\n",
    "#Column (25) contains character Ã\n",
    "#print myAct.head(10)\n",
    "\n",
    "myPlace5=read_pickle('C:/Users/jiz13007/Documents/CAMMSE/California House Travel Survey/code/pickle data new/myPlace5.pkl')\n",
    "#print (myPlace.shape)\n",
    "\n",
    "# Sort the place file\n",
    "myPlace5.sort_values(['sampno','perno','plano','tripno'], ascending=[True,True,True,True], inplace=True)\n",
    "myPlace5.reset_index(drop=True,inplace = True)\n",
    "print myPlace5.shape\n",
    "#print myPlace.head()\n",
    "\n",
    "myTrip=read_pickle('C:/Users/jiz13007/Documents/CAMMSE/California House Travel Survey/code/pickle data new/survey_trip.pkl')\n",
    "#print (myPlace.shape)\n",
    "\n",
    "# Sort the place file\n",
    "myTrip.sort_values(['sampno','perno','plano','tripno'], ascending=[True,True,True,True], inplace=True)\n",
    "myTrip.reset_index(drop=True,inplace = True)\n",
    "print myTrip.shape\n",
    "#print myPlace.head()"
   ]
  },
  {
   "cell_type": "code",
   "execution_count": null,
   "metadata": {
    "collapsed": false
   },
   "outputs": [],
   "source": [
    "# Get the origin location variables of first trip (tripno==0)\n",
    "loc_ori=myPlace5.loc[myPlace5['tripno']==0,('sampno','perno','tract_id','county_id','state_id')]\n",
    "print loc_ori.shape\n",
    "print loc_ori[['sampno','perno','tract_id','county_id','state_id']].head()\n",
    "print loc_ori['tract_id'].isnull().sum()\n",
    "print loc_ori['tract_id'].min()\n",
    "print loc_ori['tract_id'].max()\n",
    "print loc_ori['county_id'].isnull().sum()\n",
    "print loc_ori['county_id'].min()\n",
    "print loc_ori['county_id'].max()\n",
    "print loc_ori['state_id'].isnull().sum()\n",
    "print loc_ori['state_id'].min()\n",
    "print loc_ori['state_id'].max()\n",
    "loc_ori.columns=['sampno','perno','tract_id_first','county_id_first','state_id_first']\n",
    "myTrip1=merge(myTrip,loc_ori, on=['sampno','perno'], how='left')\n",
    "print myTrip1.shape"
   ]
  },
  {
   "cell_type": "code",
   "execution_count": null,
   "metadata": {
    "collapsed": false
   },
   "outputs": [],
   "source": [
    "myTrip1[['sampno','perno','tripno','tract_id','county_id','state_id','tract_id_first','county_id_first','state_id_first']].head()"
   ]
  },
  {
   "cell_type": "code",
   "execution_count": null,
   "metadata": {
    "collapsed": true
   },
   "outputs": [],
   "source": [
    "myTrip1['d_tract_id']=myTrip1['tract_id']\n",
    "myTrip1['d_county_id']=myTrip1['county_id']\n",
    "myTrip1['d_state_id']=myTrip1['state_id']"
   ]
  },
  {
   "cell_type": "code",
   "execution_count": null,
   "metadata": {
    "collapsed": false
   },
   "outputs": [],
   "source": [
    "#destination location is the origin location of next trip\n",
    "def oriTract(group): #groupby smapno, perno\n",
    "    tripid=group.tripno.tolist()\n",
    "    sze=len(tripid)\n",
    "    dtract_ls=group.d_tract_id.tolist()[:-1] #Take all but the last one\n",
    "    tract_first=group.tract_id_first.tolist()[0] #Take the first one\n",
    "    \n",
    "    o_tract_ls=[-999 for x in xrange(sze)]\n",
    "    \n",
    "    if sze==1: #only made one trip\n",
    "        o_tract_ls[0]=tract_first\n",
    "        \n",
    "    else: \n",
    "        o_tract_ls[0]=tract_first \n",
    "        \n",
    "        for i in xrange(len(dtract_ls)):\n",
    "            o_tract_id=dtract_ls[i]\n",
    "            o_tract_ls[i+1]=o_tract_id\n",
    "\n",
    "    \n",
    "    group['o_tract_id']=o_tract_ls\n",
    "    return group\n",
    "print 'DONE'"
   ]
  },
  {
   "cell_type": "code",
   "execution_count": null,
   "metadata": {
    "collapsed": true
   },
   "outputs": [],
   "source": [
    "result=myTrip1.groupby(['sampno','perno']).apply(oriTract)\n",
    "print sum(result['o_tract_id']==-999)\n",
    "print result[['sampno','perno','tripno','tract_id_first','o_tract_id','d_tract_id']].head(10)\n",
    "myTrip1['o_tract_id']=result['o_tract_id']\n",
    "del result"
   ]
  },
  {
   "cell_type": "code",
   "execution_count": null,
   "metadata": {
    "collapsed": true
   },
   "outputs": [],
   "source": [
    "#destination location is the origin location of next trip\n",
    "def oriCounty(group): #groupby smapno, perno\n",
    "    tripid=group.tripno.tolist()\n",
    "    sze=len(tripid)\n",
    "    dcounty_ls=group.d_county_id.tolist()[:-1] #Take all but the last one\n",
    "    county_first=group.county_id_first.tolist()[0] #Take the first one\n",
    "    \n",
    "    o_county_ls=[-999 for x in xrange(sze)]\n",
    "    \n",
    "    if sze==1: #only made one trip\n",
    "        o_county_ls[0]=county_first\n",
    "        \n",
    "    else: \n",
    "        o_county_ls[0]=county_first \n",
    "        \n",
    "        for i in xrange(len(dcounty_ls)):\n",
    "            o_county_id=dcounty_ls[i]\n",
    "            o_county_ls[i+1]=o_county_id\n",
    "\n",
    "    \n",
    "    group['o_county_id']=o_county_ls\n",
    "    return group\n",
    "print 'DONE'"
   ]
  },
  {
   "cell_type": "code",
   "execution_count": null,
   "metadata": {
    "collapsed": true
   },
   "outputs": [],
   "source": [
    "result=myTrip1.groupby(['sampno','perno']).apply(oriCounty)\n",
    "print sum(result['o_county_id']==-999)\n",
    "#print result[['sampno','perno','tripno','county_id_first','o_county_id','d_county_id']].tail(50)\n",
    "print result.loc[result['sampno']==7211944,('perno','tripno','county_id_first','o_county_id','d_county_id')]\n",
    "myTrip1['o_county_id']=result['o_county_id']\n",
    "del result"
   ]
  },
  {
   "cell_type": "code",
   "execution_count": null,
   "metadata": {
    "collapsed": true
   },
   "outputs": [],
   "source": [
    "myTrip1.to_pickle('C:/Users/jiz13007/Documents/CAMMSE/California House Travel Survey/code/pickle data new/trip_processing3.pkl')"
   ]
  },
  {
   "cell_type": "code",
   "execution_count": null,
   "metadata": {
    "collapsed": true
   },
   "outputs": [],
   "source": [
    "#destination location is the origin location of next trip\n",
    "def oriState(group): #groupby smapno, perno\n",
    "    tripid=group.tripno.tolist()\n",
    "    sze=len(tripid)\n",
    "    dstate_ls=group.d_state_id.tolist()[:-1] #Take all but the last one\n",
    "    state_first=group.state_id_first.tolist()[0] #Take the first one\n",
    "    \n",
    "    o_state_ls=[-999 for x in xrange(sze)]\n",
    "    \n",
    "    if sze==1: #only made one trip\n",
    "        o_state_ls[0]=state_first\n",
    "        \n",
    "    else: \n",
    "        o_state_ls[0]=state_first \n",
    "        \n",
    "        for i in xrange(len(dstate_ls)):\n",
    "            o_state_id=dstate_ls[i]\n",
    "            o_state_ls[i+1]=o_state_id\n",
    "\n",
    "    \n",
    "    group['o_state_id']=o_state_ls\n",
    "    return group\n",
    "print 'DONE'"
   ]
  },
  {
   "cell_type": "code",
   "execution_count": null,
   "metadata": {
    "collapsed": true
   },
   "outputs": [],
   "source": [
    "result=myTrip1.groupby(['sampno','perno']).apply(oriState)\n",
    "print sum(result['o_state_id']==-999)\n",
    "print result[['sampno','perno','tripno','tract_id_first','o_tract_id','d_tract_id','state_id_first','o_state_id','d_state_id']].head(10)\n",
    "myTrip1['o_state_id']=result['o_state_id']\n",
    "del result"
   ]
  },
  {
   "cell_type": "markdown",
   "metadata": {},
   "source": [
    "### Done! Write trip file"
   ]
  },
  {
   "cell_type": "code",
   "execution_count": null,
   "metadata": {
    "collapsed": false
   },
   "outputs": [],
   "source": [
    "##Done !!! The variables need for tour formation are created.\n",
    "##Write trip file\n",
    "myTrip1.to_pickle('C:/Users/jiz13007/Documents/CAMMSE/California House Travel Survey/code/pickle data new/Trips/survey_trip.pkl')"
   ]
  },
  {
   "cell_type": "code",
   "execution_count": null,
   "metadata": {
    "collapsed": false
   },
   "outputs": [],
   "source": [
    "myTrip1[['sampno','perno','plano','tripno','trpid']].head()"
   ]
  },
  {
   "cell_type": "code",
   "execution_count": null,
   "metadata": {
    "collapsed": false
   },
   "outputs": [],
   "source": [
    "myTrip1['d_pur'].value_counts().sort_index()"
   ]
  }
 ],
 "metadata": {
  "anaconda-cloud": {},
  "kernelspec": {
   "display_name": "Python [default]",
   "language": "python",
   "name": "python2"
  },
  "language_info": {
   "codemirror_mode": {
    "name": "ipython",
    "version": 2
   },
   "file_extension": ".py",
   "mimetype": "text/x-python",
   "name": "python",
   "nbconvert_exporter": "python",
   "pygments_lexer": "ipython2",
   "version": "2.7.12"
  }
 },
 "nbformat": 4,
 "nbformat_minor": 1
}
