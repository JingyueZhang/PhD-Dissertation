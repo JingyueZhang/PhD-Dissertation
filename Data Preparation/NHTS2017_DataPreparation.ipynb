{
 "cells": [
  {
   "cell_type": "markdown",
   "metadata": {},
   "source": [
    "### This script is used to characterize individuals' daily activity-travel patterns as categorical time series using data from NHTS 2017"
   ]
  },
  {
   "cell_type": "code",
   "execution_count": null,
   "metadata": {
    "collapsed": true
   },
   "outputs": [],
   "source": [
    "#import libraries\n",
    "from savReaderWriter import *\n",
    "from pandas import *\n",
    "import numpy as np\n",
    "from collections import Counter\n",
    "from dateutil.parser import parse\n",
    "%matplotlib inline\n",
    "import matplotlib.pyplot as plt"
   ]
  },
  {
   "cell_type": "code",
   "execution_count": null,
   "metadata": {
    "collapsed": false
   },
   "outputs": [],
   "source": [
    "#Read data files\n",
    "trp = read_csv('C:/Users/jiz13007/Documents/Profile of Existing Travelers and Exploring Transforability for AV futures/NHTS Datasets/2017/trippub.csv')\n",
    "print trp.shape"
   ]
  },
  {
   "cell_type": "code",
   "execution_count": null,
   "metadata": {
    "collapsed": false
   },
   "outputs": [],
   "source": [
    "print trp[['HOUSEID','PERSONID','TDTRPNUM','STRTTIME','ENDTIME','TRVLCMIN']].head(10)"
   ]
  },
  {
   "cell_type": "code",
   "execution_count": null,
   "metadata": {
    "collapsed": false
   },
   "outputs": [],
   "source": [
    "# First is to check if all trips made by a person starts from 1\n",
    "trp['CHECK_TRPNUM']=trp.groupby(['HOUSEID','PERSONID'])['TDTRPNUM'].transform('min')\n",
    "print sum(trp['CHECK_TRPNUM']==1), sum(trp['CHECK_TRPNUM']!=1) # no issue was found, all person trip IDs start from 1"
   ]
  },
  {
   "cell_type": "markdown",
   "metadata": {},
   "source": [
    "### Create atttributes"
   ]
  },
  {
   "cell_type": "code",
   "execution_count": null,
   "metadata": {
    "collapsed": true
   },
   "outputs": [],
   "source": [
    "'''STRTTIME:Trip start Time\n",
    "0000- 2359'''\n",
    "'''ENDTIME: Trip end time'''\n",
    "'''TRVLCMIN: Trip duration in minutes\n",
    "-9: Not ascertain\n",
    "0-1200'''"
   ]
  },
  {
   "cell_type": "code",
   "execution_count": null,
   "metadata": {
    "collapsed": false
   },
   "outputs": [],
   "source": [
    "print trp['STRTTIME'].min(), trp['STRTTIME'].max()\n",
    "print trp['ENDTIME'].min(), trp['ENDTIME'].max()\n",
    "print trp['TRVLCMIN'].min(),trp['TRVLCMIN'].max()"
   ]
  },
  {
   "cell_type": "code",
   "execution_count": null,
   "metadata": {
    "collapsed": true
   },
   "outputs": [],
   "source": [
    "''' Survey starts from 4:00 am to 3:59 am of the next day'''"
   ]
  },
  {
   "cell_type": "code",
   "execution_count": null,
   "metadata": {
    "collapsed": false
   },
   "outputs": [],
   "source": [
    "trp['STRTTIME_R']=[a if a>=400 else (a+2400) for a in trp['STRTTIME'].tolist()]\n",
    "trp['ENDTIME_R']=[a if a>=400 else (a+2400) for a in trp['ENDTIME'].tolist()]\n",
    "print trp['STRTTIME_R'].min(), trp['ENDTIME_R'].min()\n",
    "print trp['STRTTIME_R'].max(), trp['ENDTIME_R'].max()"
   ]
  },
  {
   "cell_type": "code",
   "execution_count": null,
   "metadata": {
    "collapsed": false
   },
   "outputs": [],
   "source": [
    "# Convert STRTTIME for calculating activity duration\n",
    "trp['STRT_HR']=trp['STRTTIME_R']//100\n",
    "trp['STRT_MIN']=trp['STRTTIME_R']%100\n",
    "trp['END_HR']=trp['ENDTIME_R']//100\n",
    "trp['END_MIN']=trp['ENDTIME_R']%100\n",
    "trp['STRTTIME_CONVERT']=trp['STRT_HR']*60+trp['STRT_MIN']\n",
    "trp['ENDTIME_CONVERT']=trp['END_HR']*60+trp['END_MIN']\n",
    "print trp['STRT_HR'].min(), trp['STRT_HR'].max()\n",
    "print trp['STRT_MIN'].min(), trp['STRT_MIN'].max()\n",
    "print trp['END_HR'].min(), trp['END_HR'].max()\n",
    "print trp['END_MIN'].min(), trp['END_MIN'].max()\n",
    "print trp['STRTTIME_CONVERT'].min(), trp['STRTTIME_CONVERT'].max()\n",
    "print trp['ENDTIME_CONVERT'].min(), trp['ENDTIME_CONVERT'].max()\n",
    "print trp[['TDTRPNUM','STRTTIME','START_HR','START_MIN','STRTTIME_CONVERT','ENDTIME','END_HR','END_MIN','ENDTIME_CONVERT']].head()"
   ]
  },
  {
   "cell_type": "code",
   "execution_count": null,
   "metadata": {
    "collapsed": false
   },
   "outputs": [],
   "source": [
    "# Check if TRVLCMIN matches with endtime-strtime\n",
    "trp['CHECK_TRVL']=trp['ENDTIME_CONVERT']-trp['STRTTIME_CONVERT']\n",
    "print trp['CHECK_TRVL'].min(), trp['CHECK_TRVL'].max()\n",
    "print sum((trp['CHECK_TRVL']!=trp['TRVLCMIN'])&(trp['TRVLCMIN']!=-9))\n",
    "print trp.loc[(trp['CHECK_TRVL']!=trp['TRVLCMIN']),('HOUSEID','PERSONID','TDTRPNUM')].head()\n",
    "print sum(trp['CHECK_TRVL']<=0), sum(trp['TRVLCMIN']==-9)\n",
    "\n",
    "# NEED TO REMOVE ALL PERSONS WITH NEGATIVE OR ZERO TRIP DURATION"
   ]
  },
  {
   "cell_type": "code",
   "execution_count": null,
   "metadata": {
    "collapsed": true
   },
   "outputs": [],
   "source": [
    "'''WHYTRP1S: Trip purpose summary\n",
    "1- Home\n",
    "10- Work\n",
    "20- School\n",
    "30- Medical\n",
    "40- Shopping\n",
    "50- Social\n",
    "70- Transport someone\n",
    "80- Meals\n",
    "97- Something elase'''"
   ]
  },
  {
   "cell_type": "code",
   "execution_count": null,
   "metadata": {
    "collapsed": false
   },
   "outputs": [],
   "source": [
    "## mandatory\n",
    "mandatory_filter=trp['WHYTRP1S'].isin([10,20])\n",
    "print sum(mandatory_filter)\n",
    "trp.loc[mandatory_filter, 'TYPE']=2\n",
    "\n",
    "## maintenance\n",
    "maintenance_filter=trp['WHYTRP1S'].isin([30,40,70,80])\n",
    "print sum(maintenance_filter)\n",
    "trp.loc[maintenance_filter, 'TYPE']=3\n",
    "\n",
    "## discretionary\n",
    "discretionary_filter=trp['WHYTRP1S'].isin([50,97])\n",
    "print sum(discretionary_filter)\n",
    "trp.loc[discretionary_filter, 'TYPE']=4\n",
    "\n",
    "# home\n",
    "home_filter=trp['WHYTRP1S']==1\n",
    "print sum(home_filter)\n",
    "trp.loc[home_filter, 'TYPE']=1\n",
    "\n",
    "print trp['TYPE'].value_counts().sort_index()\n",
    "print trp['TYPE'].isnull().sum()\n",
    "print trp['WHYTRP1S'].value_counts().sort_index()"
   ]
  },
  {
   "cell_type": "code",
   "execution_count": null,
   "metadata": {
    "collapsed": true
   },
   "outputs": [],
   "source": [
    "'''TRPTRANS: Transportation mode used on trip\n",
    "-9- Not ascertained\n",
    "-8- I don't know\n",
    "-7- I prefer not to answer\n",
    "1- walk\n",
    "2- bicycle\n",
    "3- Car\n",
    "4- SUV\n",
    "5- Van\n",
    "6- Pickup truck\n",
    "7- Golf cart/segway\n",
    "8- motorcycle\n",
    "9- RV\n",
    "10- school bus\n",
    "11- public or commuter bus\n",
    "12- paratransit \n",
    "13- private/charter/tour/shuttle bus\n",
    "14- city to city bus\n",
    "15- armtrack\n",
    "16- subway/elevated light rail\n",
    "17-Taxi\n",
    "18- Rental car\n",
    "19- Airplane\n",
    "20- Boat\n",
    "97- Something else\n",
    "'''"
   ]
  },
  {
   "cell_type": "code",
   "execution_count": null,
   "metadata": {
    "collapsed": false
   },
   "outputs": [],
   "source": [
    "#auto\n",
    "auto_filter=trp['TRPTRANS'].isin([3,4,5,6,18])\n",
    "print sum(auto_filter)\n",
    "trp.loc[auto_filter,'MODE']=1\n",
    "#public transit\n",
    "public_filter=trp['TRPTRANS'].isin([11,14,15,16])\n",
    "print sum(public_filter)\n",
    "trp.loc[public_filter,'MODE']=2\n",
    "#non-motorized\n",
    "nonmotor_filter=trp['TRPTRANS'].isin([1,2])\n",
    "print sum(nonmotor_filter)\n",
    "trp.loc[nonmotor_filter,'MODE']=3\n",
    "#other mode\n",
    "other_filter=trp['TRPTRANS'].isin([7,8,9,10,12,13,17,19,20,97])\n",
    "print sum(other_filter)\n",
    "trp.loc[other_filter,'MODE']=4\n",
    "print trp['MODE'].value_counts().sort_index()\n",
    "print trp['MODE'].isnull().sum(),'invalid mode records need to be removed'\n",
    "print trp['TRPTRANS'].value_counts().sort_index()"
   ]
  },
  {
   "cell_type": "code",
   "execution_count": null,
   "metadata": {
    "collapsed": false
   },
   "outputs": [],
   "source": [
    "## create filter to inidcate invalid records\n",
    "purfilter=trp['TYPE'].isnull()\n",
    "print sum(purfilter), 'invalid purpose filter'\n",
    "modefilter=trp['MODE'].isnull()\n",
    "print sum(modefilter), 'invalid mode filter'\n",
    "trpminfilter=(trp['CHECK_TRVL']<=0)\n",
    "print sum(trpminfilter), 'invalid duration'\n",
    "\n",
    "trp.loc[(purfilter|modefilter|trpminfilter),'invalid_indicator']=1\n",
    "trp['invalid_indicator'].replace(np.nan, 0, inplace=True)\n",
    "print sum(trp['invalid_indicator']==1),'invalid trips'\n",
    "\n",
    "## mark all trips made by persons who had one or more invalid record\n",
    "trp['invalid_per']=trp.groupby(['HOUSEID','PERSONID'])['invalid_indicator'].transform('max')\n",
    "print sum(trp['invalid_per']==1), 'all trips need to be removed'"
   ]
  },
  {
   "cell_type": "code",
   "execution_count": null,
   "metadata": {
    "collapsed": false
   },
   "outputs": [],
   "source": [
    "# remove invalid trips and create new dataframe\n",
    "trp2=trp.loc[trp['invalid_per']==0,:]\n",
    "print trp2.shape, trp.shape, len(trp)-len(trp2)\n",
    "print trp2['STRTTIME_CONVERT'].max(), 'latest start time'\n",
    "print trp2['ENDTIME_CONVERT'].max(),'latest arrivial time'\n",
    "print trp2['CHECK_TRVL'].min(),'shortest trip duration'\n",
    "print trp2['CHECK_TRVL'].max(), 'longest trip duration'\n",
    "print trp2['TYPE'].isnull().sum(), 'nan activity types'\n",
    "print trp2['MODE'].isnull().sum(), 'nan mode types'\n",
    "print trp2['STRTTIME_CONVERT'].isnull().sum(), 'nan start time'\n",
    "print trp2['ENDTIME_CONVERT'].isnull().sum(), 'nan end time'\n",
    "print trp2['CHECK_TRVL'].isnull().sum(), 'nan travel time'"
   ]
  },
  {
   "cell_type": "markdown",
   "metadata": {},
   "source": [
    "## Recode activity dwell time"
   ]
  },
  {
   "cell_type": "code",
   "execution_count": null,
   "metadata": {
    "collapsed": false
   },
   "outputs": [],
   "source": [
    "trp2.sort_values(['HOUSEID','PERSONID','TDTRPNUM'], ascending=[True,True,True], inplace=True)"
   ]
  },
  {
   "cell_type": "code",
   "execution_count": null,
   "metadata": {
    "collapsed": false
   },
   "outputs": [],
   "source": [
    "trp2['DWELTIME2']=trp2['DWELTIME']\n",
    "trp2['DWELTIME2']=[x if x!=-9 else (1680-y) for x,y in zip(trp2['DWELTIME'].tolist(),trp2['ENDTIME_CONVERT'].tolist())]\n",
    "trp2['FIRST_STRT']=[(x-240) if y==1 else 0 for x, y in zip(trp2['STRTTIME_CONVERT'].tolist(), trp2['TDTRPNUM'].tolist())]"
   ]
  },
  {
   "cell_type": "code",
   "execution_count": null,
   "metadata": {
    "collapsed": false
   },
   "outputs": [],
   "source": [
    "print trp2[['HOUSEID','PERSONID','TDTRPNUM','STRTTIME','STRTTIME_CONVERT','ENDTIME','ENDTIME_CONVERT','TRVLCMIN','DWELTIME','DWELTIME2','FIRST_STRT']].head(10)"
   ]
  },
  {
   "cell_type": "code",
   "execution_count": null,
   "metadata": {
    "collapsed": false
   },
   "outputs": [],
   "source": [
    "### check if the trip equals to 1440\n",
    "trp2['SUM_DWEL']=trp2.groupby(['HOUSEID','PERSONID'])['DWELTIME2'].transform('sum')\n",
    "trp2['SUM_TRVL']=trp2.groupby(['HOUSEID','PERSONID'])['CHECK_TRVL'].transform('sum')\n",
    "trp2['SUM_FIR']=trp2.groupby(['HOUSEID','PERSONID'])['FIRST_STRT'].transform('first')\n",
    "trp2['CHECK_DUR']=trp2['SUM_DWEL']+trp2['SUM_TRVL']+trp2['SUM_FIR']\n",
    "print trp2['CHECK_DUR'].value_counts()\n",
    "## remove the persons with invalid duration\n",
    "trp3=trp2.loc[trp2['CHECK_DUR']==1440]\n",
    "print trp3.shape"
   ]
  },
  {
   "cell_type": "code",
   "execution_count": null,
   "metadata": {
    "collapsed": false
   },
   "outputs": [],
   "source": [
    "## remove the persons with invalid duration \n",
    "trp2['ZERO_DUR']=trp2.groupby(['HOUSEID','PERSONID'])['DWELTIME2'].transform('min')\n",
    "print sum(trp2['ZERO_DUR']==0)\n",
    "trp3=trp2.loc[(trp2['CHECK_DUR']==1440)|(trp2['ZERO_DUR']==0)]\n",
    "print trp3.shape"
   ]
  },
  {
   "cell_type": "code",
   "execution_count": null,
   "metadata": {
    "collapsed": false
   },
   "outputs": [],
   "source": [
    "# Recode activity type so that mode and actvity code can be difficiated\n",
    "trp3.loc[trp3['MODE']==1,'MODE_RECODE']='A'\n",
    "trp3.loc[trp3['MODE']==2,'MODE_RECODE']='B'\n",
    "trp3.loc[trp3['MODE']==3,'MODE_RECODE']='C'\n",
    "trp3.loc[trp3['MODE']==4,'MODE_RECODE']='D'\n",
    "trp3.loc[trp3['TYPE']==1,'TYPE_RECODE']='E'\n",
    "trp3.loc[trp3['TYPE']==2,'TYPE_RECODE']='F'\n",
    "trp3.loc[trp3['TYPE']==3,'TYPE_RECODE']='G'\n",
    "trp3.loc[trp3['TYPE']==4,'TYPE_RECODE']='H'\n",
    "print trp3['TYPE_RECODE'].value_counts()\n",
    "print trp3['TYPE'].value_counts()\n",
    "print trp3['MODE_RECODE'].value_counts()\n",
    "print trp3['MODE'].value_counts()\n",
    "print trp3['TYPE_RECODE'].isnull().sum(),trp3['TYPE'].isnull().sum()\n",
    "print trp3['MODE_RECODE'].isnull().sum(),trp3['MODE'].isnull().sum()"
   ]
  },
  {
   "cell_type": "code",
   "execution_count": null,
   "metadata": {
    "collapsed": false
   },
   "outputs": [],
   "source": [
    "## Next is to create sequence/time series data for each individual\n",
    "trp3['TRIPSEQ']=[str(a)*b for a,b in zip (trp3['MODE_RECODE'], trp3['CHECK_TRVL'])]\n",
    "trp3['ACTSEQ']=[str(a)*b for a,b in zip (trp3['TYPE_RECODE'], trp3['DWELTIME2'])]\n",
    "trp3['FIRSEQ']=['T'*b for b in trp3['FIRST_STRT']]\n",
    "print trp3[['TDTRPNUM','MODE_RECODE','CHECK_TRVL','DWELTIME2','TRIPSEQ','ACTSEQ','FIRST_STRT','FIRSEQ']].head()"
   ]
  },
  {
   "cell_type": "code",
   "execution_count": null,
   "metadata": {
    "collapsed": false
   },
   "outputs": [],
   "source": [
    "trp3['TRPSEQ_ALL']=trp3['FIRSEQ'].map(str)+trp3['TRIPSEQ'].map(str)\n",
    "x=trp3.loc[0,'FIRSEQ']\n",
    "x1=''.join(x)\n",
    "print len(x1)\n",
    "y=trp3.loc[0,'TRIPSEQ']\n",
    "y1=''.join(y)\n",
    "print len(y1)\n",
    "z=trp3.loc[0,'TRPSEQ_ALL']\n",
    "z1=''.join(z)\n",
    "print len(z1)\n",
    "print trp3[['FIRST_STRT','TRVLCMIN','DWELTIME2']].head()"
   ]
  },
  {
   "cell_type": "code",
   "execution_count": null,
   "metadata": {
    "collapsed": false
   },
   "outputs": [],
   "source": [
    "trp3['ACTIVITY']=trp3['TRPSEQ_ALL'].map(str)+trp3['ACTSEQ'].map(str)\n",
    "print trp3[['TDTRPNUM','TRPSEQ_ALL','ACTSEQ','ACTIVITY']].head()\n",
    "perseq=trp3.groupby(['HOUSEID','PERSONID'])['ACTIVITY'].apply(list)\n",
    "print perseq.head()"
   ]
  },
  {
   "cell_type": "code",
   "execution_count": null,
   "metadata": {
    "collapsed": false
   },
   "outputs": [],
   "source": [
    "perseq=DataFrame(perseq)\n",
    "perseq.reset_index(inplace=True)\n",
    "print perseq.head()\n",
    "print perseq.shape"
   ]
  },
  {
   "cell_type": "code",
   "execution_count": null,
   "metadata": {
    "collapsed": false
   },
   "outputs": [],
   "source": [
    "# check if all sequences have length of 1440\n",
    "indexLS=perseq.index.tolist()\n",
    "for i in indexLS:\n",
    "    seq=perseq.loc[i,'ACTIVITY'] # list of sequence\n",
    "    seq1=''.join(seq)\n",
    "    cnt=len(seq1)\n",
    "    perseq.loc[i,'TXTSEQUENCE']=seq1\n",
    "    perseq.loc[i,'SEQ_LENGTH']=cnt\n",
    "\n",
    "print perseq['SEQ_LENGTH'].value_counts()"
   ]
  },
  {
   "cell_type": "markdown",
   "metadata": {},
   "source": [
    "### Write Data"
   ]
  },
  {
   "cell_type": "code",
   "execution_count": null,
   "metadata": {
    "collapsed": true
   },
   "outputs": [],
   "source": [
    "perseq.to_pickle('C:/Users/jiz13007/Documents/Pattern Recognition/NHTS sequence/2017_sequence.pkl')\n",
    "trp3.to_pickle('C:/Users/jiz13007/Documents/Pattern Recognition/NHTS sequence/2017_trips.pkl')"
   ]
  },
  {
   "cell_type": "code",
   "execution_count": null,
   "metadata": {
    "collapsed": true
   },
   "outputs": [],
   "source": []
  }
 ],
 "metadata": {
  "anaconda-cloud": {},
  "kernelspec": {
   "display_name": "Python [default]",
   "language": "python",
   "name": "python2"
  },
  "language_info": {
   "codemirror_mode": {
    "name": "ipython",
    "version": 2
   },
   "file_extension": ".py",
   "mimetype": "text/x-python",
   "name": "python",
   "nbconvert_exporter": "python",
   "pygments_lexer": "ipython2",
   "version": "2.7.12"
  }
 },
 "nbformat": 4,
 "nbformat_minor": 1
}
