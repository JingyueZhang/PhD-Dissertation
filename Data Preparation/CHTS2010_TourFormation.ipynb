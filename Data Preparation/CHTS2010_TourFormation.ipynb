{
 "cells": [
  {
   "cell_type": "markdown",
   "metadata": {},
   "source": [
    "###### Tour formation code - extract home based tours and work based sub tours from trip file\n",
    "###### Create following (major) additional variables for both types of tours\n",
    "###### 1. tour id\n",
    "###### 2. number of trips that constitite the tour\n",
    "###### 3. concatenated trip ids that constitite the tour\n",
    "###### 3. tour purpose\n",
    "###### 4. primary activity dwell time\n",
    "###### 5. stop count by purpose\n",
    "###### 6. tour occupancy type (fully joint or partially joint or individual) \n",
    "###### 7. tour occupant list (list of the member ids)\n",
    "###### 8. member list and mandatory tour id of the escort for each 'half tour' of home based school tours\n",
    "\n",
    "\n",
    "###### Originally created by Annesha Enam, 2016\n",
    "###### Modified by Jingyue Zhang for California Household Travel Survey, 2017"
   ]
  },
  {
   "cell_type": "code",
   "execution_count": null,
   "metadata": {
    "collapsed": true
   },
   "outputs": [],
   "source": [
    "# Read file from pickle\n",
    "from pandas import *\n",
    "import numpy as np\n",
    "from collections import Counter\n",
    "import csv\n",
    "import matplotlib.pyplot as plt\n",
    "from savReaderWriter import * \n",
    "from pickle import *"
   ]
  },
  {
   "cell_type": "markdown",
   "metadata": {},
   "source": [
    "#### survey_trip1"
   ]
  },
  {
   "cell_type": "code",
   "execution_count": null,
   "metadata": {
    "collapsed": false
   },
   "outputs": [],
   "source": [
    "'''Read the data from text file and convert in into a dataframe'''\n",
    "myTrip=read_pickle('C:/Users/jiz13007/Documents/CAMMSE/California House Travel Survey/code/pickle data/Full Survey Trip/survey_trip1.pkl')\n",
    "print myTrip.head()\n",
    "print myTrip.shape\n",
    "# Sort the trip file\n",
    "myTrip.sort_values(['sampno','perno','tripno'], ascending=[True, True, True], inplace=True)\n",
    "myTrip.reset_index(drop=True,inplace = True)"
   ]
  },
  {
   "cell_type": "code",
   "execution_count": null,
   "metadata": {
    "collapsed": false
   },
   "outputs": [],
   "source": [
    "# 01. IDENTIFY HOME BASED TOURS\n",
    "\n",
    "def extractTour (group):  # Grouped by hhid, personid\n",
    "    '''Extracts home_based tours\n",
    "       Assign a person specific unique ID'''\n",
    "    \n",
    "    global o_pur, d_pur, what_to_extract\n",
    "    \n",
    "    o_purpose = group[o_pur].tolist()  # list of origin purpose\n",
    "    d_purpose= group[d_pur].tolist()  # list of destination purpose\n",
    "    \n",
    "    tour = 0\n",
    "    o_purpose_id = 0\n",
    "    d_purpose_id = 0\n",
    "    tour_id = [tour for i in xrange(len(o_purpose))] #start with zero tours\n",
    "    flag1 = 0\n",
    "    flag2 = 0\n",
    "    flag3 = 0\n",
    "    \n",
    "    while (d_purpose_id < len(d_purpose)):\n",
    "        try:  # Catch origin\n",
    "            o_purpose_id = o_purpose.index(what_to_extract)  # Try to find the origin home              \n",
    "            \n",
    "            if (o_purpose_id > 0):  #if the first trip does not start from home, update d_purpose and o_purpose\n",
    "                d_purpose[:o_purpose_id] = [-999 for i in range(0,o_purpose_id)]  # update d_purpose\n",
    "                o_purpose[:o_purpose_id] = [-999 for i in range(0,o_purpose_id)] # update o_purpose\n",
    "                \n",
    "                if ((tour == 0)&(flag1==0)):\n",
    "                    flag1 = 1   # First trip does not start at home\t\n",
    "                    \n",
    "            try:  # Catch destination\n",
    "                d_purpose_id = d_purpose.index(what_to_extract)  # Found a tour, d_purpose_id should always be greater than o_purpose_id\n",
    "                    \n",
    "                if (d_purpose_id > o_purpose_id): # This check is done to avoid 1 leg tours   \n",
    "                    tour += 1 \n",
    "                    tour_id[o_purpose_id:d_purpose_id+1] = [tour for i in range(o_purpose_id,d_purpose_id+1)] # Assign tour id\n",
    "                    \n",
    "                o_purpose[o_purpose_id:d_purpose_id+1] = [-999 for i in range(o_purpose_id,d_purpose_id+1)] # update o_purpose\n",
    "                d_purpose[o_purpose_id:d_purpose_id+1]  = [-999 for i in range(o_purpose_id,d_purpose_id+1)] # update d_purpose\n",
    "                    \n",
    "            except:\n",
    "                flag2 = 1 # Return home trip not found\n",
    "                break                          \n",
    "        \n",
    "        except:\n",
    "            if (tour == 0):\n",
    "                flag3 = 1  # No trip starts from home, no trips were extracted for this person\n",
    "            break\n",
    "\n",
    "    '''Add new columns'''\t\t\n",
    "    group.loc[:,'Flag1'] = flag1\n",
    "    group.loc[:,'Flag2'] = flag2\n",
    "    group.loc[:,'Flag3'] = flag3\n",
    "    group.loc[:,'Tour_ID'] = tour_id \n",
    "    return group\n",
    "\n",
    "print 'Done1'"
   ]
  },
  {
   "cell_type": "code",
   "execution_count": null,
   "metadata": {
    "collapsed": false
   },
   "outputs": [],
   "source": [
    " # H1. Call to the extractTour function - purpose is to identify home based tours\n",
    "o_pur = 'o_pur'\n",
    "d_pur = 'd_pur'\n",
    "what_to_extract = -9  # This code is for home based tour extraction\n",
    "    \n",
    "result = myTrip.groupby(['sampno','perno'],group_keys=False).apply(extractTour)  # Call to the function\n",
    "myTrip['Tour_ID'] = result.Tour_ID\n",
    "myTrip['Flag1'] = result.Flag1  # First trip does not start at home\n",
    "myTrip['Flag2'] = result.Flag2  # Return home trip not found\n",
    "myTrip['Flag3'] = result.Flag3  # No trip starts at home\n",
    "print myTrip['Flag1'].value_counts()\n",
    "print myTrip['Flag2'].value_counts()\n",
    "print myTrip['Flag3'].value_counts()\n",
    "del result, o_pur, d_pur, what_to_extract\n",
    "print \"DONE!!! Home based tour extraction\"\n",
    "    "
   ]
  },
  {
   "cell_type": "code",
   "execution_count": null,
   "metadata": {
    "collapsed": false
   },
   "outputs": [],
   "source": [
    "print myTrip.loc[myTrip['Flag1']==1,('sampno','perno','tripno','o_pur','d_pur')].head()\n",
    "print myTrip.loc[myTrip['Flag2']==1,('sampno','perno','tripno','o_pur','d_pur')].head(10)\n",
    "print myTrip.loc[myTrip['Flag3']==1,('sampno','perno','tripno','o_pur','d_pur')].head()"
   ]
  },
  {
   "cell_type": "code",
   "execution_count": null,
   "metadata": {
    "collapsed": false
   },
   "outputs": [],
   "source": [
    "print myTrip['Flag1'].value_counts().sort_index()\n",
    "print myTrip['Flag2'].value_counts().sort_index()\n",
    "print myTrip['Flag3'].value_counts().sort_index()\n",
    "print myTrip['Tour_ID'].value_counts().sort_index()"
   ]
  },
  {
   "cell_type": "code",
   "execution_count": null,
   "metadata": {
    "collapsed": false
   },
   "outputs": [],
   "source": [
    "# 02. IDENTIFY WORK BASED SUB-TOURS\n",
    "def extractTour2 (group):  # Grouped by hhid, personid, Tour_ID\n",
    "    '''Extracts work based subtours within home-based tours\n",
    "       Only identifies work based subtours at the primary work place (i.e. from d_purpose_recode_2_Linked == 2 to d_purpose_recode_2_Linked == 2)\n",
    "       Assign a person specific unique ID\n",
    "       \n",
    "       Also identify the id of the home based tour of which the work based tour is a part of'''\n",
    "    \n",
    "    global o_pur, d_pur, what_to_extract, hbTourId, what_var_update, hb_tour_id\n",
    "    \n",
    "    o_purpose = group[o_pur].tolist()  # list of origin purpose\n",
    "    d_purpose= group[d_pur].tolist()  # list of destination purpose\n",
    "    hbTour = group[hbTourId].tolist()[0]  # This is the home based tour_id, unique for each individual\n",
    "    hbid = group[hb_tour_id].tolist()[0]  # This is the home based tour id, created by joining hbTour with personid, would contain the same value for the full group\n",
    "    \n",
    "    sze = len(group[hbTourId].tolist()) # This is the size of the group\n",
    "    \n",
    "    tour = 0\n",
    "    o_purpose_id = 0\n",
    "    d_purpose_id = 0\n",
    "    tour_id = [tour for i in xrange(sze)] #start with zero tours\n",
    "    hb_tour_id_list = [-99 for i in xrange(sze)]  # All hb_tour_id would be -99\n",
    "    flag4 = 0\n",
    "    flag5 = 0\n",
    "    \n",
    "    if (hbTour>0):  # Do this only if this is a part of valid home-based tour\n",
    "        while (d_purpose_id < len(d_purpose)):\n",
    "            try:  # Catch origin\n",
    "                o_purpose_id = o_purpose.index(what_to_extract)  # Try to find the origin work              \n",
    "            \n",
    "                if (o_purpose_id > 0):  #if the first trip does not start from work, update d_purpose and o_purpose\n",
    "                    d_purpose[:o_purpose_id] = [-999 for i in range(0,o_purpose_id)]  # update d_purpose\n",
    "                    o_purpose[:o_purpose_id] = [-999 for i in range(0,o_purpose_id)] # update o_purpose\n",
    "                                    \n",
    "                try:  # Catch destination\n",
    "                    d_purpose_id = d_purpose.index(what_to_extract)  # Found a tour, d_purpose_id should always be greater than o_purpose_id\n",
    "                    \n",
    "                    if (d_purpose_id > o_purpose_id): # This check is done to avoid 1 leg tours   \n",
    "                        tour += 1 \n",
    "                        tour_id[o_purpose_id:d_purpose_id+1] = [(tour+20) for i in range(o_purpose_id,d_purpose_id+1)] # Assign tour id\n",
    "                        hb_tour_id_list[o_purpose_id:d_purpose_id+1] = [hbid for i in range(o_purpose_id,d_purpose_id+1)]  \n",
    "                        \n",
    "                    o_purpose[o_purpose_id:d_purpose_id+1] = [-999 for i in range(o_purpose_id,d_purpose_id+1)] # update o_purpose\n",
    "                    d_purpose[o_purpose_id:d_purpose_id+1]  = [-999 for i in range(o_purpose_id,d_purpose_id+1)] # update d_purpose\n",
    "                    \n",
    "                except:\n",
    "                    flag4 = 1 # Return work trip not found\n",
    "                    break                          \n",
    "        \n",
    "            except:\n",
    "                if (tour == 0):\n",
    "                    flag5 = 1  # No trip starts from primary work, no trips were extracted for this person\n",
    "                break\n",
    "\n",
    "    '''Add new columns'''\t\t\n",
    "    group.loc[:,'Flag4'] = flag4\n",
    "    group.loc[:,'Flag5'] = flag5\n",
    "    group.loc[:,'WB_Tour_ID'] = tour_id \n",
    "    group.loc[:,what_var_update] = hb_tour_id_list \n",
    "    return group\n",
    "\n",
    "print 'Done2'"
   ]
  },
  {
   "cell_type": "code",
   "execution_count": null,
   "metadata": {
    "collapsed": false
   },
   "outputs": [],
   "source": [
    "# H3. Create home based tour id - concatenate personid with the Tour_ID\n",
    "myTrip['home_based_tourid'] = [(str(int(a))+'20'+str(int(b))) for a,b in zip(myTrip.perid.tolist(),myTrip.Tour_ID.tolist())]\n",
    "print myTrip[['sampno','perno','trpid','Tour_ID','home_based_tourid']].head()"
   ]
  },
  {
   "cell_type": "code",
   "execution_count": null,
   "metadata": {
    "collapsed": false
   },
   "outputs": [],
   "source": [
    "# W1. Call to the extractTour2 function - purpose is to identify work based sub-tours within home based tours \n",
    "o_pur = 'o_pur'\n",
    "d_pur = 'd_pur'\n",
    "hbTourId = 'Tour_ID'   # This is the unique id for each individual\n",
    "what_to_extract = 2  # This code is for work based sub-tour extraction\n",
    "what_var_update = 'which_home_based_tour' # This variable will be updated for all work_based sub tours\n",
    "hb_tour_id = 'home_based_tourid'          # what_var_update will be updated with home_based_tourid\n",
    "    \n",
    "result = myTrip.groupby(['sampno','perno','Tour_ID'],group_keys=False).apply(extractTour2)  # Call to the function\n",
    "myTrip['WB_Tour_ID'] = result.WB_Tour_ID\n",
    "myTrip['Flag4'] = result.Flag4  \n",
    "myTrip['Flag5'] = result.Flag5\n",
    "myTrip[what_var_update] = result[what_var_update]  # Home based tour id \n",
    "del result, o_pur, d_pur, what_to_extract, hbTourId, what_var_update, hb_tour_id\n",
    "print \"DONE!!! Work based tour extraction\" "
   ]
  },
  {
   "cell_type": "code",
   "execution_count": null,
   "metadata": {
    "collapsed": false
   },
   "outputs": [],
   "source": [
    "print myTrip['WB_Tour_ID'].value_counts().sort_index()\n",
    "print myTrip['Flag4'].value_counts().sort_index()\n",
    "print myTrip['Flag5'].value_counts().sort_index()"
   ]
  },
  {
   "cell_type": "code",
   "execution_count": null,
   "metadata": {
    "collapsed": false
   },
   "outputs": [],
   "source": [
    "print myTrip.loc[myTrip['WB_Tour_ID']!=0,('sampno','perno','home_based_tourid','WB_Tour_ID','which_home_based_tour','o_pur','d_pur')].head(10)\n",
    "print myTrip.loc[myTrip['Flag4']==1,('sampno','perno','tripno','o_pur','d_pur')].head()\n",
    "print myTrip.loc[myTrip['Flag5']==1,('sampno','perno','tripno','o_pur','d_pur')].head()"
   ]
  },
  {
   "cell_type": "code",
   "execution_count": null,
   "metadata": {
    "collapsed": false
   },
   "outputs": [],
   "source": [
    "# 03 Modify work based tour id\n",
    "\n",
    "def modWorkId(group): # grouped by hhid and personid\n",
    "    # purpose of the function is to modify the work id for the people\n",
    "    # wid='WB_Tour_ID'\n",
    "    # hid = 'Tour_ID'\n",
    "    # var_to_update = 'WB_Tour_ID_New'\n",
    "    \n",
    "    global wid, hid, var_to_update, count_wb\n",
    "    \n",
    "    wid_list = group[wid].tolist()\n",
    "    hid_max = max(group[hid].tolist())\n",
    "    hbid = group[hid].tolist()\n",
    "    \n",
    "    wb_list_new = []\n",
    "    \n",
    "    # taking care of the initial zeros\n",
    "    if (hbid.count(0)>0):  # if contains trips that are not part of tours\n",
    "        value = 0\n",
    "        for val in hbid:\n",
    "            if ((val==0)&(value==0)):\n",
    "                wb_list_new.append(0)\n",
    "            \n",
    "            elif ((val>0)&(value==0)):\n",
    "                value = val\n",
    "                break\n",
    "                \n",
    "            elif ((val==0)&(value>0)):\n",
    "                print 'check'\n",
    "    \n",
    "    max_wid = 0\n",
    "    if (sum(wid_list)>0):\n",
    "        count_wb = count_wb + 1\n",
    "        for i in xrange(hid_max):  # enumerate the household ids\n",
    "            group_sub = group[group[hid]==(i+1)]  # take each home based tours\n",
    "            wb_list_sub = group_sub[wid].tolist()\n",
    "            \n",
    "            if ((sum(wb_list_sub)>0)&(max_wid==0)):  # This is for the work based sub tours that belong to the first home based tours\n",
    "                max_wid = max(wb_list_sub)\n",
    "                wb_list_new.extend(wb_list_sub)\n",
    "                \n",
    "            else:  # if max_wid is not equal to zero\n",
    "                wb_list_sub = group_sub[wid].tolist()\n",
    "                min_id_01 = filter(lambda x: x != 0, wb_list_sub) \n",
    "                \n",
    "                if (len(min_id_01)>0):\n",
    "                    min_id = min(min_id_01)\n",
    "                    diff = (min_id-max_wid)+1; print 'difference: ', diff\n",
    "                    \n",
    "                    wb_to_update = [0 if a == 0 else (a+diff) for a in wb_list_sub]\n",
    "                    max_wid = max(wb_to_update)\n",
    "                    wb_list_new.extend(wb_to_update)\n",
    "                \n",
    "                else:  # no work based sub tours, nothing to update\n",
    "                    wb_list_new.extend(wb_list_sub)\n",
    "                \n",
    "        #print 'hid: ', group[hid].tolist(), 'old work list: ', wid_list, 'new work list: ', wb_list_new     \n",
    "        if (max(wb_list_new)>max(wid_list)):\n",
    "            print group[hid].tolist(), wid_list, wb_list_new \n",
    "        \n",
    "    else: # if there is not work based sub tours\n",
    "        wb_list_new = list(wid_list)\n",
    "            \n",
    "    # Taking care of the last zeros in the hb tour id        \n",
    "    if (len(wid_list)>len(wb_list_new)):\n",
    "        diff_last = len(wid_list) - len(wb_list_new); #print 'diff_last: ', diff_last\n",
    "        diff_list = [0 for x in xrange(diff_last)]\n",
    "        wb_list_new.extend(diff_list)\n",
    "    \n",
    "    if (len(wid_list)!=len(wb_list_new)):\n",
    "        print 'issue: ', wb_list_new, wid_list\n",
    "    \n",
    "    group.loc[:,var_to_update] = wb_list_new\n",
    "    \n",
    "    return group\n",
    "                \n",
    "print 'DONE 3'"
   ]
  },
  {
   "cell_type": "code",
   "execution_count": null,
   "metadata": {
    "collapsed": false
   },
   "outputs": [],
   "source": [
    "# W2. Next step is to correct the generated work based tour id, so that the id is unique for person and not for home based tour\n",
    "wid = 'WB_Tour_ID'\n",
    "hid = 'Tour_ID'\n",
    "var_to_update = 'WB_Tour_ID_New'\n",
    "\n",
    "count_wb = 0\n",
    "result = myTrip.groupby(['sampno','perno'], group_keys = False).apply(modWorkId)\n",
    "myTrip[var_to_update] = result[var_to_update]\n",
    "print 'DONE!!! updated work based ID'\n",
    "print 'how many pesons have work based sub tours: ', count_wb\n",
    "del result, wid, hid, var_to_update, count_wb\n",
    "\n",
    "\n",
    "# W3.  Create work based tour id - concatenate personid with the Tour_ID\n",
    "myTrip['work_based_tourid'] = [(str(int(a))+'2'+str(int(b))) for a,b in zip(myTrip.perid.tolist(),myTrip.WB_Tour_ID_New.tolist())]\n",
    "    "
   ]
  },
  {
   "cell_type": "code",
   "execution_count": null,
   "metadata": {
    "collapsed": false
   },
   "outputs": [],
   "source": [
    "print myTrip.loc[myTrip['WB_Tour_ID_New']>21,('sampno','perno','home_based_tourid','WB_Tour_ID','WB_Tour_ID_New','work_based_tourid','which_home_based_tour','o_pur','d_pur')].head(10)"
   ]
  },
  {
   "cell_type": "code",
   "execution_count": null,
   "metadata": {
    "collapsed": false
   },
   "outputs": [],
   "source": [
    "# 04. Modify the home based tour id, so that the trips that are part of the wb sub-tour are taken out\n",
    "\n",
    "def modHbTrID(group): # grouped by hhid, personid and Tour_ID\n",
    "    # modify the home based tour id; i.e. take out the trips that belong to the work based sub-tour\n",
    "    # which_tour = 'Tour_ID'\n",
    "    # sub_tour = 'WB_Tour_ID_New'\n",
    "    # var_to_update = 'Tour_ID_New'\n",
    "    global which_tour, sub_tour, var_to_update\n",
    "    \n",
    "    tid = group[which_tour].tolist()  # this is the home based tourid\n",
    "    stid = group[sub_tour].tolist()  # this is the work based sub tourid\n",
    "    \n",
    "    new_id = [a if b==0 else 0 for a,b in zip(tid, stid)]\n",
    "    \n",
    "    group.loc[:,var_to_update] = new_id\n",
    "    \n",
    "    return group\n",
    "\n",
    "print 'DONE 4'"
   ]
  },
  {
   "cell_type": "code",
   "execution_count": null,
   "metadata": {
    "collapsed": false
   },
   "outputs": [],
   "source": [
    "# H2. Modify the home based tour id based on work-based tours, this id is the final for home based tours\n",
    "which_tour = 'Tour_ID'\n",
    "sub_tour = 'WB_Tour_ID_New'\n",
    "var_to_update = 'Tour_ID_New'\n",
    "    \n",
    "result = myTrip.groupby(['sampno','perno',which_tour],group_keys=False).apply(modHbTrID)  # Call to the function\n",
    "myTrip[var_to_update] = result[var_to_update]\n",
    "del result, which_tour, sub_tour, var_to_update\n",
    "print \"DONE!!! modify home based tour id\""
   ]
  },
  {
   "cell_type": "code",
   "execution_count": null,
   "metadata": {
    "collapsed": false
   },
   "outputs": [],
   "source": [
    "print myTrip.loc[myTrip['Tour_ID_New']!=myTrip['Tour_ID'],('sampno','perno','home_based_tourid','Tour_ID','Tour_ID_New','WB_Tour_ID_New','work_based_tourid','which_home_based_tour','o_pur','d_pur')].head(10)"
   ]
  },
  {
   "cell_type": "code",
   "execution_count": null,
   "metadata": {
    "collapsed": false
   },
   "outputs": [],
   "source": [
    "# 05. Modify the home based tour id, so that the trips that are part of the wb sub-tour are take out\n",
    "# This id is created for the creation of the home based tour purpose related variables\n",
    "# Ths last trip of any work based sub tour id is identified as a trip within home based consideration\n",
    "\n",
    "def modHbTrID02(group): # grouped by hhid, personid and Tour_ID\n",
    "    # modify the home based tour id; i.e. take out the trips that belong to the work based sub-tour\n",
    "    # which_tour = 'Tour_ID'\n",
    "    # sub_tour = 'WB_Tour_ID_New'\n",
    "    # var_to_update = 'Tour_ID_New_purpose'\n",
    "   \n",
    "    global which_tour, sub_tour, var_to_update\n",
    "    \n",
    "    sze = len(group[which_tour].tolist())  # this is the size of the group\n",
    "    tid = group[which_tour].tolist()  # this is the home based tourid\n",
    "    stid = group[sub_tour].tolist()  # this is the work based sub tourid\n",
    "    stid2 = list(stid)\n",
    "    \n",
    "    # purpose is to identify the last trip of the work based sub tour\n",
    "    start_id = 0\n",
    "    \n",
    "    for i in xrange(sze):\n",
    "        if (start_id==0):  # got the 1st trip\n",
    "            start_id = stid[i]\n",
    "            \n",
    "        elif (start_id==stid[i]):  # same work based tour continuing\n",
    "            pass\n",
    "        \n",
    "        elif ((stid[i]==0)|(stid[i]>start_id)):  # got the 1st trip\n",
    "            index = (i-1)\n",
    "                \n",
    "            if (index>0):\n",
    "                stid2[index] = 0\n",
    "            else:\n",
    "                print 'issue!!!'\n",
    "                \n",
    "            start_id = stid[i]\n",
    "                \n",
    "    '''if (sum(stid)>0):\n",
    "        print 'stid: ', stid, 'stid2: ', stid2'''\n",
    "    \n",
    "    new_id = [a if b==0 else 0 for a,b in zip(tid, stid2)]\n",
    "    \n",
    "    group.loc[:,var_to_update] = new_id\n",
    "    \n",
    "    return group\n",
    "\n",
    "print 'DONE 5'"
   ]
  },
  {
   "cell_type": "code",
   "execution_count": null,
   "metadata": {
    "collapsed": false
   },
   "outputs": [],
   "source": [
    "# H3. Update home based tour id - concatenate personid with the Tour_ID_New \n",
    "myTrip['home_based_tourid_updated'] = [(str(int(a))+'20'+str(int(b))) for a,b in zip(myTrip.perid.tolist(),myTrip.Tour_ID_New.tolist())]\n",
    "    \n",
    "# H4. Modify the home based tour id based on work-based tours - for use in the creation of purpose,& not for anything else\n",
    "which_tour = 'Tour_ID'\n",
    "sub_tour = 'WB_Tour_ID_New'\n",
    "var_to_update = 'Tour_ID_New_purpose'\n",
    "    \n",
    "result = myTrip.groupby(['sampno','perid',which_tour],group_keys=False).apply(modHbTrID02)  # Call to the function\n",
    "myTrip[var_to_update] = result[var_to_update]\n",
    "del result, which_tour, sub_tour, var_to_update\n",
    "print \"DONE!!! modify home based tour id for purpose creation\""
   ]
  },
  {
   "cell_type": "code",
   "execution_count": null,
   "metadata": {
    "collapsed": false
   },
   "outputs": [],
   "source": [
    "print myTrip.loc[myTrip['Tour_ID']!=myTrip['Tour_ID_New_purpose'],('sampno','perno','home_based_tourid','Tour_ID','Tour_ID_New','Tour_ID_New_purpose','WB_Tour_ID_New','work_based_tourid','which_home_based_tour','which_home_based_tour','o_pur','d_pur')].head(10)"
   ]
  },
  {
   "cell_type": "code",
   "execution_count": null,
   "metadata": {
    "collapsed": false
   },
   "outputs": [],
   "source": [
    "# 06.  Calculate the number of trips that constitute the tour\n",
    "def calTrp(group): # Grouped by hhid, personid and Tour_ID or WB_Tour_ID\n",
    "    \n",
    "    '''Purpose of this function is to calculate the number of trips within each tour\n",
    "       For non-valid tours a value of -99 is used'''\n",
    "    \n",
    "    # which_tour = 'Tour_ID_New'  # Identify which tour is treated, home_based or work_based\n",
    "    # which_tour_update = 'HB_trip_count'\n",
    "    \n",
    "    global which_tour, which_tour_update  # Contains the name for the tour_id variable\n",
    "    \n",
    "    sze = len(group[which_tour].tolist())\n",
    "    tid = group[which_tour].tolist()[0]  # Whole group contains same value\n",
    "    \n",
    "    if (tid==0):  # If the trip is not part of a tour\n",
    "        trpCnt = [-99 for i in xrange(sze)]\n",
    "    elif(tid>0):\n",
    "        trpCnt = [sze for i in xrange(sze)]\n",
    "        \n",
    "    group.loc[:,which_tour_update] = trpCnt\n",
    "    return group\n",
    "\n",
    "print 'Done6'"
   ]
  },
  {
   "cell_type": "code",
   "execution_count": null,
   "metadata": {
    "collapsed": false
   },
   "outputs": [],
   "source": [
    "# H5. Next step is to calculate the number of trips within the tour - home based tour\n",
    "which_tour = 'Tour_ID_New'  # Identify which tour is treated, home_based or work_based\n",
    "which_tour_update = 'HB_trip_count'\n",
    "    \n",
    "result = myTrip.groupby(['sampno','perno',which_tour],group_keys=False).apply(calTrp)  # Call to the function\n",
    "myTrip[which_tour_update] = result[which_tour_update]\n",
    "del result, which_tour, which_tour_update\n",
    "print \"DONE!!! Trip calculation home based\"\n",
    "    \n",
    "# W4. Next step is to calculate the number of trips within the tour - work based tour\n",
    "which_tour = 'WB_Tour_ID_New'  # Identify which tour is treated, home_based or work_based\n",
    "which_tour_update = 'WB_trip_count'\n",
    "    \n",
    "result = myTrip.groupby(['sampno','perno',which_tour],group_keys=False).apply(calTrp)  # Call to the function\n",
    "myTrip[which_tour_update] = result[which_tour_update]\n",
    "del result, which_tour, which_tour_update\n",
    "print \"DONE!!! Trip calculation work based\""
   ]
  },
  {
   "cell_type": "code",
   "execution_count": null,
   "metadata": {
    "collapsed": false
   },
   "outputs": [],
   "source": [
    "print myTrip[['sampno','perno','tripno','Tour_ID_New','HB_trip_count','o_pur','d_pur']].head(10)\n",
    "print myTrip.loc[myTrip['HB_trip_count']==29,('sampno','perno','tripno','Tour_ID_New','HB_trip_count','o_pur','d_pur')]\n",
    "print myTrip['HB_trip_count'].value_counts()\n",
    "print myTrip.loc[myTrip['WB_Tour_ID_New']!=0,('sampno','perno','tripno','Tour_ID_New','WB_trip_count','o_pur','d_pur')].head(10)\n",
    "print myTrip['WB_trip_count'].value_counts()\n",
    "print myTrip.loc[myTrip['WB_trip_count']==15,('sampno','perno','tripno','Tour_ID_New','WB_trip_count','o_pur','d_pur')]"
   ]
  },
  {
   "cell_type": "markdown",
   "metadata": {},
   "source": [
    "### Calculate the number of trips that constitute the tour without the trips made for changing mode"
   ]
  },
  {
   "cell_type": "code",
   "execution_count": null,
   "metadata": {
    "collapsed": false
   },
   "outputs": [],
   "source": [
    "def calTrp1(group): # Grouped by hhid, personid and Tour_ID or WB_Tour_ID\n",
    "    \n",
    "    '''Purpose of this function is to calculate the number of trips within each tour\n",
    "       For non-valid tours a value of -99 is used'''\n",
    "    \n",
    "    # which_tour = 'Tour_ID_New'  # Identify which tour is treated, home_based or work_based\n",
    "    # which_tour_update = 'HB_trip_count'\n",
    "    \n",
    "    global which_tour, which_tour_update  # Contains the name for the tour_id variable\n",
    "    \n",
    "    sze = len(group[which_tour].tolist())\n",
    "    tid = group[which_tour].tolist()[0]  # Whole group contains same value\n",
    "    dpur= group.d_pur.tolist()\n",
    "    ModeCnt=0\n",
    "    \n",
    "    if (tid==0):  # If the trip is not part of a tour\n",
    "        Mode = [-99 for i in xrange(sze)]\n",
    "    elif(tid>0):\n",
    "        ModeCnt=dpur.count(9)\n",
    "        Mode = [ModeCnt for i in xrange(sze)]\n",
    "        \n",
    "    group.loc[:,which_tour_update] = Mode\n",
    "    return group\n",
    "\n",
    "print 'Done6.1'"
   ]
  },
  {
   "cell_type": "code",
   "execution_count": null,
   "metadata": {
    "collapsed": false
   },
   "outputs": [],
   "source": [
    "# H5. Next step is to calculate the number of trips within the tour - home based tour\n",
    "which_tour = 'Tour_ID_New'  # Identify which tour is treated, home_based or work_based\n",
    "which_tour_update = 'HB_change_mode_trip_count'\n",
    "    \n",
    "result = myTrip.groupby(['sampno','perno',which_tour],group_keys=False).apply(calTrp1)  # Call to the function\n",
    "myTrip[which_tour_update] = result[which_tour_update]\n",
    "del result, which_tour, which_tour_update\n",
    "print \"DONE!!! Trip calculation home based\"\n",
    "    \n",
    "# W4. Next step is to calculate the number of trips within the tour - work based tour\n",
    "which_tour = 'WB_Tour_ID_New'  # Identify which tour is treated, home_based or work_based\n",
    "which_tour_update = 'WB_change_mode_trip_count'\n",
    "    \n",
    "result = myTrip.groupby(['sampno','perno',which_tour],group_keys=False).apply(calTrp1)  # Call to the function\n",
    "myTrip[which_tour_update] = result[which_tour_update]\n",
    "del result, which_tour, which_tour_update\n",
    "print \"DONE!!! Trip calculation work based\""
   ]
  },
  {
   "cell_type": "code",
   "execution_count": null,
   "metadata": {
    "collapsed": false
   },
   "outputs": [],
   "source": [
    "print myTrip.loc[myTrip['HB_change_mode_trip_count']>0,('sampno','perno','tripno','Tour_ID_New','HB_trip_count','HB_change_mode_trip_count','o_pur','d_pur')].head(10)\n",
    "print myTrip['HB_trip_count'].value_counts()\n",
    "print myTrip.loc[(myTrip['WB_Tour_ID_New']!=0)&(myTrip['WB_change_mode_trip_count']>0),('sampno','perno','tripno','Tour_ID_New','WB_trip_count','WB_change_mode_trip_count','o_pur','d_pur')].head(10)\n",
    "print myTrip['WB_trip_count'].value_counts()"
   ]
  },
  {
   "cell_type": "code",
   "execution_count": null,
   "metadata": {
    "collapsed": false
   },
   "outputs": [],
   "source": [
    "print sum((myTrip['HB_trip_count']-myTrip['HB_change_mode_trip_count'])==1)\n",
    "print sum((myTrip['WB_trip_count']-myTrip['WB_change_mode_trip_count'])==1)"
   ]
  },
  {
   "cell_type": "markdown",
   "metadata": {
    "collapsed": false
   },
   "source": [
    "# 07. Function to calculate activity dwell time\n",
    "def dwlTme(group): # Grouped by hhid and personid\n",
    "    global arvl_time, dept_time, which_var_update \n",
    "    \n",
    "    arvTme = group[arvl_time].tolist()[:-1] # Taking all but the last one\n",
    "    dptTme = group[dept_time].tolist()[1:] # Taking all but the first one\n",
    "    \n",
    "    ls = [(a-b) for a,b in zip (dptTme,arvTme)]\n",
    "    ls.append(-99)  # appending -99 for the last dwel time\n",
    "    \n",
    "    group.loc[:,which_var_update] = ls\n",
    "    \n",
    "    return group\n",
    "\n",
    "print 'Done7'"
   ]
  },
  {
   "cell_type": "markdown",
   "metadata": {
    "collapsed": true
   },
   "source": [
    "# A1. Calculate activity dwell time\n",
    "    arvl_time = 'act_arr_time'   # These two variables would be used for calculating dwell time\n",
    "    dept_time = 'act_dep_time'  # These two variables would be used for calculating dwell time\n",
    "    which_var_update = 'Dwell_Time'\n",
    "    \n",
    "    result = myTrip.groupby(['hhid','personid'],group_keys=False).apply(dwlTme)  # Call to the function\n",
    "    myTrip[which_var_update] = result[which_var_update]\n",
    "    del result, arvl_time, dept_time, which_var_update\n",
    "    print \"DONE!!! Dwell time calculation\""
   ]
  },
  {
   "cell_type": "code",
   "execution_count": null,
   "metadata": {
    "collapsed": false
   },
   "outputs": [],
   "source": [
    " # A2. Next step is to reocde d_purpose into broader categories\n",
    "o_pur = 'o_pur'\n",
    "d_pur = 'd_pur'\n",
    "\n",
    "# Recoded origin and destination purposes into broad categories\n",
    "# 99 - return home, 1 - school, 2 - work, 3 - meal, 4 - shop, 5 - personal business, 6 - social recreation, 7 - escorting, 8 - other\n",
    "\n",
    "# Recode origin purposes into broad categories\n",
    "myTrip['o_pur_broad'] = (myTrip[o_pur] == -9)*99 + (myTrip[o_pur] == 1)*1 + ((myTrip[o_pur] == 2)|(myTrip[o_pur] == 3))*2 + (myTrip[o_pur] == 4)*3  + (myTrip[o_pur] ==5 )*4 + (myTrip[o_pur] ==6 )*5 + (myTrip[o_pur] ==7 )*6 + (myTrip[o_pur] ==8 )*7 + (myTrip[o_pur] ==9 )*9 + (myTrip[o_pur] ==10)*8\n",
    "\n",
    "# Recode destination purposes into broad categories\n",
    "myTrip['d_pur_broad'] = (myTrip[d_pur] == -9)*99 + (myTrip[d_pur] == 1)*1 + ((myTrip[d_pur] == 2)|(myTrip[d_pur] == 3))*2 + (myTrip[d_pur] == 4)*3  + (myTrip[d_pur] ==5 )*4 + (myTrip[d_pur] ==6 )*5 + (myTrip[d_pur] ==7 )*6 + (myTrip[d_pur] ==8 )*7 + (myTrip[d_pur] ==9 )*9 + (myTrip[d_pur] ==10)*8 \n",
    "\n",
    "print myTrip['o_pur_broad'].value_counts().sort_index()\n",
    "print myTrip['o_pur'].value_counts().sort_index()\n",
    "print myTrip['d_pur_broad'].value_counts().sort_index()\n",
    "print myTrip['d_pur'].value_counts().sort_index()"
   ]
  },
  {
   "cell_type": "code",
   "execution_count": null,
   "metadata": {
    "collapsed": false
   },
   "outputs": [],
   "source": [
    "# 08. Function to determinte the tour purpose\n",
    "\n",
    "def tourPur(group):  # Grouped by hhid, personid, Tour_ID or WB_Tour_ID\n",
    "    '''This function identifies the purpose of the tour based on purpose hierarchy\n",
    "       It uses activity dwell time to break tie in case of multiple activity with same purpose\n",
    "       \n",
    "       1. Identify the purpose of the tour\n",
    "       2. Identify the trip after which the purpose is defined\n",
    "       3. Identify the duration of the primary activity of the tour'''\n",
    "    \n",
    "    # Hierarchy used\n",
    "    # 99 - return home, 1 - school, 2 - work, 3 - meal, 4 - shop, 5 - personal business, 6 - social recreation, 7 - escorting, 8 - Other, 9 - Change mode\n",
    "    \n",
    "    global d_pur, dwl_tme, which_tour, which_var_update_01, which_var_update_02, which_var_update_03, check\n",
    "    \n",
    "    sze = len(group[which_tour].tolist())  # The length of the group\n",
    "    tid = group[which_tour].tolist()[0]             # The tour id, full group contains same value\n",
    "    \n",
    "    pur = group[d_pur].tolist()[:-1]  # Taking all but the last one, last one should always be return home/return work\n",
    "    dwlTme = group[dwl_tme].tolist()[:-1] # Not taking the last one to make it compatible with pur\n",
    "    \n",
    "    if (tid == 0):   # If this is not a valid tour - home based or work based\n",
    "        tour_pur = [-99 for i in xrange(sze)]\n",
    "        tour_pur_index = [-99 for i in xrange(sze)]\n",
    "        prime_act_dur = [-99 for i in xrange(sze)]\n",
    "        \n",
    "    elif (tid>0):  # For a valid tour - home based or work based\n",
    "        minPur = min(pur)  # Purpose with the lowest value has the highest priority\n",
    "        \n",
    "        if (pur.count(minPur)==1):\n",
    "            tour_pur = [minPur for i in xrange(sze)]                              # This will be the tour purpose\n",
    "        \n",
    "            tour_pur_index = [1 if (a==minPur) else 0 for a in pur]               # identify the trip with primary activity\n",
    "            tour_pur_index.append(0)                                              # append 0 to make the size equal to pur\n",
    "            \n",
    "            prm_act_index = pur.index(minPur)                             # get the index of the primary activity\n",
    "            prime_act_dur = [dwlTme[prm_act_index] for i in xrange(sze)]  # primary activity duration\n",
    "                                                                          # append 0 to make size equal to pur\n",
    "        \n",
    "        elif (pur.count(minPur)>1):  # If primary purpose occurs more than once\n",
    "            tour_pur = [minPur for i in xrange(sze)]                              # This will be the tour purpose \n",
    "        \n",
    "            dwlTmeSel = [a if (b==minPur) else -99 for a,b in zip(dwlTme,pur)]    # replacing other dwell times with -99 \n",
    "            maxDwlIndex = dwlTmeSel.index(max(dwlTmeSel))                         # get the index for the maximum dwell time\n",
    "            \n",
    "            tour_pur_index = [0 for i in xrange(sze)] # identify the trip with primary activity\n",
    "            tour_pur_index[maxDwlIndex] = 1                                              \n",
    "        \n",
    "            prime_act_dur = [dwlTmeSel[maxDwlIndex] for i in xrange(sze)]  # primary activity duration\n",
    "                                                           \n",
    "            \n",
    "            #check = check + 1\n",
    "    # check\n",
    "    #if (prime_act_dur[0] == 0):\n",
    "        #print 'hid', 'd_pur', 'tour_purpose','dwel time','prime index', 'Tour Dwel time'\n",
    "        #print tid, pur, tour_pur, dwlTme, tour_pur_index, prime_act_dur \n",
    "            \n",
    "                \n",
    "    group.loc[:,which_var_update_01] = tour_pur\n",
    "    group.loc[:,which_var_update_02] = tour_pur_index\n",
    "    group.loc[:,which_var_update_03] = prime_act_dur\n",
    "    \n",
    "    return group\n",
    "        \n",
    "print 'Done8'"
   ]
  },
  {
   "cell_type": "code",
   "execution_count": null,
   "metadata": {
    "collapsed": false
   },
   "outputs": [],
   "source": [
    "# H6. Next step is to identify primary tour purpose - home based tours\n",
    "d_pur = 'd_pur_broad'   # This is the variable based on which the tour purpose would be determined\n",
    "dwl_tme = 'Dwell_Time'   # This is the variable based on which the tour purpose would be determined\n",
    "which_tour = 'Tour_ID_New_purpose'   # For which tour, this id is used only for identifying primary activity\n",
    "which_var_update_01 = 'HB_tour_purpose'  # This will carry the purpose code\n",
    "which_var_update_02 = 'HB_primary_activity_id'  # This will carry the purpose code\n",
    "which_var_update_03 = 'HB_primary_activity_dwell_time'  # This will carry the purpose code\n",
    "    \n",
    "check = 0\n",
    "result = myTrip.groupby(['sampno','perno', which_tour],group_keys=False).apply(tourPur)  # Call to the function\n",
    "myTrip[which_var_update_01] = result[which_var_update_01]\n",
    "myTrip[which_var_update_02] = result[which_var_update_02]\n",
    "myTrip[which_var_update_03] = result[which_var_update_03]\n",
    "print \"DONE!!! primary activity home based\"\n",
    "#print 'How many have multiple primary activity? ', check\n",
    "del result, d_pur, dwl_tme, which_tour, which_var_update_01,which_var_update_02,which_var_update_03, check"
   ]
  },
  {
   "cell_type": "code",
   "execution_count": null,
   "metadata": {
    "collapsed": false
   },
   "outputs": [],
   "source": [
    "print myTrip[['sampno','perno','tripno','act_arr_time','act_dep_time','Dwell_Time','act_dur','d_pur_broad','HB_tour_purpose','HB_primary_activity_id','HB_primary_activity_dwell_time']].head(10)"
   ]
  },
  {
   "cell_type": "code",
   "execution_count": null,
   "metadata": {
    "collapsed": false
   },
   "outputs": [],
   "source": [
    " # W6. Next step is to identify primary tour purpose - work based tours\n",
    "d_pur = 'd_pur_broad'   # This is the variable based on which the tour purpose would be determined\n",
    "dwl_tme = 'Dwell_Time'   # This is the variable based on which the tour purpose would be determined\n",
    "which_tour = 'WB_Tour_ID_New'   # For which tour\n",
    "which_var_update_01 = 'WB_tour_purpose'  # This will carry the purpose code\n",
    "which_var_update_02 = 'WB_primary_activity_id'  # This will carry the purpose code\n",
    "which_var_update_03 = 'WB_primary_activity_dwell_time'  # This will carry the purpose code\n",
    "    \n",
    "check = 0\n",
    "result = myTrip.groupby(['sampno','perno', which_tour],group_keys=False).apply(tourPur)  # Call to the function\n",
    "myTrip[which_var_update_01] = result[which_var_update_01]\n",
    "myTrip[which_var_update_02] = result[which_var_update_02]\n",
    "myTrip[which_var_update_03] = result[which_var_update_03]\n",
    "print \"DONE!!! primary activity work based\"\n",
    "#print 'How many had to break tie from dwell time? ', check\n",
    "del result, d_pur, dwl_tme, which_tour, which_var_update_01,which_var_update_02,which_var_update_03, check"
   ]
  },
  {
   "cell_type": "code",
   "execution_count": null,
   "metadata": {
    "collapsed": false
   },
   "outputs": [],
   "source": [
    "myTrip['WB_tour_purpose'].value_counts().sort_index()"
   ]
  },
  {
   "cell_type": "code",
   "execution_count": null,
   "metadata": {
    "collapsed": false
   },
   "outputs": [],
   "source": [
    "# 09. Calculate stop count by purpose\n",
    "\n",
    "def stopCount(group):\n",
    "    '''Counts the number of additional stops by purpose other than the primary activity'''\n",
    "    #stop_type = ['school_stop','work_stop','meal_stop','shop_stop','PerBus_stop','SocRec_stop','escort_stop','other_stop','ChaMod_stop']\n",
    "    #tour_type = 'HB_'  # This suffix would be used before the stop names\n",
    "    \n",
    "    #prime_act_id = 'HB_primary_activity_id'   # This is the id of the primary activity\n",
    "    #d_pur = 'd_pur_broad'                     # This is the variable based on which the stop purposes would be determined\n",
    "    #which_tour = 'Tour_ID_New'\n",
    "    global d_pur, which_tour, stop_type, prime_act_id\n",
    "    \n",
    "    sze = len(group[which_tour].tolist())     # Length of the group\n",
    "    tid = group[which_tour].tolist()[0]       # All cases in the group contains the same value\n",
    "    \n",
    "    prm_act_id = group[prime_act_id].tolist()\n",
    "    pur = group[d_pur].tolist()\n",
    "    \n",
    "    add_pur = [-1 if (b==1) else a for a,b in zip(pur,prm_act_id)]  # Replace purpose with primary activity with -1\n",
    "    \n",
    "    if (tid>0):  # If this is a valid tour\n",
    "        for i in xrange(len(stop_type)):\n",
    "            #print \"i: \", i\n",
    "            group.loc[:,stop_type[i]] = [add_pur.count(i+1) for j in xrange(sze)]\n",
    "    \n",
    "    elif(tid==0):  # if this is not a valid tour\n",
    "        for i in xrange(len(stop_type)):\n",
    "            #print \"i: \", i\n",
    "            group.loc[:,stop_type[i]] = [-99 for j in xrange(sze)]\n",
    "    \n",
    "    return group\n",
    "\n",
    "print 'Done9'"
   ]
  },
  {
   "cell_type": "code",
   "execution_count": null,
   "metadata": {
    "collapsed": false
   },
   "outputs": [],
   "source": [
    "# H7. Next step is to count the additional stops within the tour by purpose - home based\n",
    "stop_type = ['school_stop','work_stop','meal_stop','shop_stop','PerBus_stop','SocRec_stop','escort_stop','other_stop','ChaMod_stop']\n",
    "tour_type = 'HB_'  # This suffix would be used before the stop names\n",
    "    \n",
    "prime_act_id = 'HB_primary_activity_id'   # This is the id of the primary activity\n",
    "d_pur = 'd_pur_broad'                     # This is the variable based on which the stop purposes would be determined\n",
    "which_tour = 'Tour_ID_New'                 # For which tour\n",
    "    \n",
    "result = myTrip.groupby(['sampno','perno', which_tour],group_keys=False).apply(stopCount)  # Call to the function\n",
    "\n",
    "for val in stop_type:\n",
    "    var_name = tour_type+val # print 'var_name: ', var_name \n",
    "    myTrip[var_name] = result[val]\n",
    "        \n",
    "del stop_type, tour_type, d_pur, which_tour, prime_act_id, result\n",
    "print \"DONE!!! home based tour stop count by purpose\""
   ]
  },
  {
   "cell_type": "code",
   "execution_count": null,
   "metadata": {
    "collapsed": false
   },
   "outputs": [],
   "source": [
    "print myTrip['HB_school_stop'].value_counts().sort_index()\n",
    "print myTrip['HB_work_stop'].value_counts().sort_index()\n",
    "print myTrip['HB_meal_stop'].value_counts().sort_index()\n",
    "print myTrip['HB_shop_stop'].value_counts().sort_index()\n",
    "print myTrip['HB_PerBus_stop'].value_counts().sort_index()\n",
    "print myTrip['HB_SocRec_stop'].value_counts().sort_index()\n",
    "print myTrip['HB_escort_stop'].value_counts().sort_index()\n",
    "print myTrip['HB_other_stop'].value_counts().sort_index()\n",
    "print myTrip['HB_ChaMod_stop'].value_counts().sort_index()"
   ]
  },
  {
   "cell_type": "code",
   "execution_count": null,
   "metadata": {
    "collapsed": false
   },
   "outputs": [],
   "source": [
    "print myTrip.loc[myTrip['HB_ChaMod_stop']==2,('sampno','perno','tripno','d_pur_broad','HB_primary_activity_id','HB_other_stop')].head(10)"
   ]
  },
  {
   "cell_type": "code",
   "execution_count": null,
   "metadata": {
    "collapsed": false
   },
   "outputs": [],
   "source": [
    "# W6. Next step is to count the additional stops within the tour by purpose - work based\n",
    "stop_type = ['school_stop','work_stop','meal_stop','shop_stop','PerBus_stop','SocRec_stop','escort_stop','other_stop','ChaMod_stop']\n",
    "tour_type = 'WB_'  # This suffix would be used before the stop names\n",
    "    \n",
    "prime_act_id = 'WB_primary_activity_id'   # This is the id of the primary activity\n",
    "d_pur = 'd_pur_broad'                     # This is the variable based on which the stop purposes would be determined\n",
    "which_tour = 'WB_Tour_ID_New'                 # For which tour\n",
    "    \n",
    "result = myTrip.groupby(['sampno','perno', which_tour],group_keys=False).apply(stopCount)  # Call to the function\n",
    "\n",
    "for val in stop_type:\n",
    "    var_name = tour_type+val # print 'var_name: ', var_name \n",
    "    myTrip[var_name] = result[val]\n",
    "        \n",
    "del stop_type, tour_type, d_pur, which_tour, prime_act_id, result\n",
    "print \"DONE!!! work based tour stop count by purpose\""
   ]
  },
  {
   "cell_type": "code",
   "execution_count": null,
   "metadata": {
    "collapsed": false
   },
   "outputs": [],
   "source": [
    "# 09.1. Calculate stop count by purpose: work based sub-tour do not include the last return to work trip\n",
    "\n",
    "def stopCount(group):\n",
    "    '''Counts the number of additional stops by purpose other than the primary activity'''\n",
    "    #stop_type = ['school_stop','work_stop','meal_stop','shop_stop','PerBus_stop','SocRec_stop','escort_stop','other_stop','ChaMod_stop']\n",
    "    #tour_type = 'HB_'  # This suffix would be used before the stop names\n",
    "    \n",
    "    #prime_act_id = 'HB_primary_activity_id'   # This is the id of the primary activity\n",
    "    #d_pur = 'd_pur_broad'                     # This is the variable based on which the stop purposes would be determined\n",
    "    #which_tour = 'Tour_ID_New'\n",
    "    global d_pur, which_tour, stop_type, prime_act_id\n",
    "    \n",
    "    sze = len(group[which_tour].tolist())     # Length of the group\n",
    "    tid = group[which_tour].tolist()[0]       # All cases in the group contains the same value\n",
    "    \n",
    "    prm_act_id = group[prime_act_id].tolist()\n",
    "    pur = group[d_pur].tolist()[:-1]\n",
    "    \n",
    "    add_pur = [-1 if (b==1) else a for a,b in zip(pur,prm_act_id)]  # Replace purpose with primary activity with -1\n",
    "    \n",
    "    if (tid>0):  # If this is a valid tour\n",
    "        for i in xrange(len(stop_type)):\n",
    "            #print \"i: \", i\n",
    "            group.loc[:,stop_type[i]] = [add_pur.count(i+1) for j in xrange(sze)]\n",
    "    \n",
    "    elif(tid==0):  # if this is not a valid tour\n",
    "        for i in xrange(len(stop_type)):\n",
    "            #print \"i: \", i\n",
    "            group.loc[:,stop_type[i]] = [-99 for j in xrange(sze)]\n",
    "    \n",
    "    return group\n",
    "\n",
    "print 'Done9.1'"
   ]
  },
  {
   "cell_type": "code",
   "execution_count": null,
   "metadata": {
    "collapsed": false
   },
   "outputs": [],
   "source": [
    "# W6. Next step is to count the additional stops within the tour by purpose - work based\n",
    "stop_type = ['school_stop','work_stop','meal_stop','shop_stop','PerBus_stop','SocRec_stop','escort_stop','other_stop','ChaMod_stop']\n",
    "tour_type = 'WB_r_'  # This suffix would be used before the stop names\n",
    "    \n",
    "prime_act_id = 'WB_primary_activity_id'   # This is the id of the primary activity\n",
    "d_pur = 'd_pur_broad'                     # This is the variable based on which the stop purposes would be determined\n",
    "which_tour = 'WB_Tour_ID_New'                 # For which tour\n",
    "    \n",
    "result = myTrip.groupby(['sampno','perno', which_tour],group_keys=False).apply(stopCount)  # Call to the function\n",
    "\n",
    "for val in stop_type:\n",
    "    var_name = tour_type+val # print 'var_name: ', var_name \n",
    "    myTrip[var_name] = result[val]\n",
    "        \n",
    "del stop_type, tour_type, d_pur, which_tour, prime_act_id, result\n",
    "print \"DONE!!! work based tour stop count by purpose\""
   ]
  },
  {
   "cell_type": "code",
   "execution_count": null,
   "metadata": {
    "collapsed": false
   },
   "outputs": [],
   "source": [
    "print myTrip.loc[myTrip['WB_ChaMod_stop']==2,('sampno','perno','tripno','WB_Tour_ID_New','WB_Tour_ID','o_pur_broad','d_pur_broad','WB_primary_activity_id','WB_other_stop','WB_r_other_stop')].head(10)"
   ]
  },
  {
   "cell_type": "code",
   "execution_count": null,
   "metadata": {
    "collapsed": false
   },
   "outputs": [],
   "source": [
    "print sum(myTrip['WB_school_stop']!=myTrip['WB_r_school_stop'])\n",
    "print sum(myTrip['WB_work_stop']!=myTrip['WB_r_work_stop'])\n",
    "print sum(myTrip['WB_meal_stop']!=myTrip['WB_r_meal_stop'])\n",
    "print sum(myTrip['WB_shop_stop']!=myTrip['WB_r_shop_stop'])\n",
    "print sum(myTrip['WB_PerBus_stop']!=myTrip['WB_r_PerBus_stop'])\n",
    "print sum(myTrip['WB_SocRec_stop']!=myTrip['WB_r_SocRec_stop'])\n",
    "print sum(myTrip['WB_escort_stop']!=myTrip['WB_r_escort_stop'])\n",
    "print sum(myTrip['WB_ChaMod_stop']!=myTrip['WB_r_ChaMod_stop'])"
   ]
  },
  {
   "cell_type": "code",
   "execution_count": null,
   "metadata": {
    "collapsed": false
   },
   "outputs": [],
   "source": [
    "# 10. Concatenate the trip ids that constitute the tour\n",
    "def concTrpId (group): # grouped by hhid, personid, Tour_ID or WB_Tour_ID\n",
    "    # the purpose is to create conactenated string of linked_tripid that constitute the tour\n",
    "    \n",
    "    global which_tour, trip_id, char, what_var_update\n",
    "    \n",
    "    tid = group[which_tour].tolist()[0]     # Full group should contain the same value\n",
    "    tripid = group[trip_id].tolist()\n",
    "    sze = len(group[which_tour].tolist())   # This is the length of the group\n",
    "    \n",
    "    trip_id_str = [str(a) for a in tripid]   # converting the trip ids into string\n",
    "    \n",
    "    if (tid==0):\n",
    "        var_list = [-99 for i in xrange(sze)]\n",
    "    elif(tid>0):\n",
    "        var_list = [char.join(trip_id_str) for i in xrange(sze)]\n",
    "        \n",
    "    group.loc[:,what_var_update] = var_list\n",
    "    \n",
    "    return group\n",
    "\n",
    "print 'Done10'"
   ]
  },
  {
   "cell_type": "code",
   "execution_count": null,
   "metadata": {
    "collapsed": false
   },
   "outputs": [],
   "source": [
    "# H8. Next create a column by concatenating tripids - home based tour\n",
    "which_tour = 'Tour_ID_New'\n",
    "trip_id = 'trpid_string'\n",
    "char = '-'\n",
    "\n",
    "what_var_update = 'HB_tripids'\n",
    "result = myTrip.groupby(['sampno','perno',which_tour],group_keys=False).apply(concTrpId)\n",
    "myTrip.loc[:,what_var_update] = result[what_var_update]\n",
    "del result\n",
    "print \"DONE!!! tripid for home based tour\"\n",
    "    \n",
    "# W8. Next create a column by concatenating tripids - work based tour\n",
    "which_tour = 'WB_Tour_ID_New'\n",
    "trip_id = 'trpid_string'\n",
    "char = '-'\n",
    "\n",
    "what_var_update = 'WB_tripids'\n",
    "result = myTrip.groupby(['sampno','perno',which_tour],group_keys=False).apply(concTrpId)\n",
    "myTrip.loc[:,what_var_update] = result[what_var_update]\n",
    "del result\n",
    "print \"DONE!!! tripid for work based tour\""
   ]
  },
  {
   "cell_type": "code",
   "execution_count": null,
   "metadata": {
    "collapsed": false
   },
   "outputs": [],
   "source": [
    "print myTrip[['sampno','perno','tripno','Tour_ID_New','WB_Tour_ID_New','HB_tripids','WB_tripids']].head(10)\n",
    "print myTrip.loc[(myTrip['WB_Tour_ID_New']==22),('sampno','perno','tripno','Tour_ID_New','WB_Tour_ID_New','HB_tripids','WB_tripids')].head(15)"
   ]
  },
  {
   "cell_type": "code",
   "execution_count": null,
   "metadata": {
    "collapsed": false
   },
   "outputs": [],
   "source": [
    "# 11. Next step is to identify joint, partially joint tours and individual tours\n",
    "\n",
    "def occupancy(group):  # grouped by hhid, personid and Tour_ID or WB_Tour_ID\n",
    "    # purpose is to identify whether the tour is partially joint, fully joint or individual\n",
    "    # which_tour = 'Tour_ID_New'\n",
    "    # trv_agg = 'travelers_hh_cal'\n",
    "    # mem_list = ['hhmember1','hhmember2','hhmember3','hhmember4','hhmember5','hhmember6','hhmember7','hhmember8']\n",
    "    # per_num = 'perno'\n",
    "    # hh_id = 'sampno'\n",
    "    # char = ','\n",
    "\n",
    "    global trv_agg, which_tour, what_var_update, mem_list, hh_id, per_num, what_var_update_2, char\n",
    "    \n",
    "    tid = group[which_tour].tolist()[0]      # This is the tour id; full group should contain the same value\n",
    "    sze = len(group[which_tour].tolist())    # This is the length of the group\n",
    "    hid = group[hh_id].tolist()[0]           # Full group should have the same value\n",
    "    \n",
    "    trv_agg_list = group[trv_agg].tolist()   # Each trip in the tour can have a different value\n",
    "    self = group[per_num].tolist()[0]         # Full group should contain same value\n",
    "    \n",
    "    full_joint = [1 if a>=2 else 0 for a in trv_agg_list]\n",
    "    \n",
    "    if (tid==0):\n",
    "        var_list = [-99 for i in xrange(sze)]\n",
    "        var_list_member = [-99 for i in xrange(sze)]\n",
    "        \n",
    "    else:\n",
    "        if (sum(full_joint)==sze):\n",
    "            var_list = [1 for x in xrange(sze)]  # 1 stands for fully joint\n",
    "            \n",
    "        elif(sum(full_joint)==0):\n",
    "            var_list = [3 for x in xrange(sze)]  # 3 stands for individual\n",
    "            \n",
    "        else:\n",
    "            var_list = [2 for x in xrange(sze)]  # 2 stands for partially joint\n",
    "        \n",
    "        # Create member variable\n",
    "        member = []  # Will collect member personid\n",
    "        per_num_mem = 0  # member number\n",
    "        per_num_counted = []\n",
    "        \n",
    "        if (sum(full_joint)!=0):  # if not individual tour\n",
    "            for val in mem_list:  # Go through the variables in the mem_list\n",
    "                mem_group = group[val].tolist()  # Can have different value for different trip in the tour\n",
    "                per_num_mem = per_num_mem + 1    # this is the person number of the member\n",
    "                \n",
    "                for val_mem in mem_group:  # go through the list of member variable\n",
    "                    # 1. member indicattor is 1, 2. member is not the 'person' herself, 3. member already not counted\n",
    "                    if ((val_mem==1) & (per_num_mem!=self) & (per_num_counted.count(per_num_mem)==0)):\n",
    "                        #member_id = myTrip[(myTrip[hh_id]==hid)&(myTrip[per_num]==per_num_mem)]\n",
    "                        per_num_counted.append(per_num_mem)\n",
    "                        member.append(str(int(hid))+'0'+str(per_num_mem))\n",
    "            \n",
    "            var_list_member = [char.join(member) for i in xrange(sze)]\n",
    "            #print 'member list: ', member , 'self: ', self\n",
    "            #print 'counter on per_num_counted: ', Counter(per_num_counted)\n",
    "        \n",
    "        else:\n",
    "            var_list_member = [-99 for i in xrange(sze)]\n",
    "            \n",
    "    group.loc[:,what_var_update] = var_list\n",
    "    group.loc[:,what_var_update_2] = var_list_member\n",
    "    \n",
    "    return group\n",
    "\n",
    "print 'Done11'"
   ]
  },
  {
   "cell_type": "code",
   "execution_count": null,
   "metadata": {
    "collapsed": false
   },
   "outputs": [],
   "source": [
    "# H9. Next determine whether the tour is fully joint, partially joint or individual & create member list (based on hh member only) - home based tour\n",
    "which_tour = 'Tour_ID_New'\n",
    "trv_agg = 'travelers_hh_cal'\n",
    "mem_list = ['hhmember1','hhmember2','hhmember3','hhmember4','hhmember5','hhmember6','hhmember7','hhmember8']\n",
    "per_num = 'perno'\n",
    "hh_id = 'sampno'\n",
    "char = ','\n",
    "\n",
    "what_var_update = 'HB_occupancy'\n",
    "what_var_update_2 = 'HB_occupancy_member'\n",
    "result = myTrip.groupby(['sampno','perno',which_tour],group_keys=False).apply(occupancy)\n",
    "\n",
    "myTrip.loc[:,what_var_update] = result[what_var_update]\n",
    "myTrip.loc[:,what_var_update_2] = result[what_var_update_2]\n",
    "del result, which_tour, mem_list, per_num, hh_id, char, what_var_update, what_var_update_2\n",
    "print \"DONE!!! home based tour occupancy and member list\"\n",
    "    \n",
    "# W9. Next determinne whether the tour is fully joint, partially joint or individual & create member list , hhmember - work based tour\n",
    "which_tour = 'WB_Tour_ID_New'\n",
    "trv_agg = 'travelers_hh_cal'\n",
    "mem_list = ['hhmember1','hhmember2','hhmember3','hhmember4','hhmember5','hhmember6','hhmember7','hhmember8']\n",
    "per_num = 'perno'\n",
    "hh_id = 'sampno'\n",
    "char = ','\n",
    "\n",
    "what_var_update = 'WB_occupancy'\n",
    "what_var_update_2 = 'WB_occupancy_member'\n",
    "result = myTrip.groupby(['sampno','perno',which_tour],group_keys=False).apply(occupancy)\n",
    "#myTrip.groupby(['hhid','personid',which_tour],group_keys=False).apply(occupancy)\n",
    "myTrip.loc[:,what_var_update] = result[what_var_update]\n",
    "myTrip.loc[:,what_var_update_2] = result[what_var_update_2]\n",
    "del result, which_tour, mem_list, per_num, hh_id, char, what_var_update, what_var_update_2\n",
    "print \"DONE!!! work based tour occupancy and member list\""
   ]
  },
  {
   "cell_type": "code",
   "execution_count": null,
   "metadata": {
    "collapsed": false
   },
   "outputs": [],
   "source": [
    "myTrip.loc[(myTrip['travelers_hh_cal']==3),('sampno','perno','tripno','per1','per2','per3','per4','per5','HB_occupancy','HB_occupancy_member','hhmember1','hhmember2','hhmember3','hhmember4','hhmember5','hhmember6','hhmember7','hhmember8')].head(10)"
   ]
  },
  {
   "cell_type": "code",
   "execution_count": null,
   "metadata": {
    "collapsed": false
   },
   "outputs": [],
   "source": [
    "myTrip.loc[(myTrip['WB_Tour_ID_New']>0),('sampno','perno','tripno','WB_Tour_ID_New','per1','per2','per3','per4','per5','WB_occupancy','WB_occupancy_member')].head(10)"
   ]
  },
  {
   "cell_type": "code",
   "execution_count": null,
   "metadata": {
    "collapsed": false
   },
   "outputs": [],
   "source": [
    "# 12. Next step is to identify joint, partially joint tours and individual tours\n",
    "\n",
    "def occupancy_total(group):  # grouped by hhid, personid and Tour_ID or WB_Tour_ID\n",
    "    # purpose is to identify whether the tour is partially joint, fully joint or individual based on the presence on non-hh members\n",
    "    \n",
    "    global trv_agg, which_tour, what_var_update, hh_id\n",
    "    \n",
    "    tid = group[which_tour].tolist()[0]      # This is the tour id; full group should contain the same value\n",
    "    sze = len(group[which_tour].tolist())    # This is the length of the group\n",
    "    hid = group[hh_id].tolist()[0]           # Full group should have the same value\n",
    "    \n",
    "    trv_agg_list = group[trv_agg].tolist()   # Each trip in the tour can have a different value\n",
    "    \n",
    "    full_joint = [1 if a>=2 else 0 for a in trv_agg_list]\n",
    "    \n",
    "    if (tid==0):\n",
    "        var_list = [-99 for i in xrange(sze)]\n",
    "        var_list_member = [-99 for i in xrange(sze)]\n",
    "        \n",
    "    else:\n",
    "        if (sum(full_joint)==sze):\n",
    "            var_list = [1 for x in xrange(sze)]  # 1 stands for fully joint\n",
    "            \n",
    "        elif(sum(full_joint)==0):\n",
    "            var_list = [3 for x in xrange(sze)]  # 3 stands for individual\n",
    "            \n",
    "        else:\n",
    "            var_list = [2 for x in xrange(sze)]  # 2 stands for partially joint\n",
    "            \n",
    "    group.loc[:,what_var_update] = var_list\n",
    "    \n",
    "    return group\n",
    "\n",
    "print 'Done12'"
   ]
  },
  {
   "cell_type": "code",
   "execution_count": null,
   "metadata": {
    "collapsed": false
   },
   "outputs": [],
   "source": [
    "# H10. Next determine whether the tour is fully joint, partially joint or individual & create member list (based on total) - home based tour\n",
    "which_tour = 'Tour_ID_New'\n",
    "trv_agg = 'travelers_total_cal'\n",
    "hh_id ='sampno'   \n",
    "what_var_update = 'HB_occupancy_total'\n",
    "result = myTrip.groupby(['sampno','perno',which_tour],group_keys=False).apply(occupancy_total)\n",
    "myTrip.loc[:,what_var_update] = result[what_var_update]\n",
    "del result, which_tour, trv_agg, what_var_update, hh_id\n",
    "print \"DONE!!! home based tour occupancy for hh and nonhh members\"\n",
    "    \n",
    "# W10. Next determinne whether the tour is fully joint, partially joint or individual & create member list , hh&nonhh - work based tour\n",
    "which_tour = 'WB_Tour_ID_New'\n",
    "trv_agg = 'travelers_total_cal'\n",
    "hh_id ='sampno'     \n",
    "what_var_update = 'WB_occupancy_total'\n",
    "result = myTrip.groupby(['sampno','perno',which_tour],group_keys=False).apply(occupancy_total)\n",
    "#myTrip.groupby(['hhid','personid',which_tour],group_keys=False).apply(occupancy)\n",
    "myTrip.loc[:,what_var_update] = result[what_var_update]\n",
    "del result, which_tour, trv_agg, what_var_update, hh_id\n",
    "print \"DONE!!! work based tour occupancy for hh and nonhh members\""
   ]
  },
  {
   "cell_type": "code",
   "execution_count": null,
   "metadata": {
    "collapsed": false
   },
   "outputs": [],
   "source": [
    "myTrip.loc[(myTrip['travelers_hh_cal']==3),('sampno','perno','tripno','per1','per2','per3','per4','per5','HB_occupancy','HB_occupancy_total','HB_occupancy_member','hhmember1','hhmember2','hhmember3','hhmember4','hhmember5','hhmember6','hhmember7','hhmember8')].head(10)"
   ]
  },
  {
   "cell_type": "code",
   "execution_count": null,
   "metadata": {
    "collapsed": false
   },
   "outputs": [],
   "source": [
    "myTrip.loc[(myTrip['WB_Tour_ID_New']>0),('sampno','perno','tripno','WB_Tour_ID_New','per1','per2','per3','per4','per5','WB_occupancy','WB_occupancy_total','WB_occupancy_member')].head(10)"
   ]
  },
  {
   "cell_type": "code",
   "execution_count": null,
   "metadata": {
    "collapsed": false
   },
   "outputs": [],
   "source": [
    "# 13. Identify the escort member id and tourid for school tours\n",
    "def schl_escrt2(group): # grouped by hhid, personid, Tour_ID\n",
    "    global d_pur_b, d_pur, arv_time, dept_time, per_num, trv_hh_lnk, hh_mem_lst, which_tour, tour_id, hid, mde, per_id, prm_act\n",
    "    global what_var_update_1,what_var_update_2,what_var_update_3,what_var_update_4\n",
    "    # global what_var_update_5,what_var_update_6,what_var_update_7,what_var_update_8\n",
    "    \n",
    "    global count_1_school, count_accompany_1_to, count_accompany_1_from, check_to, check_from \n",
    "    \n",
    "    sze = len(group[which_tour].tolist())  # This is size of the group\n",
    "    tid = group[which_tour].tolist()[0]    # This is the tour id, full group should have the same value\n",
    "    hh = group[hid].tolist()[0]            # This is the hhid of the student, full group should have the same value\n",
    "    prm_act_lst = group[prm_act].tolist()  # list of the primary activity id\n",
    "    \n",
    "    pur_det = group[d_pur_b].tolist()  # This is the broad d_purpose\n",
    "    pur_fine = group[d_pur].tolist()   # This is the finer d_purpose\n",
    "    \n",
    "    person = group[per_num].tolist()[0]  # Person number of the 'school goer', full group should contain same value\n",
    "    trv_hh = group[trv_hh_lnk].tolist()   # This is the travelers_hh variable\n",
    "    \n",
    "    # Variables for checking inter household consistency\n",
    "    mde_chld = group[mde].tolist()      # This is the primary mode of the group of the student, different trip in the group will have different mode\n",
    "    arv_chld = group[arv_time].tolist() # This is the arrival time of the child's trips\n",
    "    dept_chld = group[dept_time].tolist() # This is the departure time of the child's trips\n",
    "     \n",
    "    group.loc[:,what_var_update_1] = [-99 for i in xrange(sze)]\n",
    "    group.loc[:,what_var_update_2] = [-99 for i in xrange(sze)]\n",
    "    group.loc[:,what_var_update_3] = [-99 for i in xrange(sze)]\n",
    "    group.loc[:,what_var_update_4] = [-99 for i in xrange(sze)]\n",
    "    #group.loc[:,what_var_update_5] = [-99 for i in xrange(sze)]\n",
    "    #group.loc[:,what_var_update_6] = [-99 for i in xrange(sze)]\n",
    "    #group.loc[:,what_var_update_7] = [-99 for i in xrange(sze)]\n",
    "    #group.loc[:,what_var_update_8] = [-99 for i in xrange(sze)]\n",
    "    \n",
    "        \n",
    "    #print 'Counter on what_var_update_1: ', group[what_var_update_1]\n",
    "        \n",
    "    if ((tid==0)|(pur_det.count(1)==0)):  # If this is not a valid tour, or if there is no school stop within the tour\n",
    "        pass\n",
    "    \n",
    "    elif (pur_det.count(1)>=1):  # If there is 1 or more school stops within the tour\n",
    "        #to_index = pur_det.index(1)   # Get the index of the trip leading to the school\n",
    "        to_index = prm_act_lst.index(1)   # Get the index of the trip leading to the primary activity\n",
    "        from_index = to_index + 1     # Get the index of the trip leaving from primary activity\n",
    "        \n",
    "        get_type = pur_fine[to_index] # Get the finer purpose to identify whether its a 4 or 5\n",
    "        \n",
    "        #count_1_school = count_1_school + 1\n",
    "                \n",
    "        if (trv_hh[to_index]>=2):\n",
    "            count_accompany_1_to.append(trv_hh[to_index])\n",
    "            \n",
    "            mem_list = None  # to be appended the escort's personid\n",
    "            tour_list = None # to be appended the escort's tourid\n",
    "\n",
    "            # go through the hhmember list\n",
    "            for i in xrange(len(hh_mem_lst)):\n",
    "                mem_var = group[hh_mem_lst[i]].tolist()[to_index]  # Take the member information of the to trip\n",
    "                if ((mem_var==1)&((i+1)!=person)):  # If the member is reported and the memebr is not the person\n",
    "                    mem_trip = myTrip[((myTrip[hid]==hh)&(myTrip[per_num]==(i+1)))]   # get all the trips of the accompanying member\n",
    "                    mem_trip.sort_values(['trpid'], ascending=[True], inplace=True)  # Sort the members trips by linked_tripid\n",
    "                    sze_prnt = mem_trip.shape[0]  # Length of the parent's trip record\n",
    "                    \n",
    "                    if (sze_prnt>0):  # If some trips are reported for the parent\n",
    "                        mde_prnt = mem_trip[mde].tolist()         # Mode of all trips of the parent\n",
    "                        arv_prnt = mem_trip[arv_time].tolist()    # Arrival time of all trips of the parent\n",
    "                        dept_prnt = mem_trip[dept_time].tolist()  # Departure time of all trips of the parent\n",
    "                        person_prnt = mem_trip[hh_mem_lst[(int(person)-1)]].tolist()     # This is the student's indicator on person's trip record\n",
    "                        tourid_prnt = mem_trip[tour_id].tolist()   # This is the parent's home based tour id\n",
    "                        perid_prnt = mem_trip[per_id].tolist()[0]   # This is the parent's personid, whole group should contain the same value\n",
    "                    \n",
    "                        #print 'mode_child: ', mde_chld[to_index], 'mode_parent: ', mde_prnt\n",
    "                        for j in xrange(sze_prnt):\n",
    "                            # Check, matches start time, end time and mode and the parent's purpose os not school or school related\n",
    "                            if ((mde_chld[to_index]==mde_prnt[j])&(arv_chld[to_index]==arv_prnt[j])&(dept_chld[to_index]==dept_prnt[j])&(person_prnt[j]==1)):\n",
    "                                if (mem_list is None):\n",
    "                                    mem_list = str(perid_prnt)\n",
    "                                    tour_list= str(tourid_prnt[j])\n",
    "                                elif (mem_list is not None):\n",
    "                                    mem_list = mem_list + (' , '+str(perid_prnt))\n",
    "                                    tour_list = tour_list + (' , '+str(tourid_prnt[j]))\n",
    "                        \n",
    "                        #print 'mem_list: ', mem_list\n",
    "                        del mem_var, mem_trip, sze_prnt, mde_prnt, arv_prnt, dept_prnt, person_prnt, tourid_prnt, perid_prnt\n",
    "                    \n",
    "                    \n",
    "            # Outside the for loop of the household member list - inside the if of travelers_hh check\n",
    "            \n",
    "            if (mem_list is not None):  \n",
    "                if (get_type==1):\n",
    "                    #print 'yes_to_4'\n",
    "                    group.loc[:,what_var_update_1] = [mem_list for x in xrange(sze)]\n",
    "                    group.loc[:,what_var_update_2] = [tour_list for x in xrange(sze)]\n",
    "                    \n",
    "                    #print 'Counter on group: ', group[what_var_update_1]\n",
    "                    \n",
    "                #elif(get_type==5):\n",
    "                    #print 'yes_to_5'\n",
    "                    #group.loc[:,what_var_update_5] = [mem_list for x in xrange(sze)]\n",
    "                    #group.loc[:,what_var_update_6] = [tour_list for x in xrange(sze)]\n",
    "                \n",
    "            del mem_list, tour_list\n",
    "            #print 'mem_list: ', mem_list, 'get_type: ', get_type, 'sze: ', sze, 'Counter on group: ', group[what_var_update_1]\n",
    "            \n",
    "        \n",
    "        if (trv_hh[from_index]>=2):\n",
    "            count_accompany_1_from.append(trv_hh[from_index])\n",
    "            \n",
    "            # For the from half tour\n",
    "            mem_list = None\n",
    "            tour_list = None\n",
    "            \n",
    "            # go through the hhmember list\n",
    "            for i in xrange(len(hh_mem_lst)):\n",
    "                mem_var = group[hh_mem_lst[i]].tolist()[from_index]  # Take the member information of the to trip\n",
    "                if ((mem_var==1)&((i+1)!=person)):  # If the member is reported and the memebr is not the person\n",
    "                    mem_trip = myTrip[((myTrip[hid]==hh)&(myTrip[per_num]==(i+1)))]   # get all the trips of the accompanying member\n",
    "                    mem_trip.sort_values(['trpid'], ascending=[True], inplace=True)  # Sort the members trips by linked_tripid\n",
    "                    sze_prnt = mem_trip.shape[0]  # Length of the parent's trip record\n",
    "                                \n",
    "                    if (sze_prnt>0):  # If some trips are reported for the parent\n",
    "                        mde_prnt = mem_trip[mde].tolist()         # Mode of all trips of the parent\n",
    "                        arv_prnt = mem_trip[arv_time].tolist()    # Arrival time of all trips of the parent\n",
    "                        dept_prnt = mem_trip[dept_time].tolist()  # Departure time of all trips of the parent\n",
    "                        person_prnt = mem_trip[hh_mem_lst[(int(person)-1)]].tolist()     # This is the student's indicator on person's trip record\n",
    "                        tourid_prnt = mem_trip[tour_id].tolist()   # This is the parent's home based tour id\n",
    "                        perid_prnt = mem_trip[per_id].tolist()[0]   # This is the parent's personid, whole group should contain the same value\n",
    "                    \n",
    "                        \n",
    "                        for j in xrange(sze_prnt):\n",
    "                            # Check, matches start time, end time and mode and the parent's purpose os not school or school related\n",
    "                            if ((mde_chld[from_index]==mde_prnt[j])&(arv_chld[from_index]==arv_prnt[j])&(dept_chld[from_index]==dept_prnt[j])&(person_prnt[j]==1)):\n",
    "                                if (mem_list is None):\n",
    "                                    mem_list = str(perid_prnt)\n",
    "                                    tour_list= str(tourid_prnt[j])\n",
    "                                elif (mem_list is not None):\n",
    "                                    mem_list = mem_list + (' , '+str(perid_prnt))\n",
    "                                    tour_list = tour_list + (' , '+str(tourid_prnt[j]))\n",
    "                        \n",
    "                        #print 'mem_list: ', mem_list\n",
    "                        del mem_var, mem_trip, sze_prnt, mde_prnt, arv_prnt, dept_prnt, person_prnt, tourid_prnt, perid_prnt \n",
    "                    \n",
    "            # Outside the for loop of the household member list, this is inside the for of travelers_hh[from_index] >= 2\n",
    "            if (mem_list is not None):\n",
    "                if (get_type==1):\n",
    "                    #print 'yes_from_4'\n",
    "                    group.loc[:,what_var_update_3] = [mem_list for x in xrange(sze)]\n",
    "                    group.loc[:,what_var_update_4] = [tour_list for x in xrange(sze)]\n",
    "                    \n",
    "                #elif(get_type==1):\n",
    "                    #print 'yes_from_5'\n",
    "                    #group.loc[:,what_var_update_7] = [mem_list for x in xrange(sze)]\n",
    "                    #group.loc[:,what_var_update_8] = [tour_list for x in xrange(sze)]\n",
    "                    \n",
    "            del mem_list, tour_list\n",
    "        \n",
    "    \n",
    "    '''for i in xrange(8):\n",
    "        var_name = 'what_var_update_'+str(i+1); print var_name\n",
    "        print 'Counter on: ', var_name, \"\\n\", group[var_name].value_counts().sort_index()'''\n",
    "    \n",
    "    return group\n",
    "\n",
    "print 'Done13'"
   ]
  },
  {
   "cell_type": "code",
   "execution_count": null,
   "metadata": {
    "collapsed": false
   },
   "outputs": [],
   "source": [
    "# H13. Next create the member list and mandatory tour id for school tours - home based tours\n",
    "d_pur_b = 'd_pur_broad'  # This is the broad d_purpose\n",
    "d_pur = 'd_pur_broad'  # This is the finer d_purpose\n",
    "\n",
    "arv_time = 'trp_arr_time'       # This is the arrival time\n",
    "dept_time = 'trp_dep_time'    # This is the departure time\n",
    "mde = 'mode'            # This is the mode variable\n",
    "prm_act = 'HB_primary_activity_id'            # This is the mode variable\n",
    "\n",
    "hid = 'sampno'                           # This is the household id \n",
    "per_num = 'perno'                 # This is the number of the person who is making the trip\n",
    "per_id = 'perid'                 # This is the person id variable\n",
    "trv_hh_lnk = 'travelers_hh_cal'         # This is the travelers hh_linked\n",
    "hh_mem_lst = ['hhmember1','hhmember2','hhmember3','hhmember4','hhmember5','hhmember6','hhmember7','hhmember8']\n",
    "\n",
    "which_tour = 'Tour_ID_New'  # This is the home based tour id, unique for each individual\n",
    "tour_id = 'home_based_tourid_updated'  # This is the home based tour id created by appending persondid with Tour_ID\n",
    "\n",
    "\n",
    "# Variables that need to be updated - school activity\n",
    "what_var_update_1 = 'memberid_to_school_04'\n",
    "what_var_update_2 = 'tourid_to_school_04'\n",
    "what_var_update_3 = 'memberid_from_school_04'\n",
    "what_var_update_4 = 'tourid_from_school_04'\n",
    "\n",
    "# Variables that need to be updated - school related\n",
    "#what_var_update_5 = 'memberid_to_school_05'\n",
    "#what_var_update_6 = 'tourid_to_school_05'\n",
    "#what_var_update_7 = 'memberid_from_school_05'\n",
    "#what_var_update_8 = 'tourid_from_school_05'\n",
    "\n",
    "# Call to the function\n",
    "check_to = 0                       # how many have 0 trip for the parent\n",
    "check_from = 0                       # how many have 0 trip for the parent\n",
    "count_1_school = 0\n",
    "count_accompany_1_to = []\n",
    "count_accompany_1_from = []\n",
    "result = myTrip.groupby(['sampno','perno',which_tour],group_keys = False).apply(schl_escrt2)\n",
    "    \n",
    "#print 'How many had 1 leg: ', count_1_school  # 3120\n",
    "print 'Counter on accompaniment to school: ', Counter(count_accompany_1_to)\n",
    "print 'Counter on accompaniment from school: ', Counter(count_accompany_1_from)\n",
    "#print 'How many have 0 trip for the parent, to school: ', check_to\n",
    "#print 'How many have 0 trip for the parent, from school: ', check_from\n",
    "\n",
    "myTrip.loc[:,what_var_update_1] = result[what_var_update_1]\n",
    "myTrip.loc[:,what_var_update_2] = result[what_var_update_2]\n",
    "myTrip.loc[:,what_var_update_3] = result[what_var_update_3]\n",
    "myTrip.loc[:,what_var_update_4] = result[what_var_update_4]\n",
    "#myTrip.loc[:,what_var_update_5] = result[what_var_update_5]\n",
    "#myTrip.loc[:,what_var_update_6] = result[what_var_update_6]\n",
    "#myTrip.loc[:,what_var_update_7] = result[what_var_update_7]\n",
    "#myTrip.loc[:,what_var_update_8] = result[what_var_update_8]\n",
    "\n",
    "print \"DONE!!! home based tour school escort\"\n",
    "\n",
    "del result"
   ]
  },
  {
   "cell_type": "code",
   "execution_count": null,
   "metadata": {
    "collapsed": false
   },
   "outputs": [],
   "source": [
    "myTrip[['sampno','perno','tripno','Tour_ID_New','memberid_to_school_04','tourid_to_school_04']].head()"
   ]
  },
  {
   "cell_type": "code",
   "execution_count": null,
   "metadata": {
    "collapsed": false
   },
   "outputs": [],
   "source": [
    "# W13. Next create the member list and mandatory tour id for school tours\n",
    "d_pur_b = 'd_pur_broad'  # This is the broad d_purpose\n",
    "d_pur = 'd_pur_broad'  # This is the finer d_purpose\n",
    "\n",
    "arv_time = 'trp_arr_time'       # This is the arrival time\n",
    "dept_time = 'trp_dep_time'    # This is the departure time\n",
    "mde = 'mode'            # This is the mode variable\n",
    "prm_act = 'WB_primary_activity_id'            # This is the primary activity id\n",
    "\n",
    "hid = 'sampno'                           # This is the household id \n",
    "per_num = 'perno'                 # This is the number of the person who is making the trip\n",
    "per_id = 'perid'                 # This is the person id variable\n",
    "trv_hh_lnk = 'travelers_hh_cal'         # This is the travelers hh_linked\n",
    "hh_mem_lst = ['hhmember1','hhmember2','hhmember3','hhmember4','hhmember5','hhmember6','hhmember7','hhmember8']\n",
    "\n",
    "which_tour = 'WB_Tour_ID_New'  # This is the home based tour id, unique for each individual\n",
    "tour_id = 'work_based_tourid'  # This is the home based tour id created by appending persondid with Tour_ID\n",
    "\n",
    "\n",
    "# Variables that need to be updated - school activity\n",
    "what_var_update_1 = 'WB_memberid_to_school_04'\n",
    "what_var_update_2 = 'WB_tourid_to_school_04'\n",
    "what_var_update_3 = 'WB_memberid_from_school_04'\n",
    "what_var_update_4 = 'WB_tourid_from_school_04'\n",
    "\n",
    "# Variables that need to be updated - school related\n",
    "#what_var_update_5 = 'WB_memberid_to_school_05'\n",
    "#what_var_update_6 = 'WB_tourid_to_school_05'\n",
    "#what_var_update_7 = 'WB_memberid_from_school_05'\n",
    "#what_var_update_8 = 'WB_tourid_from_school_05'\n",
    "\n",
    "# Call to the function\n",
    "check_to = 0                       # how many have 0 trip for the parent\n",
    "check_from = 0                       # how many have 0 trip for the parent\n",
    "count_1_school = 0\n",
    "count_accompany_1_to = []\n",
    "count_accompany_1_from = []\n",
    "result = myTrip.groupby(['sampno','perno',which_tour],group_keys = False).apply(schl_escrt2)\n",
    "    \n",
    "#print 'How many had 1 leg: ', count_1_school  # 3120\n",
    "print 'Counter on accompaniment to school: ', Counter(count_accompany_1_to)\n",
    "print 'Counter on accompaniment from school: ', Counter(count_accompany_1_from)\n",
    "#print 'How many have 0 trip for the parent, to school: ', check_to\n",
    "#print 'How many have 0 trip for the parent, from school: ', check_from\n",
    "\n",
    "myTrip.loc[:,what_var_update_1] = result[what_var_update_1]\n",
    "myTrip.loc[:,what_var_update_2] = result[what_var_update_2]\n",
    "myTrip.loc[:,what_var_update_3] = result[what_var_update_3]\n",
    "myTrip.loc[:,what_var_update_4] = result[what_var_update_4]\n",
    "#myTrip.loc[:,what_var_update_5] = result[what_var_update_5]\n",
    "#myTrip.loc[:,what_var_update_6] = result[what_var_update_6]\n",
    "#myTrip.loc[:,what_var_update_7] = result[what_var_update_7]\n",
    "#myTrip.loc[:,what_var_update_8] = result[what_var_update_8]\n",
    "\n",
    "print \"DONE!!! work based tour school escort\"\n",
    "    \n",
    "print \":-)\"\n",
    "\n",
    "del result\n"
   ]
  },
  {
   "cell_type": "markdown",
   "metadata": {},
   "source": [
    "# Change trip1"
   ]
  },
  {
   "cell_type": "code",
   "execution_count": null,
   "metadata": {
    "collapsed": false
   },
   "outputs": [],
   "source": [
    "# This is to save the generated data\n",
    "# From previous version of data this corrects the dwell time function and also corrects the work_based tour id\n",
    "import pickle\n",
    "myTrip.to_pickle('C:/Users/jiz13007/Documents/CAMMSE/California House Travel Survey/code/pickle data/Trip Tour/survey_trip1_after_tour.pkl')"
   ]
  },
  {
   "cell_type": "code",
   "execution_count": null,
   "metadata": {
    "collapsed": false
   },
   "outputs": [],
   "source": [
    "# Read file from pickle\n",
    "from pandas import *\n",
    "import numpy as np\n",
    "from collections import Counter\n",
    "import csv\n",
    "import matplotlib.pyplot as plt\n",
    "from savReaderWriter import * \n",
    "\n",
    "myTrip = read_pickle('C:/Users/jiz13007/Documents/CAMMSE/California House Travel Survey/code/pickle data/Trip Tour/survey_trip1_after_tour.pkl')\n",
    "myTrip.head()"
   ]
  },
  {
   "cell_type": "code",
   "execution_count": null,
   "metadata": {
    "collapsed": false
   },
   "outputs": [],
   "source": [
    "# Write the tour file\n",
    "# Take the tours\n",
    "valid_hb_tours = myTrip[myTrip.Tour_ID_New>0]; print 'shape of the valid home based tours: ', valid_hb_tours.shape \n",
    "hb_all_row = valid_hb_tours[['sampno', \n",
    "'perid',\n",
    "'Tour_ID_New',\n",
    "'which_home_based_tour',                             \n",
    "'home_based_tourid_updated',\n",
    "'HB_trip_count',\n",
    "'HB_change_mode_trip_count',\n",
    "'HB_tour_purpose',\n",
    "'HB_primary_activity_dwell_time',\n",
    "'HB_school_stop',\n",
    "'HB_work_stop',\n",
    "'HB_meal_stop',\n",
    "'HB_shop_stop',\n",
    "'HB_PerBus_stop',\n",
    "'HB_SocRec_stop',\n",
    "'HB_escort_stop',\n",
    "'HB_other_stop',\n",
    "'HB_ChaMod_stop',  \n",
    "'HB_tripids',\n",
    "'HB_occupancy',\n",
    "'HB_occupancy_member',\n",
    "'HB_occupancy_total',\n",
    "'memberid_to_school_04',\n",
    "'tourid_to_school_04',\n",
    "'memberid_from_school_04',\n",
    "'tourid_from_school_04'\n",
    "]]\n",
    "\n",
    "# Get only the first row of each group of the lnkd trip group\n",
    "hb_first = hb_all_row.groupby(['sampno','perid','Tour_ID_New']).first().reset_index()\n",
    "#print 'See heads: ', lnkd_first.head()\n",
    "print 'Shape of the dataframe: ', hb_first.shape\n",
    "\n",
    "new_var_list = ['sampno',\n",
    "'perid',\n",
    "'tour_index',\n",
    "'parent_home_based_tourid',\n",
    "'tourid',\n",
    "'tour_trip_count',\n",
    "'tour_change_mode_trip_count',\n",
    "'tour_purpose',\n",
    "'tour_primary_activity_dwell_time',\n",
    "'tour_stop_count_school',\n",
    "'tour_stop_count_work',\n",
    "'tour_stop_count_meal',\n",
    "'tour_stop_count_shop',\n",
    "'tour_stop_count_PerBus',\n",
    "'tour_stop_count_SocRec',\n",
    "'tour_stop_count_escort',\n",
    "'tour_stop_count_other',\n",
    "'tour_stop_count_ChaMod',\n",
    "'tour_tripid',\n",
    "'tour_occupancy_hh',\n",
    "'tour_occupancy_hh_member',\n",
    "'tour_occupancy_total',\n",
    "'school_escort_member_personid_to_4',\n",
    "'school_escort_member_tourid_to_4',\n",
    "'school_escort_member_personid_from_4',\n",
    "'school_escort_member_tourid_from_4'\n",
    "]\n",
    "\n",
    "hb_first.columns = new_var_list\n",
    "\n",
    "####create work based tour file\n",
    "\n",
    "valid_wb_tours = myTrip[myTrip.WB_Tour_ID_New>0]; print 'shape of the valid work based tours: ', valid_wb_tours.shape \n",
    "wb_all_row = valid_wb_tours[[\n",
    "'sampno', \n",
    "'perid',\n",
    "'WB_Tour_ID_New',\n",
    "'which_home_based_tour',\n",
    "'work_based_tourid',\n",
    "'WB_trip_count',\n",
    "'WB_change_mode_trip_count',\n",
    "'WB_tour_purpose',\n",
    "'WB_primary_activity_dwell_time',\n",
    "'WB_r_school_stop',\n",
    "'WB_r_work_stop',\n",
    "'WB_r_meal_stop',\n",
    "'WB_r_shop_stop',\n",
    "'WB_r_PerBus_stop',\n",
    "'WB_r_SocRec_stop',\n",
    "'WB_r_escort_stop',\n",
    "'WB_r_other_stop',\n",
    "'WB_r_ChaMod_stop',\n",
    "'WB_tripids',\n",
    "'WB_occupancy',\n",
    "'WB_occupancy_member',\n",
    "'WB_occupancy_total',\n",
    "'WB_memberid_to_school_04',\n",
    "'WB_tourid_to_school_04',\n",
    "'WB_memberid_from_school_04',\n",
    "'WB_tourid_from_school_04'\n",
    "]]\n",
    "\n",
    "# Get only the first row of each group of the lnkd trip group\n",
    "wb_first = wb_all_row.groupby(['sampno','perid','WB_Tour_ID_New']).first().reset_index()\n",
    "#print 'See heads: ', lnkd_first.head()\n",
    "print 'Shape of the dataframe: ', wb_first.shape\n",
    "\n",
    "wb_first.columns = new_var_list\n",
    "\n",
    "frames = [hb_first, wb_first]\n",
    "\n",
    "# Full tour\n",
    "full_tour = concat(frames, ignore_index = True);  print 'Final dataframe size: ', full_tour.shape\n",
    "\n",
    "# Sort the dataframe\n",
    "full_tour.sort_values(['tourid'], ascending=[True], inplace = True)\n",
    "\n",
    "# Counter on tour_index\n",
    "# print 'counter on tour index: ', full_tour.tour_index.value_counts().sort_index()  # no zero values\n",
    "# Create tour id\n",
    "full_tour['tour_type'] = (full_tour.tour_index<20)*1+(full_tour.tour_index>20)*2  # 1 stands for home based tour and 2 stands for work based sub tours\n",
    "\n",
    "# Counter on tour_type\n",
    "print 'counter on tour type: ', full_tour.tour_type.value_counts().sort_index()  # no zero values\n",
    "\n",
    "#full_tour.to_csv(r'C:/Users/jiz13007/Documents/CAMMSE/California House Travel Survey/code/pickle data/Tour_file_trip1.csv', header=True, float_format = '%.f', index=None, sep=' ', mode='a')  \n",
    "#full_tour.to_pickle('C:/Users/jiz13007/Documents/CAMMSE/California House Travel Survey/code/pickle data/Tour_file_trip1.pkl')\n",
    "#del full_tour"
   ]
  },
  {
   "cell_type": "markdown",
   "metadata": {},
   "source": [
    "# Change survey trip1"
   ]
  },
  {
   "cell_type": "code",
   "execution_count": null,
   "metadata": {
    "collapsed": true
   },
   "outputs": [],
   "source": [
    "full_tour.to_csv(r'C:/Users/jiz13007/Documents/CAMMSE/California House Travel Survey/code/pickle data/Tour/Tour_file_trip1.csv', header=True, float_format = '%.f', index=None, sep=' ', mode='a')  \n",
    "full_tour.to_pickle('C:/Users/jiz13007/Documents/CAMMSE/California House Travel Survey/code/pickle data//Tour/Tour_file_trip1.pkl')\n",
    "del full_tour"
   ]
  },
  {
   "cell_type": "code",
   "execution_count": null,
   "metadata": {
    "collapsed": false
   },
   "outputs": [],
   "source": [
    "# Read file from pickle\n",
    "from pandas import *\n",
    "import numpy as np\n",
    "from collections import Counter\n",
    "import csv\n",
    "import matplotlib.pyplot as plt\n",
    "from savReaderWriter import * \n",
    "\n",
    "myTrip = read_pickle('C:/Users/jiz13007/Documents/CAMMSE/California House Travel Survey/code/pickle data/Tour/Tour_file_trip1.pkl')\n",
    "myTrip.head()\n"
   ]
  },
  {
   "cell_type": "code",
   "execution_count": null,
   "metadata": {
    "collapsed": false
   },
   "outputs": [],
   "source": [
    "print myTrip.shape\n",
    "print myTrip['tour_type'].value_counts()"
   ]
  }
 ],
 "metadata": {
  "anaconda-cloud": {},
  "kernelspec": {
   "display_name": "Python [default]",
   "language": "python",
   "name": "python2"
  },
  "language_info": {
   "codemirror_mode": {
    "name": "ipython",
    "version": 2
   },
   "file_extension": ".py",
   "mimetype": "text/x-python",
   "name": "python",
   "nbconvert_exporter": "python",
   "pygments_lexer": "ipython2",
   "version": "2.7.12"
  }
 },
 "nbformat": 4,
 "nbformat_minor": 0
}
