{
 "cells": [
  {
   "cell_type": "markdown",
   "metadata": {},
   "source": [
    "#### This script is created to generate trip purpose by activity purpose using CHTS data\n",
    "#### To identify primary trip purpose the purpose hieracy was applied\n",
    "#### Delete a nan recode of sampno==1441893 in survey_place and survey_activity and correct the plano and tripno before running the script\n",
    "\n",
    "##### Jingyue Zhang, Last modified 1/17/2018"
   ]
  },
  {
   "cell_type": "code",
   "execution_count": 1,
   "metadata": {
    "collapsed": true
   },
   "outputs": [],
   "source": [
    "#Import libraries\n",
    "from pandas import *\n",
    "import numpy as np\n",
    "from collections import Counter\n",
    "import csv\n",
    "import matplotlib.pyplot as plt\n",
    "from savReaderWriter import * "
   ]
  },
  {
   "cell_type": "code",
   "execution_count": 8,
   "metadata": {
    "collapsed": false
   },
   "outputs": [
    {
     "name": "stdout",
     "output_type": "stream",
     "text": [
      "(604710, 32)\n",
      "(460523, 54)\n"
     ]
    }
   ],
   "source": [
    "'''Read the data from text file and convert in into a dataframe'''\n",
    "myAct=read_csv('C:/Users/jiz13007/Documents/CAMMSE/California House Travel Survey/caltrans_full_survey/caltrans_full_survey/survey_activity.csv')\n",
    "print (myAct.shape)\n",
    "    \n",
    "# Sort the trip file\n",
    "myAct.sort_values(['sampno','perno','plano','tripno','actno'], ascending=[True,True,True,True,True], inplace=True)\n",
    "myAct.reset_index(drop=True,inplace = True)\n",
    "\n",
    "#Column (25) contains character Ã\n",
    "#print myAct.head(10)\n",
    "\n",
    "myPlace=read_csv('C:/Users/jiz13007/Documents/CAMMSE/California House Travel Survey/caltrans_full_survey/caltrans_full_survey/survey_place.csv')\n",
    "#print (myPlace.shape)\n",
    "\n",
    "# Sort the place file\n",
    "myPlace.sort_values(['sampno','perno','plano','tripno'], ascending=[True,True,True,True], inplace=True)\n",
    "myPlace.reset_index(drop=True,inplace = True)\n",
    "print myPlace.shape\n",
    "#print myPlace.head()"
   ]
  },
  {
   "cell_type": "code",
   "execution_count": 9,
   "metadata": {
    "collapsed": false
   },
   "outputs": [
    {
     "name": "stdout",
     "output_type": "stream",
     "text": [
      "171069\n",
      "171069\n",
      "108778\n",
      "108778\n"
     ]
    }
   ],
   "source": [
    "'''Step1: Check if id is correct'''\n",
    "#replace 'NAN' to '0' in tripno\n",
    "print myAct['tripno'].isnull().sum()\n",
    "myAct['tripno'].replace(np.nan,0,inplace=True)\n",
    "print sum(myAct['tripno']==0)\n",
    "print myPlace['tripno'].isnull().sum()\n",
    "myPlace['tripno'].replace(np.nan,0,inplace=True)\n",
    "print sum(myPlace['tripno']==0)"
   ]
  },
  {
   "cell_type": "code",
   "execution_count": 19,
   "metadata": {
    "collapsed": false
   },
   "outputs": [],
   "source": [
    "'''Step1.1:\n",
    "Check if plano is correct\n",
    "sum of consecutive n numbers 1...n = n * (n+1) /2'''\n",
    "check_sampno=[]\n",
    "def consecutive_plano(group):#groupby sampno and perno\n",
    "    global check_sampno\n",
    "    sampno=group.sampno.tolist()[0]# the entire group should have the same value\n",
    "    plano=set(group.plano.tolist()) # get the unique values of plano\n",
    "    maximum=max(plano)\n",
    "    if sum(plano)==maximum*(maximum+1)/2:\n",
    "        pass\n",
    "    else:\n",
    "        check_sampno.append(sampno)\n",
    "    \n",
    "    return group\n",
    "\n",
    "result=myPlace.groupby(['sampno','perno']).apply(consecutive_plano)\n",
    "print check_sampno"
   ]
  },
  {
   "cell_type": "code",
   "execution_count": 19,
   "metadata": {
    "collapsed": false
   },
   "outputs": [
    {
     "name": "stdout",
     "output_type": "stream",
     "text": [
      "[]\n"
     ]
    }
   ],
   "source": [
    "'''Step1.2:\n",
    "Check if tripno is correct\n",
    "sum of consecutive n numbers 1...n = n * (n+1) /2'''\n",
    "check_sampno=[]\n",
    "def consecutive_plano(group):#groupby sampno and perno\n",
    "    global check_sampno\n",
    "    sampno=group.sampno.tolist()[0]# the entire group should have the same value\n",
    "    tripno=set(group.tripno.tolist()) # get the unique values of plano\n",
    "    maximum=max(tripno)\n",
    "    if sum(tripno)==maximum*(maximum+1)/2:\n",
    "        pass\n",
    "    else:\n",
    "        check_sampno.append(sampno)\n",
    "    \n",
    "    return group\n",
    "\n",
    "result=myPlace.groupby(['sampno','perno']).apply(consecutive_plano)\n",
    "print check_sampno"
   ]
  },
  {
   "cell_type": "code",
   "execution_count": 11,
   "metadata": {
    "collapsed": false
   },
   "outputs": [
    {
     "name": "stdout",
     "output_type": "stream",
     "text": [
      "(42431, 2)\n",
      "(604710, 33)\n",
      "42430\n",
      "(74132, 33)\n",
      "(68082, 33)\n",
      "(76542, 33)\n",
      "(63746, 33)\n",
      "(72939, 33)\n",
      "(81967, 33)\n",
      "(60887, 33)\n",
      "(106415, 33)\n",
      "604710\n",
      "(604710, 32)\n"
     ]
    }
   ],
   "source": [
    "'''Step1.2:'''\n",
    "#myAct is large so split the data into 10 portions\n",
    "#groupby hh\n",
    "hh_group=myAct.groupby('sampno')['perno'].max()\n",
    "hh_group=DataFrame(hh_group)\n",
    "hh_group.reset_index(inplace = True)\n",
    "hh_group.sort_values(['sampno'], ascending=[True], inplace=True)\n",
    "hh_group.reset_index(drop=True,inplace = True)\n",
    "print hh_group.shape\n",
    "#print hh_group.head()\n",
    "hh_group['hh_indx']=hh_group.index\n",
    "#print hh_group.head()\n",
    "del hh_group['perno']\n",
    "myAct_temp=merge(myAct, hh_group, on=['sampno'], how='left')\n",
    "print myAct_temp.shape\n",
    "print myAct_temp['hh_indx'].max()\n",
    "Act1=myAct_temp.loc[(myAct_temp['hh_indx']>=0) &(myAct_temp['hh_indx']<=5000)]\n",
    "print Act1.shape\n",
    "Act2=myAct_temp.loc[(myAct_temp['hh_indx']>=5001) &(myAct_temp['hh_indx']<=10000)]\n",
    "print Act2.shape\n",
    "Act3=myAct_temp.loc[(myAct_temp['hh_indx']>=10001) &(myAct_temp['hh_indx']<=15000)]\n",
    "print Act3.shape\n",
    "Act4=myAct_temp.loc[(myAct_temp['hh_indx']>=15001) &(myAct_temp['hh_indx']<=20000)]\n",
    "print Act4.shape\n",
    "Act5=myAct_temp.loc[(myAct_temp['hh_indx']>=20001) &(myAct_temp['hh_indx']<=25000)]\n",
    "print Act5.shape\n",
    "Act6=myAct_temp.loc[(myAct_temp['hh_indx']>=25001) &(myAct_temp['hh_indx']<=30000)]\n",
    "print Act6.shape\n",
    "Act7=myAct_temp.loc[(myAct_temp['hh_indx']>=30001) &(myAct_temp['hh_indx']<=35000)]\n",
    "print Act7.shape\n",
    "Act8=myAct_temp.loc[(myAct_temp['hh_indx']>=35001) &(myAct_temp['hh_indx']<=42431)]\n",
    "print Act8.shape\n",
    "sum_total=len(Act1)+len(Act2)+len(Act3)+len(Act4)+len(Act5)+len(Act6)+len(Act7)+len(Act8)\n",
    "print sum_total\n",
    "print myAct.shape"
   ]
  },
  {
   "cell_type": "code",
   "execution_count": 12,
   "metadata": {
    "collapsed": false
   },
   "outputs": [
    {
     "name": "stdout",
     "output_type": "stream",
     "text": [
      "[1120424, 1123111, 1123111, 1123507, 1123808, 1134470, 1135572, 1146383, 1147651, 1148923, 1164413, 1164413, 1164413, 1165342, 1165342, 1166899, 1170481, 1171450, 1197012, 1263899, 1362996, 1364491, 1365106, 1371740, 1371740, 1380695, 1381572]\n"
     ]
    }
   ],
   "source": [
    "'''Step1.2:\n",
    "Check if actno is correct\n",
    "sum of consecutive n numbers 1...n = n * (n+1) /2'''\n",
    "check_sampno1=[]\n",
    "def consecutive_actno(group):#groupby sampno and perno plano\n",
    "    global check_sampno\n",
    "    sampno=group.sampno.tolist()[0]# the entire group should have the same value\n",
    "    actno=set(group.actno.tolist()) # get the unique values\n",
    "    maximum=max(actno)\n",
    "    if sum(actno)==maximum*(maximum+1)/2:\n",
    "        pass\n",
    "    else:\n",
    "        check_sampno1.append(sampno)\n",
    "    \n",
    "    return group\n",
    "\n",
    "result=Act1.groupby(['sampno','perno','plano']).apply(consecutive_actno)\n",
    "print check_sampno1"
   ]
  },
  {
   "cell_type": "code",
   "execution_count": 17,
   "metadata": {
    "collapsed": false
   },
   "outputs": [],
   "source": [
    "#### actno is not consecutive, but the number will not be used and only the tripno matters, so the problem was not corrected\n",
    "del myAct_temp, Act1, Act2, Act3, Act4, Act5, Act6, Act7, Act8, hh_group"
   ]
  },
  {
   "cell_type": "markdown",
   "metadata": {},
   "source": [
    "#### Recode Activity Purpose Mapping\n",
    "#### -9-Home:1-8;\n",
    "#### 1-School:17-20;\n",
    "#### 2-Primary work:9-16; \n",
    "#### 3-Work-related: 25; \n",
    "#### 4-Meal:23,31\n",
    "#### 5-Shopping:27,28\n",
    "#### 6-Personal Business: 24,26,29,30,32,33,34,35\n",
    "#### 7-Social: 36,37\n",
    "#### 8-Escorting: 22\n",
    "#### 9-Other: 38, 39, 999\n",
    "#### 10-Change mode: 21"
   ]
  },
  {
   "cell_type": "code",
   "execution_count": 18,
   "metadata": {
    "collapsed": false
   },
   "outputs": [
    {
     "name": "stdout",
     "output_type": "stream",
     "text": [
      "aggregated activity_purpose_recode categories:\n",
      "-9     332039\n",
      " 1      15635\n",
      " 2      38328\n",
      " 3       9940\n",
      " 4      23049\n",
      " 5      37190\n",
      " 6      51273\n",
      " 7      29311\n",
      " 8      25265\n",
      " 9      18607\n",
      " 10     24073\n",
      "Name: act_pur, dtype: int64\n",
      "1     203178\n",
      "2      63538\n",
      "3       3461\n",
      "4       4211\n",
      "5       6099\n",
      "6       4157\n",
      "7      19989\n",
      "8      27406\n",
      "9      30530\n",
      "10       268\n",
      "11      5099\n",
      "12       106\n",
      "13       343\n",
      "14       330\n",
      "15       575\n",
      "16      1077\n",
      "17     11270\n",
      "18      2339\n",
      "19       790\n",
      "20      1236\n",
      "21     24073\n",
      "22     25265\n",
      "23      4723\n",
      "24      1275\n",
      "25      9940\n",
      "26      5067\n",
      "27     34344\n",
      "28      2846\n",
      "29      9204\n",
      "30      7086\n",
      "31     18326\n",
      "32      6016\n",
      "33      7376\n",
      "34     10338\n",
      "35      4911\n",
      "36      7331\n",
      "37     21980\n",
      "38      4635\n",
      "39     13778\n",
      "99       194\n",
      "Name: purpose, dtype: int64\n"
     ]
    }
   ],
   "source": [
    "'''Step3'''\n",
    "'''recode act_pur'''\n",
    "'''aggregate act_pur into 10 categories'''\n",
    "def trpPur(val):\n",
    "    if ((val>=1)&(val<=8)):\n",
    "        return -9 # Home\n",
    "    elif ((val>=17)&(val<=20)):\n",
    "        return 1 #School\n",
    "    elif ((val>=9)&(val<=16)):\n",
    "        return 2 # Primary Work\n",
    "    elif (val==25):\n",
    "        return 3 #Other work\n",
    "    elif ((val==23) | (val==31)):\n",
    "        return 4 #Meal\n",
    "    elif ((val==27) | (val==28)):\n",
    "        return 5 #Shopping\n",
    "    elif ((val==24) | (val==26) | (val==29) | (val==30)|(val==32) | (val==33) | (val==34) | (val==35)):\n",
    "        return 6 #Personal business\n",
    "    elif ((val==36) | (val==37)):\n",
    "        return 7 #Social\n",
    "    elif ((val==22)):\n",
    "        return 8 #Escorting\n",
    "    elif ((val==21)):\n",
    "        return 10 #Change mode\n",
    "    else:\n",
    "        return 9  #Other\n",
    "\n",
    "'''aggregate d_purpose_recode into 11 categories'''        \n",
    "Temp=myAct.purpose.map(trpPur)\n",
    "myAct.loc[:,'act_pur']=Temp \n",
    "print 'aggregated activity_purpose_recode categories:'\n",
    "print myAct['act_pur'].value_counts().sort_index()\n",
    "print myAct['purpose'].value_counts().sort_index()\n",
    "del Temp"
   ]
  },
  {
   "cell_type": "code",
   "execution_count": 38,
   "metadata": {
    "collapsed": false
   },
   "outputs": [
    {
     "name": "stdout",
     "output_type": "stream",
     "text": [
      "(460520L,)\n",
      "    sampno  perno  plano  tripno  trip_pur\n",
      "0  1031985      1      1     0.0        -9\n",
      "1  1031985      1      2     1.0         7\n",
      "2  1031985      1      3     2.0        -9\n",
      "3  1031985      2      1     0.0        -9\n",
      "4  1031985      2      2     1.0         6\n",
      "(604710, 34)\n",
      "(171069, 34)\n",
      "    sampno  perno  first_o_pur\n",
      "0  1031985      1           -9\n",
      "1  1031985      2           -9\n",
      "2  1032036      1           -9\n",
      "3  1032036      2           -9\n",
      "4  1032036      3           -9\n"
     ]
    }
   ],
   "source": [
    "'''Step3.1'''\n",
    "# Identify primary activity for each trip using activity priority, the smallest value has highest priority\n",
    "agg_pur=myAct.groupby(['sampno','perno','plano','tripno'])['act_pur'].min() #groupby and identify the purpose with highest priority\n",
    "print agg_pur.shape #460520\n",
    "agg_pur=DataFrame(agg_pur)\n",
    "agg_pur.reset_index(inplace=True)\n",
    "agg_pur.columns=['sampno','perno','plano','tripno','trip_pur']\n",
    "print agg_pur.head()\n",
    "#Merge primary purpose to myAct\n",
    "myAct1=merge(myAct,agg_pur,on=['sampno','perno','plano','tripno'], how='left')\n",
    "print myAct1.shape\n",
    "# Identify origin purpose of the first trip (tripno==0)\n",
    "myAct_ori=myAct1.loc[myAct['tripno']==0]\n",
    "print myAct_ori.shape\n",
    "agg_pur_ori=myAct_ori.groupby(['sampno','perno'])['trip_pur'].min()\n",
    "agg_pur_ori=DataFrame(agg_pur_ori)\n",
    "agg_pur_ori.reset_index(inplace=True)\n",
    "agg_pur_ori.columns=['sampno','perno','first_o_pur']\n",
    "print agg_pur_ori.head()"
   ]
  },
  {
   "cell_type": "markdown",
   "metadata": {},
   "source": [
    "### Identify trip purpose"
   ]
  },
  {
   "cell_type": "code",
   "execution_count": 47,
   "metadata": {
    "collapsed": false
   },
   "outputs": [
    {
     "name": "stdout",
     "output_type": "stream",
     "text": [
      "(460520, 5)\n",
      "(460523, 54)\n",
      "(460523, 55)\n",
      "321032    2652524\n",
      "321033    2652524\n",
      "346152    2818486\n",
      "Name: sampno, dtype: int64\n",
      "(460520, 55)\n",
      "0\n"
     ]
    }
   ],
   "source": [
    "'''Step4: Merge primary activity purpose to place file'''\n",
    "#Sort the place file\n",
    "myPlace.sort_values(['sampno','perno','plano','tripno'], ascending=[True,True,True,True], inplace=True)\n",
    "myPlace.reset_index(drop=True,inplace = True)\n",
    "print agg_pur.shape\n",
    "print myPlace.shape\n",
    "myPlace1=merge(myPlace, agg_pur, on=['sampno','perno','plano','tripno'], how='left')\n",
    "print myPlace1.shape\n",
    "print myPlace1.loc[myPlace1['trip_pur'].isnull(),'sampno']\n",
    "# identified three nan values. The persons (sampno==2652524, perno==4, tripno=2,3 and sampno==2818486. perno==4, tripno==3) reported trips but not report activities\n",
    "# therefore their records were deleted from place file\n",
    "myPlace1=myPlace1.dropna(subset = ['trip_pur'])\n",
    "print myPlace1.shape\n",
    "print myPlace1['trip_pur'].isnull().sum()"
   ]
  },
  {
   "cell_type": "code",
   "execution_count": 48,
   "metadata": {
    "collapsed": false
   },
   "outputs": [
    {
     "name": "stdout",
     "output_type": "stream",
     "text": [
      "(460520, 56)\n",
      "Series([], Name: sampno, dtype: int64)\n"
     ]
    }
   ],
   "source": [
    "'''Step4.1: merge origin purpose of the first trip to place file'''\n",
    "#Sort the place file\n",
    "myPlace1.sort_values(['sampno','perno','plano','tripno'], ascending=[True,True,True,True], inplace=True)\n",
    "myPlace1.reset_index(drop=True,inplace = True)\n",
    "myPlace2=merge(myPlace1, agg_pur_ori, on=['sampno','perno'], how='left')\n",
    "print myPlace2.shape\n",
    "print myPlace2.loc[myPlace2['first_o_pur'].isnull(),'sampno']"
   ]
  },
  {
   "cell_type": "markdown",
   "metadata": {},
   "source": [
    "### Identify trip departure time and arrivial time"
   ]
  },
  {
   "cell_type": "code",
   "execution_count": 52,
   "metadata": {
    "collapsed": false
   },
   "outputs": [
    {
     "name": "stdout",
     "output_type": "stream",
     "text": [
      "        plano  arr_time  dep_time\n",
      "369708      1   3:00:00  11:30:00\n",
      "369709      1  11:31:00  13:00:00\n",
      "369710      1  13:01:00  17:20:00\n",
      "369711      2  17:35:00  17:40:00\n",
      "369712      3  17:47:00  17:50:00\n",
      "369713      3  17:51:00  18:03:00\n",
      "369714      4  18:07:00  18:20:00\n",
      "369715      5  18:30:00  18:25:00\n",
      "369716      6  18:57:00  18:50:00\n",
      "369717      7  18:57:00  19:50:00\n",
      "369718      7  19:51:00   2:59:00\n"
     ]
    }
   ],
   "source": [
    "\n",
    "print myAct1.loc[(myAct1['sampno']==2527948)&(myAct1['perno']==1),('plano','arr_time','dep_time')]"
   ]
  },
  {
   "cell_type": "code",
   "execution_count": 57,
   "metadata": {
    "collapsed": false
   },
   "outputs": [
    {
     "name": "stdout",
     "output_type": "stream",
     "text": [
      "   arr_time  dep_time\n",
      "0   3:00:00   7:00:00\n",
      "1   7:00:00   8:10:00\n",
      "2   8:10:00   8:40:00\n",
      "3   9:02:00  12:48:00\n",
      "4  13:13:00  13:38:00\n",
      "    0   1  2\n",
      "0   3   0  0\n",
      "1   7   0  0\n",
      "2   8  10  0\n",
      "3   9   2  0\n",
      "4  13  13  0\n",
      "    0   1  2\n",
      "0   7   0  0\n",
      "1   8  10  0\n",
      "2   8  40  0\n",
      "3  12  48  0\n",
      "4  13  38  0\n",
      "(604710, 40)\n",
      "   arr_time  strt_hour  strt_min  strt_second  dep_time  end_hour  end_min  \\\n",
      "0   3:00:00          3         0            0   7:00:00         7        0   \n",
      "1   7:00:00          7         0            0   8:10:00         8       10   \n",
      "2   8:10:00          8        10            0   8:40:00         8       40   \n",
      "3   9:02:00          9         2            0  12:48:00        12       48   \n",
      "4  13:13:00         13        13            0  13:38:00        13       38   \n",
      "\n",
      "   end_second  \n",
      "0           0  \n",
      "1           0  \n",
      "2           0  \n",
      "3           0  \n",
      "4           0  \n"
     ]
    }
   ],
   "source": [
    "'''Step5'''\n",
    "'''actno is not sorted chronologically, therefore, the trip arrive time is identified as the earliest activity start time\n",
    "trip departure time is identified as the latest activity end time'''\n",
    "'''Step5.1: recode time as hour*60+minutes'''\n",
    "print myAct1[['arr_time','dep_time']].head()\n",
    "arr_time=myAct1['arr_time'].str.split(':',expand=True).astype(int)\n",
    "dep_time=myAct1['dep_time'].str.split(':',expand=True).astype(int)\n",
    "print arr_time.head()\n",
    "print dep_time.head()\n",
    "arr_time.columns=['strt_hour','strt_min','strt_second']\n",
    "dep_time.columns=['end_hour','end_min','end_second']\n",
    "myAct2=concat([myAct1, arr_time], axis=1)\n",
    "myAct3=concat([myAct2, dep_time], axis=1)\n",
    "print myAct3.shape\n",
    "print myAct3[['arr_time','strt_hour','strt_min','strt_second','dep_time','end_hour','end_min','end_second']].head()"
   ]
  },
  {
   "cell_type": "code",
   "execution_count": 59,
   "metadata": {
    "collapsed": false
   },
   "outputs": [
    {
     "name": "stdout",
     "output_type": "stream",
     "text": [
      "3\n",
      "26\n",
      "3\n",
      "26\n",
      "0\n",
      "59\n",
      "0\n",
      "59\n",
      "0\n",
      "0\n",
      "0\n",
      "0\n",
      "0\n",
      "1438\n",
      "1\n",
      "1439\n",
      "   arr_time  strt_time  dep_time  end_time\n",
      "0   3:00:00          0   7:00:00       240\n",
      "1   7:00:00        240   8:10:00       310\n",
      "2   8:10:00        310   8:40:00       340\n",
      "3   9:02:00        362  12:48:00       588\n",
      "4  13:13:00        613  13:38:00       638\n"
     ]
    }
   ],
   "source": [
    "myAct3['strt_hour'].replace(0,24,inplace=True) #0 is 12am of the next day\n",
    "myAct3['strt_hour'].replace(1,25,inplace=True) #1 is 1am of the next day\n",
    "myAct3['strt_hour'].replace(2,26,inplace=True) #2 is 2am of the next day\n",
    "myAct3['end_hour'].replace(0,24,inplace=True) #0 is 12am of the next day\n",
    "myAct3['end_hour'].replace(1,25,inplace=True) #1 is 1am of the next day\n",
    "myAct3['end_hour'].replace(2,26,inplace=True) #2 is 2am of the next day\n",
    "print myAct3['strt_hour'].min()\n",
    "print myAct3['strt_hour'].max()\n",
    "print myAct3['end_hour'].min()\n",
    "print myAct3['end_hour'].max()\n",
    "print myAct3['strt_min'].min()\n",
    "print myAct3['strt_min'].max()\n",
    "print myAct3['end_min'].min()\n",
    "print myAct3['end_min'].max()\n",
    "print myAct3['strt_second'].min()\n",
    "print myAct3['strt_second'].max()\n",
    "print myAct3['end_second'].min()\n",
    "print myAct3['end_second'].max()\n",
    "##create strt_time and end_time\n",
    "myAct3['strt_time']=(myAct3['strt_hour']-3)*60+(myAct3['strt_min'])\n",
    "myAct3['end_time']=(myAct3['end_hour']-3)*60+(myAct3['end_min'])\n",
    "print myAct3['strt_time'].min()\n",
    "print myAct3['strt_time'].max()\n",
    "print myAct3['end_time'].min()\n",
    "print myAct3['end_time'].max()\n",
    "print myAct3[['arr_time','strt_time','dep_time','end_time']].head()"
   ]
  },
  {
   "cell_type": "code",
   "execution_count": 64,
   "metadata": {
    "collapsed": false
   },
   "outputs": [
    {
     "name": "stdout",
     "output_type": "stream",
     "text": [
      "         sampno  perno\n",
      "369715  2527948      1\n",
      "369716  2527948      1\n"
     ]
    }
   ],
   "source": [
    "'''Step5.1: check if time is correct'''\n",
    "'''Check if end time is earlier than start time'''\n",
    "myAct3['check_time']=myAct3['end_time']-myAct3['strt_time']\n",
    "print myAct3.loc[myAct3['check_time']<0,('sampno','perno')]\n",
    "# errors were identified (sampno=2527948, perno==1,plano==5,6) end_time and strt_time should be switched\n",
    "myAct3.loc[(myAct3['sampno']==2527948)&(myAct3['perno']==1)&(myAct3['plano']==5),'strt_time']=925\n",
    "myAct3.loc[(myAct3['sampno']==2527948)&(myAct3['perno']==1)&(myAct3['plano']==5),'end_time']=930\n",
    "myAct3.loc[(myAct3['sampno']==2527948)&(myAct3['perno']==1)&(myAct3['plano']==6),'strt_time']=950\n",
    "myAct3.loc[(myAct3['sampno']==2527948)&(myAct3['perno']==1)&(myAct3['plano']==6),'end_time']=957"
   ]
  },
  {
   "cell_type": "code",
   "execution_count": 75,
   "metadata": {
    "collapsed": false
   },
   "outputs": [
    {
     "name": "stdout",
     "output_type": "stream",
     "text": [
      "(460520, 4)\n",
      "(460520, 4)\n",
      "    sampno  perno  plano  strt_time\n",
      "0  1031985      1      1          0\n",
      "1  1031985      1      2        362\n",
      "2  1031985      1      3        613\n",
      "3  1031985      2      1          0\n",
      "4  1031985      2      2        386\n",
      "    sampno  perno  plano  end_time\n",
      "0  1031985      1      1       340\n",
      "1  1031985      1      2       588\n",
      "2  1031985      1      3       852\n",
      "3  1031985      2      1       376\n",
      "4  1031985      2      2       463\n"
     ]
    }
   ],
   "source": [
    "'''Step5.2 take the ealiest strt_time and latest end_time of each place'''\n",
    "strt_time_place=myAct3.groupby(['sampno','perno','plano'])['strt_time'].min()\n",
    "strt_time_place=DataFrame(strt_time_place)\n",
    "strt_time_place.reset_index(inplace=True)\n",
    "print strt_time_place.shape\n",
    "end_time_place=myAct3.groupby(['sampno','perno','plano'])['end_time'].max()\n",
    "end_time_place=DataFrame(end_time_place)\n",
    "end_time_place.reset_index(inplace=True)\n",
    "print end_time_place.shape\n",
    "print strt_time_place.head()\n",
    "print end_time_place.head()"
   ]
  },
  {
   "cell_type": "code",
   "execution_count": 77,
   "metadata": {
    "collapsed": false
   },
   "outputs": [
    {
     "name": "stdout",
     "output_type": "stream",
     "text": [
      "(460520, 56)\n",
      "(460520, 58)\n"
     ]
    }
   ],
   "source": [
    "'''Step5.3 merge strt_time_place and end_time_place to place file'''\n",
    "myPlace3=merge(myPlace2,strt_time_place, on=['sampno','perno','plano'], how='left')\n",
    "myPlace4=merge(myPlace3,end_time_place, on=['sampno','perno','plano'], how='left')\n",
    "print myPlace2.shape\n",
    "print myPlace4.shape"
   ]
  },
  {
   "cell_type": "code",
   "execution_count": 80,
   "metadata": {
    "collapsed": false
   },
   "outputs": [
    {
     "name": "stdout",
     "output_type": "stream",
     "text": [
      "(171069, 43)\n",
      "0.0\n",
      "1\n",
      "    sampno  perno  end_time_first\n",
      "0  1031985      1             340\n",
      "1  1031985      2             376\n",
      "2  1032036      1             315\n",
      "3  1032036      2             332\n",
      "4  1032036      3             490\n"
     ]
    }
   ],
   "source": [
    "'''Step5.4 create a column to store the end time of first group of activities (tripno==0)'''\n",
    "myAct3_fir=myAct3.loc[myAct3['tripno']==0]\n",
    "print myAct3_fir.shape\n",
    "print myAct3_fir['tripno'].max()\n",
    "print myAct3_fir['plano'].max()\n",
    "end_time_first=myAct3_fir.groupby(['sampno','perno'])['end_time'].max()\n",
    "end_time_first=DataFrame(end_time_first)\n",
    "end_time_first.reset_index(inplace=True)\n",
    "end_time_first.columns=['sampno','perno','end_time_first']\n",
    "print end_time_first.head()"
   ]
  },
  {
   "cell_type": "code",
   "execution_count": 81,
   "metadata": {
    "collapsed": false
   },
   "outputs": [
    {
     "name": "stdout",
     "output_type": "stream",
     "text": [
      "(460520, 59)\n"
     ]
    }
   ],
   "source": [
    "'''Step5.4 create a column to store the end time of first group of activities (tripno==0)'''\n",
    "myPlace5=merge(myPlace4,end_time_first, on=['sampno','perno'], how='left')\n",
    "print myPlace5.shape"
   ]
  },
  {
   "cell_type": "markdown",
   "metadata": {},
   "source": [
    "## Create trip file"
   ]
  },
  {
   "cell_type": "code",
   "execution_count": 89,
   "metadata": {
    "collapsed": false
   },
   "outputs": [
    {
     "name": "stdout",
     "output_type": "stream",
     "text": [
      "0\n",
      "0\n",
      "(351742, 61)\n",
      "    sampno  perno  plano  vehno  tripno place_name travel_date  arr_time  \\\n",
      "1  1031985      1      2   97.0     1.0   REDACTED    5/1/2012   9:00:00   \n",
      "2  1031985      1      3   97.0     2.0   REDACTED    5/1/2012  13:00:00   \n",
      "4  1031985      2      2    1.0     1.0   REDACTED    5/1/2012   9:00:00   \n",
      "5  1031985      2      3    1.0     2.0   REDACTED    5/1/2012  10:00:00   \n",
      "7  1032036      1      2    1.0     1.0   REDACTED   5/12/2012   8:00:00   \n",
      "\n",
      "   dep_time  mode   ...    per4  per5      geom  trip_pur  first_o_pur  \\\n",
      "1  12:00:00   6.0   ...     NaN   NaN  REDACTED       7.0           -9   \n",
      "2   2:00:00   6.0   ...     NaN   NaN  REDACTED      -9.0           -9   \n",
      "4  10:00:00   5.0   ...     NaN   NaN  REDACTED       6.0           -9   \n",
      "5   2:00:00   5.0   ...     NaN   NaN  REDACTED      -9.0           -9   \n",
      "7  15:00:00   5.0   ...     NaN   NaN  REDACTED       4.0           -9   \n",
      "\n",
      "   strt_time end_time  end_time_first  noplace  notrip  \n",
      "1        362      588             340        3     2.0  \n",
      "2        613      852             340        3     2.0  \n",
      "4        386      463             376        3     2.0  \n",
      "5        476      792             376        3     2.0  \n",
      "7        335      750             315        6     5.0  \n",
      "\n",
      "[5 rows x 61 columns]\n"
     ]
    }
   ],
   "source": [
    "'''Step6 Create trip file by deleting the records with no trip (tripno==0)'''\n",
    "'''Step6.1: first delete the persons who did not make any trip'''\n",
    "#For person who did not make any trip a record with plano==1 is still reported, need to delete these records\n",
    "myPlace5['noplace']=myPlace5.groupby(['sampno','perno'])['plano'].transform('max')\n",
    "myPlace5['notrip']=myPlace5.groupby(['sampno','perno'])['tripno'].transform('max')\n",
    "print sum((myPlace5['noplace']==1)&(myPlace5['notrip']!=0))\n",
    "print sum((myPlace5['notrip']==0)&(myPlace5['noplace']!=1))\n",
    "'''Step6.2: then delete the records before the first trip (plano==1 or tripno==0)'''\n",
    "myTrip=myPlace5.loc[(myPlace5['notrip']!=0)&(myPlace5['tripno']!=0)]\n",
    "print myTrip.shape\n",
    "print myTrip.head()"
   ]
  },
  {
   "cell_type": "code",
   "execution_count": 90,
   "metadata": {
    "collapsed": false
   },
   "outputs": [
    {
     "name": "stdout",
     "output_type": "stream",
     "text": [
      "0\n",
      "0\n",
      "0\n",
      "0\n",
      "0\n"
     ]
    }
   ],
   "source": [
    "# check if nan values\n",
    "print myTrip['trip_pur'].isnull().sum()\n",
    "print myTrip['first_o_pur'].isnull().sum()\n",
    "print myTrip['strt_time'].isnull().sum()\n",
    "print myTrip['end_time'].isnull().sum()\n",
    "print myTrip['end_time_first'].isnull().sum()"
   ]
  },
  {
   "cell_type": "code",
   "execution_count": 98,
   "metadata": {
    "collapsed": false
   },
   "outputs": [
    {
     "name": "stdout",
     "output_type": "stream",
     "text": [
      "   d_pur  act_strt_time  act_end_time\n",
      "1    7.0            362           588\n",
      "2   -9.0            613           852\n",
      "4    6.0            386           463\n",
      "5   -9.0            476           792\n",
      "7    4.0            335           750\n"
     ]
    }
   ],
   "source": [
    "#Rename trip_pur as d_pur\n",
    "myTrip.rename(columns={'trip_pur': 'd_pur','strt_time':'act_strt_time','end_time':'act_end_time'}, inplace=True)\n",
    "print myTrip[['d_pur','act_strt_time','act_end_time']].head()"
   ]
  },
  {
   "cell_type": "markdown",
   "metadata": {
    "collapsed": true
   },
   "source": [
    "### Create trip origin purpose"
   ]
  },
  {
   "cell_type": "code",
   "execution_count": 92,
   "metadata": {
    "collapsed": true
   },
   "outputs": [],
   "source": [
    "# Recode trip origin purpose\n",
    "def oriPur(group): #groupby smapno, perno\n",
    "    tripid=group.tripno.tolist()\n",
    "    sze=len(tripid)\n",
    "    dpur_ls = group.d_pur.tolist()[:-1]  # Taking all but the last one\n",
    "    opur_first=group.first_o_pur.tolist()[0] #Take the first one\n",
    "    opur_ls=[-999 for x in xrange(sze)]\n",
    "    if sze==1:\n",
    "        opur_ls[0]=opur_first\n",
    "    else: \n",
    "        opur_ls[0]=opur_first\n",
    "        for i in xrange(len(dpur_ls)):\n",
    "            dpur=dpur_ls[i]\n",
    "            opur_ls[i+1]=dpur\n",
    "    \n",
    "    group['o_pur']=opur_ls\n",
    "    return group"
   ]
  },
  {
   "cell_type": "code",
   "execution_count": 93,
   "metadata": {
    "collapsed": false
   },
   "outputs": [],
   "source": [
    "result=myTrip.groupby(['sampno','perno']).apply(oriPur)"
   ]
  },
  {
   "cell_type": "code",
   "execution_count": 96,
   "metadata": {
    "collapsed": false
   },
   "outputs": [
    {
     "name": "stdout",
     "output_type": "stream",
     "text": [
      "    sampno  perno  plano  tripno  o_pur  d_pur  first_o_pur\n",
      "1  1031985      1      2     1.0   -9.0    7.0           -9\n",
      "2  1031985      1      3     2.0    7.0   -9.0           -9\n",
      "4  1031985      2      2     1.0   -9.0    6.0           -9\n",
      "5  1031985      2      3     2.0    6.0   -9.0           -9\n",
      "7  1032036      1      2     1.0   -9.0    4.0           -9\n",
      "-9.0     115261\n",
      " 6.0      47485\n",
      " 5.0      36159\n",
      " 2.0      29001\n",
      " 8.0      24208\n",
      " 10.0     23242\n",
      " 4.0      22219\n",
      " 7.0      21428\n",
      " 9.0      12147\n",
      " 1.0      11328\n",
      " 3.0       9264\n",
      "Name: o_pur, dtype: int64\n",
      "0\n",
      "-9.0     115261\n",
      " 6.0      47485\n",
      " 5.0      36159\n",
      " 2.0      29001\n",
      " 8.0      24208\n",
      " 10.0     23242\n",
      " 4.0      22219\n",
      " 7.0      21428\n",
      " 9.0      12147\n",
      " 1.0      11328\n",
      " 3.0       9264\n",
      "Name: o_pur, dtype: int64\n",
      "-9.0     115261\n",
      " 6.0      47485\n",
      " 5.0      36159\n",
      " 2.0      29001\n",
      " 8.0      24208\n",
      " 10.0     23242\n",
      " 4.0      22219\n",
      " 7.0      21428\n",
      " 9.0      12147\n",
      " 1.0      11328\n",
      " 3.0       9264\n",
      "Name: o_pur, dtype: int64\n"
     ]
    },
    {
     "name": "stderr",
     "output_type": "stream",
     "text": [
      "C:\\Users\\jiz13007\\AppData\\Local\\Continuum\\Anaconda64bit\\lib\\site-packages\\ipykernel\\__main__.py:4: SettingWithCopyWarning: \n",
      "A value is trying to be set on a copy of a slice from a DataFrame.\n",
      "Try using .loc[row_indexer,col_indexer] = value instead\n",
      "\n",
      "See the caveats in the documentation: http://pandas.pydata.org/pandas-docs/stable/indexing.html#indexing-view-versus-copy\n"
     ]
    }
   ],
   "source": [
    "print result[['sampno','perno','plano','tripno','o_pur','d_pur','first_o_pur']].head()\n",
    "print result['o_pur'].value_counts()\n",
    "print result['o_pur'].isnull().sum()\n",
    "myTrip['o_pur']=result['o_pur']\n",
    "print myTrip['o_pur'].value_counts()\n",
    "print result['o_pur'].value_counts()\n",
    "del result"
   ]
  },
  {
   "cell_type": "markdown",
   "metadata": {},
   "source": [
    "### Create trip depature and arrival time"
   ]
  },
  {
   "cell_type": "code",
   "execution_count": 99,
   "metadata": {
    "collapsed": false
   },
   "outputs": [
    {
     "name": "stderr",
     "output_type": "stream",
     "text": [
      "C:\\Users\\jiz13007\\AppData\\Local\\Continuum\\Anaconda64bit\\lib\\site-packages\\ipykernel\\__main__.py:2: SettingWithCopyWarning: \n",
      "A value is trying to be set on a copy of a slice from a DataFrame.\n",
      "Try using .loc[row_indexer,col_indexer] = value instead\n",
      "\n",
      "See the caveats in the documentation: http://pandas.pydata.org/pandas-docs/stable/indexing.html#indexing-view-versus-copy\n",
      "  from ipykernel import kernelapp as app\n"
     ]
    }
   ],
   "source": [
    "#start time is trip arrivial time\n",
    "myTrip['trip_arr_time']=myTrip['act_strt_time']"
   ]
  },
  {
   "cell_type": "code",
   "execution_count": 102,
   "metadata": {
    "collapsed": true
   },
   "outputs": [],
   "source": [
    "#start time is trip arrivial time\n",
    "#end time is departure time of next trip\n",
    "def tripTime(group): #groupby smapno, perno\n",
    "    tripid=group.tripno.tolist()\n",
    "    sze=len(tripid)\n",
    "    act_end_time_ls=group.act_end_time.tolist()[:-1] #Take all but the last one\n",
    "    act_end_first=group.end_time_first.tolist()[0] #Take the first one\n",
    "    trp_dep_ls=[-999 for x in xrange(sze)]\n",
    "    if sze==1: #only made one trip\n",
    "        trp_dep_ls[0]=act_end_first\n",
    "    else: \n",
    "        trp_dep_ls[0]=act_end_first\n",
    "        for i in xrange(len(act_end_time_ls)):\n",
    "            end_time=act_end_time_ls[i]\n",
    "            trp_dep_ls[i+1]=end_time\n",
    "    \n",
    "    group['trip_dep_time']=trp_dep_ls\n",
    "    return group"
   ]
  },
  {
   "cell_type": "code",
   "execution_count": 103,
   "metadata": {
    "collapsed": false
   },
   "outputs": [
    {
     "name": "stdout",
     "output_type": "stream",
     "text": [
      "    sampno  perno  plano  tripno  act_strt_time  act_end_time  trip_dep_time  \\\n",
      "1  1031985      1      2     1.0            362           588            340   \n",
      "2  1031985      1      3     2.0            613           852            588   \n",
      "4  1031985      2      2     1.0            386           463            376   \n",
      "5  1031985      2      3     2.0            476           792            463   \n",
      "7  1032036      1      2     1.0            335           750            315   \n",
      "\n",
      "   trip_arr_time  \n",
      "1            362  \n",
      "2            613  \n",
      "4            386  \n",
      "5            476  \n",
      "7            335  \n",
      "0\n",
      "0\n"
     ]
    },
    {
     "name": "stderr",
     "output_type": "stream",
     "text": [
      "C:\\Users\\jiz13007\\AppData\\Local\\Continuum\\Anaconda64bit\\lib\\site-packages\\ipykernel\\__main__.py:4: SettingWithCopyWarning: \n",
      "A value is trying to be set on a copy of a slice from a DataFrame.\n",
      "Try using .loc[row_indexer,col_indexer] = value instead\n",
      "\n",
      "See the caveats in the documentation: http://pandas.pydata.org/pandas-docs/stable/indexing.html#indexing-view-versus-copy\n"
     ]
    }
   ],
   "source": [
    "result=myTrip.groupby(['sampno','perno']).apply(tripTime)\n",
    "print result[['sampno','perno','plano','tripno','act_strt_time','act_end_time','trip_dep_time','trip_arr_time']].head()\n",
    "print result['trip_dep_time'].isnull().sum()\n",
    "myTrip['trip_dep_time']=result['trip_dep_time']\n",
    "print myTrip['trip_dep_time'].isnull().sum()\n",
    "#del result"
   ]
  },
  {
   "cell_type": "markdown",
   "metadata": {},
   "source": [
    "### Calculate activity dwell time and trip duration time"
   ]
  },
  {
   "cell_type": "code",
   "execution_count": 108,
   "metadata": {
    "collapsed": false
   },
   "outputs": [
    {
     "name": "stdout",
     "output_type": "stream",
     "text": [
      "0\n",
      "1425\n",
      "0\n",
      "1080\n"
     ]
    },
    {
     "name": "stderr",
     "output_type": "stream",
     "text": [
      "C:\\Users\\jiz13007\\AppData\\Local\\Continuum\\Anaconda64bit\\lib\\site-packages\\pandas\\core\\generic.py:3443: SettingWithCopyWarning: \n",
      "A value is trying to be set on a copy of a slice from a DataFrame\n",
      "\n",
      "See the caveats in the documentation: http://pandas.pydata.org/pandas-docs/stable/indexing.html#indexing-view-versus-copy\n",
      "  self._update_inplace(new_data)\n",
      "C:\\Users\\jiz13007\\AppData\\Local\\Continuum\\Anaconda64bit\\lib\\site-packages\\ipykernel\\__main__.py:3: SettingWithCopyWarning: \n",
      "A value is trying to be set on a copy of a slice from a DataFrame.\n",
      "Try using .loc[row_indexer,col_indexer] = value instead\n",
      "\n",
      "See the caveats in the documentation: http://pandas.pydata.org/pandas-docs/stable/indexing.html#indexing-view-versus-copy\n",
      "  app.launch_new_instance()\n",
      "C:\\Users\\jiz13007\\AppData\\Local\\Continuum\\Anaconda64bit\\lib\\site-packages\\ipykernel\\__main__.py:6: SettingWithCopyWarning: \n",
      "A value is trying to be set on a copy of a slice from a DataFrame.\n",
      "Try using .loc[row_indexer,col_indexer] = value instead\n",
      "\n",
      "See the caveats in the documentation: http://pandas.pydata.org/pandas-docs/stable/indexing.html#indexing-view-versus-copy\n"
     ]
    }
   ],
   "source": [
    "'''Step7'''\n",
    "myTrip['act_end_time'].replace(1439,1440, inplace=True) #should be 1440 not 1439 since the survey ended before 3:00 am of the next day\n",
    "myTrip['act_dwell']=myTrip['act_end_time']-myTrip['act_strt_time']\n",
    "print myTrip['act_dwell'].min()\n",
    "print myTrip['act_dwell'].max()\n",
    "myTrip['trip_duration']=myTrip['trip_arr_time']-myTrip['trip_dep_time']\n",
    "print myTrip['trip_duration'].min()\n",
    "print myTrip['trip_duration'].max()"
   ]
  },
  {
   "cell_type": "code",
   "execution_count": 113,
   "metadata": {
    "collapsed": false
   },
   "outputs": [
    {
     "name": "stderr",
     "output_type": "stream",
     "text": [
      "C:\\Users\\jiz13007\\AppData\\Local\\Continuum\\Anaconda64bit\\lib\\site-packages\\pandas\\core\\indexing.py:288: SettingWithCopyWarning: \n",
      "A value is trying to be set on a copy of a slice from a DataFrame.\n",
      "Try using .loc[row_indexer,col_indexer] = value instead\n",
      "\n",
      "See the caveats in the documentation: http://pandas.pydata.org/pandas-docs/stable/indexing.html#indexing-view-versus-copy\n",
      "  self.obj[key] = _infer_fill_value(value)\n",
      "C:\\Users\\jiz13007\\AppData\\Local\\Continuum\\Anaconda64bit\\lib\\site-packages\\pandas\\core\\indexing.py:465: SettingWithCopyWarning: \n",
      "A value is trying to be set on a copy of a slice from a DataFrame.\n",
      "Try using .loc[row_indexer,col_indexer] = value instead\n",
      "\n",
      "See the caveats in the documentation: http://pandas.pydata.org/pandas-docs/stable/indexing.html#indexing-view-versus-copy\n",
      "  self.obj[item] = s\n"
     ]
    },
    {
     "name": "stdout",
     "output_type": "stream",
     "text": [
      "     sampno  perno  tripno  act_strt_time  act_end_time  end_time_first  \\\n",
      "1   1031985      1     1.0            362           588             340   \n",
      "2   1031985      1     2.0            613           852             340   \n",
      "4   1031985      2     1.0            386           463             376   \n",
      "5   1031985      2     2.0            476           792             376   \n",
      "7   1032036      1     1.0            335           750             315   \n",
      "8   1032036      1     2.0            770           810             315   \n",
      "9   1032036      1     3.0            835           880             315   \n",
      "10  1032036      1     4.0            895           940             315   \n",
      "11  1032036      1     5.0            960          1440             315   \n",
      "13  1032036      2     1.0            350           360             332   \n",
      "\n",
      "    initial_home  final_home  \n",
      "1          340.0         0.0  \n",
      "2            0.0       588.0  \n",
      "4          376.0         0.0  \n",
      "5            0.0       648.0  \n",
      "7          315.0         0.0  \n",
      "8            0.0         0.0  \n",
      "9            0.0         0.0  \n",
      "10           0.0         0.0  \n",
      "11           0.0         0.0  \n",
      "13         332.0         0.0  \n"
     ]
    }
   ],
   "source": [
    "'''Step7.1: check if sum of trip duration and act dwell is 1440'''\n",
    "myTrip.loc[myTrip['tripno']==1,'initial_home']=myTrip['end_time_first']\n",
    "myTrip.loc[myTrip['tripno']!=1,'initial_home']=0\n",
    "myTrip.loc[(myTrip['tripno']==myTrip['notrip']),'final_home']=1440-myTrip['act_end_time']\n",
    "myTrip.loc[(myTrip['tripno']!=myTrip['notrip']),'final_home']=0\n",
    "print myTrip[['sampno','perno','tripno','act_strt_time','act_end_time','end_time_first','initial_home','final_home']].head(10)"
   ]
  },
  {
   "cell_type": "code",
   "execution_count": 118,
   "metadata": {
    "collapsed": false
   },
   "outputs": [
    {
     "name": "stdout",
     "output_type": "stream",
     "text": [
      "[]\n"
     ]
    }
   ],
   "source": [
    "check_sampno\n",
    "def checkDur(group): #groupby sampno and perno\n",
    "    global check_sampno\n",
    "    sampno=group.sampno.tolist()[0]#take sampno\n",
    "    act_dwell=sum(group.act_dwell.tolist())\n",
    "    trp_dur=sum(group.trip_duration.tolist())\n",
    "    initial_home=sum(group.initial_home.tolist())\n",
    "    final_home=sum(group.final_home.tolist())\n",
    "    check=act_dwell+trp_dur+initial_home+final_home\n",
    "    if check!=1440:\n",
    "        check_sampno.append(sampno)\n",
    "    return group\n",
    "\n",
    "myTrip.groupby(['sampno','perno']).apply(checkDur)\n",
    "print check_sampno"
   ]
  },
  {
   "cell_type": "code",
   "execution_count": 119,
   "metadata": {
    "collapsed": true
   },
   "outputs": [],
   "source": [
    "# write myTrip myAct3 and myPlace5 to pickles\n",
    "myAct3.to_pickle('C:/Users/jiz13007/Documents/CAMMSE/California House Travel Survey/code/pickle data new/myAct3.pkl')\n",
    "myPlace5.to_pickle('C:/Users/jiz13007/Documents/CAMMSE/California House Travel Survey/code/pickle data new/myPlace5.pkl')\n",
    "myTrip.to_pickle('C:/Users/jiz13007/Documents/CAMMSE/California House Travel Survey/code/pickle data new/myTrip_process.pkl')"
   ]
  },
  {
   "cell_type": "markdown",
   "metadata": {},
   "source": [
    "### Create personid, tripid by concatenating sampno+perno+tripno"
   ]
  },
  {
   "cell_type": "code",
   "execution_count": 167,
   "metadata": {
    "collapsed": false
   },
   "outputs": [
    {
     "name": "stderr",
     "output_type": "stream",
     "text": [
      "C:\\Users\\jiz13007\\AppData\\Local\\Continuum\\Anaconda64bit\\lib\\site-packages\\ipykernel\\__main__.py:1: SettingWithCopyWarning: \n",
      "A value is trying to be set on a copy of a slice from a DataFrame.\n",
      "Try using .loc[row_indexer,col_indexer] = value instead\n",
      "\n",
      "See the caveats in the documentation: http://pandas.pydata.org/pandas-docs/stable/indexing.html#indexing-view-versus-copy\n",
      "  if __name__ == '__main__':\n",
      "C:\\Users\\jiz13007\\AppData\\Local\\Continuum\\Anaconda64bit\\lib\\site-packages\\ipykernel\\__main__.py:2: SettingWithCopyWarning: \n",
      "A value is trying to be set on a copy of a slice from a DataFrame.\n",
      "Try using .loc[row_indexer,col_indexer] = value instead\n",
      "\n",
      "See the caveats in the documentation: http://pandas.pydata.org/pandas-docs/stable/indexing.html#indexing-view-versus-copy\n",
      "  from ipykernel import kernelapp as app\n",
      "C:\\Users\\jiz13007\\AppData\\Local\\Continuum\\Anaconda64bit\\lib\\site-packages\\ipykernel\\__main__.py:3: SettingWithCopyWarning: \n",
      "A value is trying to be set on a copy of a slice from a DataFrame.\n",
      "Try using .loc[row_indexer,col_indexer] = value instead\n",
      "\n",
      "See the caveats in the documentation: http://pandas.pydata.org/pandas-docs/stable/indexing.html#indexing-view-versus-copy\n",
      "  app.launch_new_instance()\n"
     ]
    },
    {
     "name": "stdout",
     "output_type": "stream",
     "text": [
      "0    01\n",
      "1    02\n",
      "2    01\n",
      "3    02\n",
      "4    01\n",
      "Name: tripno_x, dtype: object\n",
      "01    82745\n",
      "02    81034\n",
      "03    53409\n",
      "04    43444\n",
      "05    28844\n",
      "06    21044\n",
      "07    13563\n",
      "08     9486\n",
      "09     6173\n",
      "10     4162\n",
      "11     2663\n",
      "12     1781\n",
      "13     1132\n",
      "14      775\n",
      "15      472\n",
      "16      319\n",
      "17      225\n",
      "18      157\n",
      "19       94\n",
      "20       56\n",
      "21       41\n",
      "22       27\n",
      "23       21\n",
      "24       19\n",
      "25       16\n",
      "26       11\n",
      "27        8\n",
      "28        6\n",
      "29        5\n",
      "32        3\n",
      "31        3\n",
      "30        3\n",
      "33        1\n",
      "Name: tripno_x, dtype: int64\n",
      "1.0     82745\n",
      "2.0     81034\n",
      "3.0     53409\n",
      "4.0     43444\n",
      "5.0     28844\n",
      "6.0     21044\n",
      "7.0     13563\n",
      "8.0      9486\n",
      "9.0      6173\n",
      "10.0     4162\n",
      "11.0     2663\n",
      "12.0     1781\n",
      "13.0     1132\n",
      "14.0      775\n",
      "15.0      472\n",
      "16.0      319\n",
      "17.0      225\n",
      "18.0      157\n",
      "19.0       94\n",
      "20.0       56\n",
      "21.0       41\n",
      "22.0       27\n",
      "23.0       21\n",
      "24.0       19\n",
      "25.0       16\n",
      "26.0       11\n",
      "27.0        8\n",
      "28.0        6\n",
      "29.0        5\n",
      "32.0        3\n",
      "30.0        3\n",
      "31.0        3\n",
      "33.0        1\n",
      "Name: tripno, dtype: int64\n"
     ]
    },
    {
     "name": "stderr",
     "output_type": "stream",
     "text": [
      "C:\\Users\\jiz13007\\AppData\\Local\\Continuum\\Anaconda64bit\\lib\\site-packages\\ipykernel\\__main__.py:7: SettingWithCopyWarning: \n",
      "A value is trying to be set on a copy of a slice from a DataFrame.\n",
      "Try using .loc[row_indexer,col_indexer] = value instead\n",
      "\n",
      "See the caveats in the documentation: http://pandas.pydata.org/pandas-docs/stable/indexing.html#indexing-view-versus-copy\n"
     ]
    },
    {
     "name": "stdout",
     "output_type": "stream",
     "text": [
      "0    02\n",
      "1    03\n",
      "2    02\n",
      "3    03\n",
      "4    02\n",
      "Name: plano_x, dtype: object\n",
      "02    82745\n",
      "03    81034\n",
      "04    53409\n",
      "05    43444\n",
      "06    28844\n",
      "07    21044\n",
      "08    13563\n",
      "09     9486\n",
      "10     6173\n",
      "11     4162\n",
      "12     2663\n",
      "13     1781\n",
      "14     1132\n",
      "15      775\n",
      "16      472\n",
      "17      319\n",
      "18      225\n",
      "19      157\n",
      "20       94\n",
      "21       56\n",
      "22       41\n",
      "23       27\n",
      "24       21\n",
      "25       19\n",
      "26       16\n",
      "27       11\n",
      "28        8\n",
      "29        6\n",
      "30        5\n",
      "33        3\n",
      "32        3\n",
      "31        3\n",
      "34        1\n",
      "Name: plano_x, dtype: int64\n",
      "2     82745\n",
      "3     81034\n",
      "4     53409\n",
      "5     43444\n",
      "6     28844\n",
      "7     21044\n",
      "8     13563\n",
      "9      9486\n",
      "10     6173\n",
      "11     4162\n",
      "12     2663\n",
      "13     1781\n",
      "14     1132\n",
      "15      775\n",
      "16      472\n",
      "17      319\n",
      "18      225\n",
      "19      157\n",
      "20       94\n",
      "21       56\n",
      "22       41\n",
      "23       27\n",
      "24       21\n",
      "25       19\n",
      "26       16\n",
      "27       11\n",
      "28        8\n",
      "29        6\n",
      "30        5\n",
      "33        3\n",
      "31        3\n",
      "32        3\n",
      "34        1\n",
      "Name: plano, dtype: int64\n"
     ]
    },
    {
     "name": "stderr",
     "output_type": "stream",
     "text": [
      "C:\\Users\\jiz13007\\AppData\\Local\\Continuum\\Anaconda64bit\\lib\\site-packages\\ipykernel\\__main__.py:11: SettingWithCopyWarning: \n",
      "A value is trying to be set on a copy of a slice from a DataFrame.\n",
      "Try using .loc[row_indexer,col_indexer] = value instead\n",
      "\n",
      "See the caveats in the documentation: http://pandas.pydata.org/pandas-docs/stable/indexing.html#indexing-view-versus-copy\n"
     ]
    },
    {
     "name": "stdout",
     "output_type": "stream",
     "text": [
      "0    01\n",
      "1    01\n",
      "2    02\n",
      "3    02\n",
      "4    01\n",
      "Name: perno_x, dtype: object\n",
      "01    158960\n",
      "02    102435\n",
      "03     45859\n",
      "04     28220\n",
      "05     10999\n",
      "06      3758\n",
      "07      1130\n",
      "08       381\n",
      "Name: perno_x, dtype: int64\n",
      "1    158960\n",
      "2    102435\n",
      "3     45859\n",
      "4     28220\n",
      "5     10999\n",
      "6      3758\n",
      "7      1130\n",
      "8       381\n",
      "Name: perno, dtype: int64\n"
     ]
    },
    {
     "name": "stderr",
     "output_type": "stream",
     "text": [
      "C:\\Users\\jiz13007\\AppData\\Local\\Continuum\\Anaconda64bit\\lib\\site-packages\\ipykernel\\__main__.py:15: SettingWithCopyWarning: \n",
      "A value is trying to be set on a copy of a slice from a DataFrame.\n",
      "Try using .loc[row_indexer,col_indexer] = value instead\n",
      "\n",
      "See the caveats in the documentation: http://pandas.pydata.org/pandas-docs/stable/indexing.html#indexing-view-versus-copy\n",
      "C:\\Users\\jiz13007\\AppData\\Local\\Continuum\\Anaconda64bit\\lib\\site-packages\\ipykernel\\__main__.py:16: SettingWithCopyWarning: \n",
      "A value is trying to be set on a copy of a slice from a DataFrame.\n",
      "Try using .loc[row_indexer,col_indexer] = value instead\n",
      "\n",
      "See the caveats in the documentation: http://pandas.pydata.org/pandas-docs/stable/indexing.html#indexing-view-versus-copy\n",
      "C:\\Users\\jiz13007\\AppData\\Local\\Continuum\\Anaconda64bit\\lib\\site-packages\\ipykernel\\__main__.py:17: SettingWithCopyWarning: \n",
      "A value is trying to be set on a copy of a slice from a DataFrame.\n",
      "Try using .loc[row_indexer,col_indexer] = value instead\n",
      "\n",
      "See the caveats in the documentation: http://pandas.pydata.org/pandas-docs/stable/indexing.html#indexing-view-versus-copy\n"
     ]
    }
   ],
   "source": [
    "myTrip['tripno_x1']=myTrip['tripno'].astype('float') #first convert tripno as float\n",
    "myTrip['tripno_x2']=myTrip['tripno_x1'].astype('int') #then convert float to int\n",
    "myTrip['tripno_x']=myTrip['tripno_x2'].apply(lambda x: '{0:0>2}'.format(x))\n",
    "print myTrip['tripno_x'].head()\n",
    "print myTrip['tripno_x'].value_counts()\n",
    "print myTrip['tripno'].value_counts()\n",
    "myTrip['plano_x']=myTrip['plano'].apply(lambda x: '{0:0>2}'.format(x))\n",
    "print myTrip['plano_x'].head()\n",
    "print myTrip['plano_x'].value_counts()\n",
    "print myTrip['plano'].value_counts()\n",
    "myTrip['perno_x']=myTrip['perno'].apply(lambda x: '{0:0>2}'.format(x))\n",
    "print myTrip['perno_x'].head()\n",
    "print myTrip['perno_x'].value_counts()\n",
    "print myTrip['perno'].value_counts()\n",
    "myTrip['trpid'] = myTrip[\"sampno\"].map(str) + myTrip[\"perno_x\"].map(str)+myTrip[\"tripno_x\"].map(str)\n",
    "myTrip['perid'] = myTrip[\"sampno\"].map(str) + myTrip[\"perno_x\"].map(str)\n",
    "myTrip['plaid'] = myTrip[\"sampno\"].map(str) + myTrip[\"perno_x\"].map(str)+myTrip[\"plano_x\"].map(str)"
   ]
  },
  {
   "cell_type": "code",
   "execution_count": 168,
   "metadata": {
    "collapsed": false
   },
   "outputs": [
    {
     "name": "stdout",
     "output_type": "stream",
     "text": [
      "    sampno  perno      perid  plano        plaid  tripno        trpid\n",
      "0  1031985      1  103198501      2  10319850102     1.0  10319850101\n",
      "1  1031985      1  103198501      3  10319850103     2.0  10319850102\n",
      "2  1031985      2  103198502      2  10319850202     1.0  10319850201\n",
      "3  1031985      2  103198502      3  10319850203     2.0  10319850202\n",
      "4  1032036      1  103203601      2  10320360102     1.0  10320360101\n"
     ]
    }
   ],
   "source": [
    "print myTrip[['sampno','perno','perid','plano','plaid','tripno','trpid']].head()"
   ]
  },
  {
   "cell_type": "code",
   "execution_count": 169,
   "metadata": {
    "collapsed": false
   },
   "outputs": [],
   "source": [
    "del myTrip['tripno_x1']\n",
    "del myTrip['tripno_x2']\n",
    "del myTrip['tripno_x']"
   ]
  },
  {
   "cell_type": "code",
   "execution_count": 134,
   "metadata": {
    "collapsed": false
   },
   "outputs": [
    {
     "name": "stderr",
     "output_type": "stream",
     "text": [
      "C:\\Users\\jiz13007\\AppData\\Local\\Continuum\\Anaconda64bit\\lib\\site-packages\\ipykernel\\__main__.py:1: SettingWithCopyWarning: \n",
      "A value is trying to be set on a copy of a slice from a DataFrame\n",
      "\n",
      "See the caveats in the documentation: http://pandas.pydata.org/pandas-docs/stable/indexing.html#indexing-view-versus-copy\n",
      "  if __name__ == '__main__':\n"
     ]
    }
   ],
   "source": [
    "myTrip.sort_values(['sampno','perno','tripno'], ascending=[True,True,True], inplace=True)\n",
    "myTrip.reset_index(drop=True,inplace = True)\n",
    "myTrip.to_pickle('C:/Users/jiz13007/Documents/CAMMSE/California House Travel Survey/code/pickle data new/myTrip_process1.pkl')"
   ]
  },
  {
   "cell_type": "markdown",
   "metadata": {},
   "source": [
    "### Create hh_member variables to indicate the hh members that in the trip"
   ]
  },
  {
   "cell_type": "code",
   "execution_count": 135,
   "metadata": {
    "collapsed": false
   },
   "outputs": [
    {
     "name": "stdout",
     "output_type": "stream",
     "text": [
      "    sampno     assn recruite_date  dow home_block_id  home_tract_id  \\\n",
      "0  2973777  12866.0    2013-01-25  1.0      REDACTED   6.053001e+09   \n",
      "1  2973814  12866.0    2013-01-08  1.0      REDACTED   6.053001e+09   \n",
      "2  2973902  13119.0    2013-02-13  6.0      REDACTED   6.053011e+09   \n",
      "3  2974182  12773.0    2012-11-02  6.0      REDACTED   6.053001e+09   \n",
      "4  2976556  12855.0    2013-01-08  4.0      REDACTED   6.053015e+09   \n",
      "\n",
      "   home_county_id  home_state_id home_primarycity home_city    ...    noveh2  \\\n",
      "0            53.0            6.0          SALINAS   SALINAS    ...       NaN   \n",
      "1            53.0            6.0          SALINAS   SALINAS    ...       NaN   \n",
      "2            53.0            6.0          SALINAS   SALINAS    ...       NaN   \n",
      "3            53.0            6.0          SALINAS   SALINAS    ...       NaN   \n",
      "4            53.0            6.0          SALINAS   SALINAS    ...       NaN   \n",
      "\n",
      "   noveh3 noveh4 noveh5  noveh6 noveh7 noveh8     hhwgt    exphhwgt      geom  \n",
      "0     NaN    NaN    NaN     NaN    NaN    NaN  0.309271   90.622952  REDACTED  \n",
      "1     NaN    NaN    NaN     NaN    NaN    NaN  0.248174   72.720467  REDACTED  \n",
      "2     NaN    NaN    NaN     NaN    NaN    NaN  0.277319   81.260408  REDACTED  \n",
      "3     NaN    NaN    NaN     NaN    NaN    NaN  0.343076  100.528612  REDACTED  \n",
      "4     NaN    NaN    NaN     NaN    NaN    NaN  0.173203   50.752359  REDACTED  \n",
      "\n",
      "[5 rows x 83 columns]\n",
      "(42426, 83)\n"
     ]
    },
    {
     "name": "stderr",
     "output_type": "stream",
     "text": [
      "C:\\Users\\jiz13007\\AppData\\Local\\Continuum\\Anaconda64bit\\lib\\site-packages\\IPython\\core\\interactiveshell.py:2717: DtypeWarning: Columns (51) have mixed types. Specify dtype option on import or set low_memory=False.\n",
      "  interactivity=interactivity, compiler=compiler, result=result)\n"
     ]
    }
   ],
   "source": [
    "#read hh file\n",
    "hh=read_csv('C:/Users/jiz13007/Documents/CAMMSE/California House Travel Survey/caltrans_full_survey/caltrans_full_survey/survey_households.csv')\n",
    "print hh.head()\n",
    "print hh.shape\n",
    "#sort trip file by sampno perno plano and tripno\n",
    "hh.sort_values(['sampno'], ascending=[True], inplace=True)\n",
    "hh.reset_index(drop=True,inplace = True)"
   ]
  },
  {
   "cell_type": "code",
   "execution_count": 136,
   "metadata": {
    "collapsed": false
   },
   "outputs": [
    {
     "data": {
      "text/plain": [
       "2.0    16314\n",
       "1.0     9139\n",
       "3.0     6819\n",
       "4.0     6044\n",
       "5.0     2618\n",
       "6.0     1000\n",
       "7.0      302\n",
       "8.0      185\n",
       "Name: persons_count, dtype: int64"
      ]
     },
     "execution_count": 136,
     "metadata": {},
     "output_type": "execute_result"
    }
   ],
   "source": [
    "hh['persons_count'].value_counts()"
   ]
  },
  {
   "cell_type": "code",
   "execution_count": 138,
   "metadata": {
    "collapsed": false
   },
   "outputs": [
    {
     "name": "stdout",
     "output_type": "stream",
     "text": [
      "0\n",
      "0\n",
      "0\n",
      "0\n",
      "0\n",
      "0\n",
      "0\n",
      "0\n",
      "0\n",
      "0\n",
      "3\n",
      "4\n",
      "1\n",
      "0\n",
      "0\n"
     ]
    }
   ],
   "source": [
    "#Check if there are duplicates\n",
    "print sum(myTrip['per1']==myTrip['per2'])\n",
    "print sum(myTrip['per1']==myTrip['per3'])\n",
    "print sum(myTrip['per1']==myTrip['per4'])\n",
    "print sum(myTrip['per1']==myTrip['per5'])\n",
    "print sum(myTrip['per2']==myTrip['per3'])\n",
    "print sum(myTrip['per2']==myTrip['per4'])\n",
    "print sum(myTrip['per2']==myTrip['per5'])\n",
    "print sum(myTrip['per3']==myTrip['per4'])\n",
    "print sum(myTrip['per3']==myTrip['per5'])\n",
    "print sum(myTrip['per4']==myTrip['per5'])\n",
    "print sum(myTrip['perno']==myTrip['per1'])\n",
    "print sum(myTrip['perno']==myTrip['per2'])\n",
    "print sum(myTrip['perno']==myTrip['per3'])\n",
    "print sum(myTrip['perno']==myTrip['per4'])\n",
    "print sum(myTrip['perno']==myTrip['per5'])\n"
   ]
  },
  {
   "cell_type": "code",
   "execution_count": 139,
   "metadata": {
    "collapsed": false
   },
   "outputs": [
    {
     "name": "stdout",
     "output_type": "stream",
     "text": [
      "True     219754\n",
      "False    131988\n",
      "dtype: int64\n",
      "False    194304\n",
      "True     157438\n",
      "dtype: int64\n",
      "False    264186\n",
      "True      87556\n",
      "dtype: int64\n",
      "False    286648\n",
      "True      65094\n",
      "dtype: int64\n",
      "False    322078\n",
      "True      29664\n",
      "dtype: int64\n",
      "False    340415\n",
      "True      11327\n",
      "dtype: int64\n",
      "False    348438\n",
      "True       3304\n",
      "dtype: int64\n",
      "False    350748\n",
      "True        994\n",
      "dtype: int64\n"
     ]
    }
   ],
   "source": [
    "hhmem1=((myTrip['perno']==1)|(myTrip['per1']==1)|(myTrip['per2']==1)|(myTrip['per3']==1)|(myTrip['per4']==1)|(myTrip['per5']==1))\n",
    "print hhmem1.value_counts()\n",
    "hhmem2=((myTrip['perno']==2)|(myTrip['per1']==2)|(myTrip['per2']==2)|(myTrip['per3']==2)|(myTrip['per4']==2)|(myTrip['per5']==2))\n",
    "print hhmem2.value_counts()\n",
    "hhmem3=((myTrip['perno']==3)|(myTrip['per1']==3)|(myTrip['per2']==3)|(myTrip['per3']==3)|(myTrip['per4']==3)|(myTrip['per5']==3))\n",
    "print hhmem3.value_counts()\n",
    "hhmem4=((myTrip['perno']==4)|(myTrip['per1']==4)|(myTrip['per2']==4)|(myTrip['per3']==4)|(myTrip['per4']==4)|(myTrip['per5']==4))\n",
    "print hhmem4.value_counts()\n",
    "hhmem5=((myTrip['perno']==5)|(myTrip['per1']==5)|(myTrip['per2']==5)|(myTrip['per3']==5)|(myTrip['per4']==5)|(myTrip['per5']==5))\n",
    "print hhmem5.value_counts()\n",
    "hhmem6=((myTrip['perno']==6)|(myTrip['per1']==6)|(myTrip['per2']==6)|(myTrip['per3']==6)|(myTrip['per4']==6)|(myTrip['per5']==6))\n",
    "print hhmem6.value_counts()\n",
    "hhmem7=((myTrip['perno']==7)|(myTrip['per1']==7)|(myTrip['per2']==7)|(myTrip['per3']==7)|(myTrip['per4']==7)|(myTrip['per5']==7))\n",
    "print hhmem7.value_counts()\n",
    "hhmem8=((myTrip['perno']==8)|(myTrip['per1']==8)|(myTrip['per2']==8)|(myTrip['per3']==8)|(myTrip['per4']==8)|(myTrip['per5']==8))\n",
    "print hhmem8.value_counts()"
   ]
  },
  {
   "cell_type": "code",
   "execution_count": 140,
   "metadata": {
    "collapsed": false
   },
   "outputs": [
    {
     "name": "stderr",
     "output_type": "stream",
     "text": [
      "C:\\Users\\jiz13007\\AppData\\Local\\Continuum\\Anaconda64bit\\lib\\site-packages\\ipykernel\\__main__.py:1: SettingWithCopyWarning: \n",
      "A value is trying to be set on a copy of a slice from a DataFrame.\n",
      "Try using .loc[row_indexer,col_indexer] = value instead\n",
      "\n",
      "See the caveats in the documentation: http://pandas.pydata.org/pandas-docs/stable/indexing.html#indexing-view-versus-copy\n",
      "  if __name__ == '__main__':\n",
      "C:\\Users\\jiz13007\\AppData\\Local\\Continuum\\Anaconda64bit\\lib\\site-packages\\ipykernel\\__main__.py:5: SettingWithCopyWarning: \n",
      "A value is trying to be set on a copy of a slice from a DataFrame.\n",
      "Try using .loc[row_indexer,col_indexer] = value instead\n",
      "\n",
      "See the caveats in the documentation: http://pandas.pydata.org/pandas-docs/stable/indexing.html#indexing-view-versus-copy\n"
     ]
    },
    {
     "name": "stdout",
     "output_type": "stream",
     "text": [
      "1    219754\n",
      "0    131988\n",
      "Name: hhmember1, dtype: int64\n",
      "0    194304\n",
      "1    157438\n",
      "Name: hhmember2, dtype: int64\n"
     ]
    },
    {
     "name": "stderr",
     "output_type": "stream",
     "text": [
      "C:\\Users\\jiz13007\\AppData\\Local\\Continuum\\Anaconda64bit\\lib\\site-packages\\ipykernel\\__main__.py:9: SettingWithCopyWarning: \n",
      "A value is trying to be set on a copy of a slice from a DataFrame.\n",
      "Try using .loc[row_indexer,col_indexer] = value instead\n",
      "\n",
      "See the caveats in the documentation: http://pandas.pydata.org/pandas-docs/stable/indexing.html#indexing-view-versus-copy\n",
      "C:\\Users\\jiz13007\\AppData\\Local\\Continuum\\Anaconda64bit\\lib\\site-packages\\ipykernel\\__main__.py:13: SettingWithCopyWarning: \n",
      "A value is trying to be set on a copy of a slice from a DataFrame.\n",
      "Try using .loc[row_indexer,col_indexer] = value instead\n",
      "\n",
      "See the caveats in the documentation: http://pandas.pydata.org/pandas-docs/stable/indexing.html#indexing-view-versus-copy\n"
     ]
    },
    {
     "name": "stdout",
     "output_type": "stream",
     "text": [
      "0    264186\n",
      "1     87556\n",
      "Name: hhmember3, dtype: int64\n",
      "0    286648\n",
      "1     65094\n",
      "Name: hhmember4, dtype: int64\n"
     ]
    },
    {
     "name": "stderr",
     "output_type": "stream",
     "text": [
      "C:\\Users\\jiz13007\\AppData\\Local\\Continuum\\Anaconda64bit\\lib\\site-packages\\ipykernel\\__main__.py:17: SettingWithCopyWarning: \n",
      "A value is trying to be set on a copy of a slice from a DataFrame.\n",
      "Try using .loc[row_indexer,col_indexer] = value instead\n",
      "\n",
      "See the caveats in the documentation: http://pandas.pydata.org/pandas-docs/stable/indexing.html#indexing-view-versus-copy\n",
      "C:\\Users\\jiz13007\\AppData\\Local\\Continuum\\Anaconda64bit\\lib\\site-packages\\ipykernel\\__main__.py:21: SettingWithCopyWarning: \n",
      "A value is trying to be set on a copy of a slice from a DataFrame.\n",
      "Try using .loc[row_indexer,col_indexer] = value instead\n",
      "\n",
      "See the caveats in the documentation: http://pandas.pydata.org/pandas-docs/stable/indexing.html#indexing-view-versus-copy\n"
     ]
    },
    {
     "name": "stdout",
     "output_type": "stream",
     "text": [
      "0    322078\n",
      "1     29664\n",
      "Name: hhmember5, dtype: int64\n",
      "0    340415\n",
      "1     11327\n",
      "Name: hhmember6, dtype: int64\n"
     ]
    },
    {
     "name": "stderr",
     "output_type": "stream",
     "text": [
      "C:\\Users\\jiz13007\\AppData\\Local\\Continuum\\Anaconda64bit\\lib\\site-packages\\ipykernel\\__main__.py:25: SettingWithCopyWarning: \n",
      "A value is trying to be set on a copy of a slice from a DataFrame.\n",
      "Try using .loc[row_indexer,col_indexer] = value instead\n",
      "\n",
      "See the caveats in the documentation: http://pandas.pydata.org/pandas-docs/stable/indexing.html#indexing-view-versus-copy\n",
      "C:\\Users\\jiz13007\\AppData\\Local\\Continuum\\Anaconda64bit\\lib\\site-packages\\ipykernel\\__main__.py:29: SettingWithCopyWarning: \n",
      "A value is trying to be set on a copy of a slice from a DataFrame.\n",
      "Try using .loc[row_indexer,col_indexer] = value instead\n",
      "\n",
      "See the caveats in the documentation: http://pandas.pydata.org/pandas-docs/stable/indexing.html#indexing-view-versus-copy\n"
     ]
    },
    {
     "name": "stdout",
     "output_type": "stream",
     "text": [
      "0    348438\n",
      "1      3304\n",
      "Name: hhmember7, dtype: int64\n",
      "0    350748\n",
      "1       994\n",
      "Name: hhmember8, dtype: int64\n"
     ]
    }
   ],
   "source": [
    "myTrip['hhmember1']=0\n",
    "myTrip.loc[hhmem1, 'hhmember1']=1\n",
    "print myTrip['hhmember1'].value_counts()\n",
    "\n",
    "myTrip['hhmember2']=0\n",
    "myTrip.loc[hhmem2, 'hhmember2']=1\n",
    "print myTrip['hhmember2'].value_counts()\n",
    "\n",
    "myTrip['hhmember3']=0\n",
    "myTrip.loc[hhmem3, 'hhmember3']=1\n",
    "print myTrip['hhmember3'].value_counts()\n",
    "\n",
    "myTrip['hhmember4']=0\n",
    "myTrip.loc[hhmem4, 'hhmember4']=1\n",
    "print myTrip['hhmember4'].value_counts()\n",
    "\n",
    "myTrip['hhmember5']=0\n",
    "myTrip.loc[hhmem5, 'hhmember5']=1\n",
    "print myTrip['hhmember5'].value_counts()\n",
    "\n",
    "myTrip['hhmember6']=0\n",
    "myTrip.loc[hhmem6, 'hhmember6']=1\n",
    "print myTrip['hhmember6'].value_counts()\n",
    "\n",
    "myTrip['hhmember7']=0\n",
    "myTrip.loc[hhmem7, 'hhmember7']=1\n",
    "print myTrip['hhmember7'].value_counts()\n",
    "\n",
    "myTrip['hhmember8']=0\n",
    "myTrip.loc[hhmem8, 'hhmember8']=1\n",
    "print myTrip['hhmember8'].value_counts()\n"
   ]
  },
  {
   "cell_type": "code",
   "execution_count": 142,
   "metadata": {
    "collapsed": false
   },
   "outputs": [
    {
     "name": "stderr",
     "output_type": "stream",
     "text": [
      "C:\\Users\\jiz13007\\AppData\\Local\\Continuum\\Anaconda64bit\\lib\\site-packages\\ipykernel\\__main__.py:2: SettingWithCopyWarning: \n",
      "A value is trying to be set on a copy of a slice from a DataFrame.\n",
      "Try using .loc[row_indexer,col_indexer] = value instead\n",
      "\n",
      "See the caveats in the documentation: http://pandas.pydata.org/pandas-docs/stable/indexing.html#indexing-view-versus-copy\n",
      "  from ipykernel import kernelapp as app\n"
     ]
    }
   ],
   "source": [
    "#Calculate travelers_hh\n",
    "myTrip['travelers_hh_cal']=myTrip['hhmember1']+myTrip['hhmember2']+myTrip['hhmember3']+myTrip['hhmember4']+myTrip['hhmember5']+myTrip['hhmember6']+myTrip['hhmember7']+myTrip['hhmember8']"
   ]
  },
  {
   "cell_type": "code",
   "execution_count": 159,
   "metadata": {
    "collapsed": false
   },
   "outputs": [
    {
     "name": "stdout",
     "output_type": "stream",
     "text": [
      "65275\n",
      "65275\n",
      "65275\n"
     ]
    },
    {
     "name": "stderr",
     "output_type": "stream",
     "text": [
      "C:\\Users\\jiz13007\\AppData\\Local\\Continuum\\Anaconda64bit\\lib\\site-packages\\ipykernel\\__main__.py:8: SettingWithCopyWarning: \n",
      "A value is trying to be set on a copy of a slice from a DataFrame.\n",
      "Try using .loc[row_indexer,col_indexer] = value instead\n",
      "\n",
      "See the caveats in the documentation: http://pandas.pydata.org/pandas-docs/stable/indexing.html#indexing-view-versus-copy\n",
      "C:\\Users\\jiz13007\\AppData\\Local\\Continuum\\Anaconda64bit\\lib\\site-packages\\ipykernel\\__main__.py:11: SettingWithCopyWarning: \n",
      "A value is trying to be set on a copy of a slice from a DataFrame.\n",
      "Try using .loc[row_indexer,col_indexer] = value instead\n",
      "\n",
      "See the caveats in the documentation: http://pandas.pydata.org/pandas-docs/stable/indexing.html#indexing-view-versus-copy\n"
     ]
    },
    {
     "name": "stdout",
     "output_type": "stream",
     "text": [
      "0\n",
      "0\n",
      "0\n"
     ]
    },
    {
     "name": "stderr",
     "output_type": "stream",
     "text": [
      "C:\\Users\\jiz13007\\AppData\\Local\\Continuum\\Anaconda64bit\\lib\\site-packages\\ipykernel\\__main__.py:13: SettingWithCopyWarning: \n",
      "A value is trying to be set on a copy of a slice from a DataFrame.\n",
      "Try using .loc[row_indexer,col_indexer] = value instead\n",
      "\n",
      "See the caveats in the documentation: http://pandas.pydata.org/pandas-docs/stable/indexing.html#indexing-view-versus-copy\n"
     ]
    }
   ],
   "source": [
    "#missing values in tottr, hhmem, non_hh_members\n",
    "#replace missing in non_hh_members as 0, replace -1 as 0\n",
    "#replace missing in hhmem as calcuated value\n",
    "#replace missing in tottr as calcuated value\n",
    "print myTrip['tottr'].isnull().sum()\n",
    "print myTrip['hhmem'].isnull().sum()\n",
    "print myTrip['non_hh_members'].isnull().sum()\n",
    "myTrip['non_hh_members_recode']=myTrip['non_hh_members']\n",
    "myTrip['non_hh_members_recode'].replace(np.nan,0,inplace=True)\n",
    "myTrip['non_hh_members_recode'].replace(-1,0,inplace=True)\n",
    "myTrip['hhmem_recode']=myTrip['hhmem']+1\n",
    "myTrip.loc[myTrip['hhmem_recode'].isnull(),'hhmem_recode']=myTrip['travelers_hh_cal']\n",
    "myTrip['tottr_recode']=myTrip['tottr']\n",
    "myTrip.loc[myTrip['tottr_recode'].isnull(),'tottr_recode']=myTrip['travelers_hh_cal']\n",
    "print myTrip['tottr_recode'].isnull().sum()\n",
    "print myTrip['hhmem_recode'].isnull().sum()\n",
    "print myTrip['non_hh_members_recode'].isnull().sum()"
   ]
  },
  {
   "cell_type": "code",
   "execution_count": 162,
   "metadata": {
    "collapsed": false
   },
   "outputs": [
    {
     "name": "stdout",
     "output_type": "stream",
     "text": [
      "25\n",
      "8\n",
      "1.0\n",
      "49.0\n",
      "0\n"
     ]
    },
    {
     "name": "stderr",
     "output_type": "stream",
     "text": [
      "C:\\Users\\jiz13007\\AppData\\Local\\Continuum\\Anaconda64bit\\lib\\site-packages\\ipykernel\\__main__.py:3: SettingWithCopyWarning: \n",
      "A value is trying to be set on a copy of a slice from a DataFrame.\n",
      "Try using .loc[row_indexer,col_indexer] = value instead\n",
      "\n",
      "See the caveats in the documentation: http://pandas.pydata.org/pandas-docs/stable/indexing.html#indexing-view-versus-copy\n",
      "  app.launch_new_instance()\n"
     ]
    }
   ],
   "source": [
    "print sum(myTrip['travelers_hh_cal']!=myTrip['hhmem_recode']) #25 records do not match. Okay because only 5 hh can be reported\n",
    "print sum(myTrip['tottr_recode']!=myTrip['hhmem_recode']+myTrip['non_hh_members_recode']) #8 records do not match\n",
    "myTrip['tottr_cal']=myTrip['hhmem_recode']+myTrip['non_hh_members_recode']\n",
    "print myTrip['tottr_cal'].min()\n",
    "print myTrip['tottr_cal'].max()\n",
    "print myTrip['tottr_cal'].isnull().sum()"
   ]
  },
  {
   "cell_type": "markdown",
   "metadata": {},
   "source": [
    "### Create origin/destination location variables"
   ]
  },
  {
   "cell_type": "code",
   "execution_count": 2,
   "metadata": {
    "collapsed": false
   },
   "outputs": [
    {
     "name": "stdout",
     "output_type": "stream",
     "text": [
      "(604710, 43)\n",
      "(460520, 61)\n",
      "(351742, 86)\n"
     ]
    }
   ],
   "source": [
    "'''Read the data from text file and convert in into a dataframe'''\n",
    "myAct3=read_pickle('C:/Users/jiz13007/Documents/CAMMSE/California House Travel Survey/code/pickle data new/myAct3.pkl')\n",
    "print (myAct3.shape)\n",
    "    \n",
    "# Sort the trip file\n",
    "myAct3.sort_values(['sampno','perno','plano','tripno','actno'], ascending=[True,True,True,True,True], inplace=True)\n",
    "myAct3.reset_index(drop=True,inplace = True)\n",
    "\n",
    "#Column (25) contains character Ã\n",
    "#print myAct.head(10)\n",
    "\n",
    "myPlace5=read_pickle('C:/Users/jiz13007/Documents/CAMMSE/California House Travel Survey/code/pickle data new/myPlace5.pkl')\n",
    "#print (myPlace.shape)\n",
    "\n",
    "# Sort the place file\n",
    "myPlace5.sort_values(['sampno','perno','plano','tripno'], ascending=[True,True,True,True], inplace=True)\n",
    "myPlace5.reset_index(drop=True,inplace = True)\n",
    "print myPlace5.shape\n",
    "#print myPlace.head()\n",
    "\n",
    "myTrip=read_pickle('C:/Users/jiz13007/Documents/CAMMSE/California House Travel Survey/code/pickle data new/survey_trip.pkl')\n",
    "#print (myPlace.shape)\n",
    "\n",
    "# Sort the place file\n",
    "myTrip.sort_values(['sampno','perno','plano','tripno'], ascending=[True,True,True,True], inplace=True)\n",
    "myTrip.reset_index(drop=True,inplace = True)\n",
    "print myTrip.shape\n",
    "#print myPlace.head()"
   ]
  },
  {
   "cell_type": "code",
   "execution_count": 3,
   "metadata": {
    "collapsed": false
   },
   "outputs": [
    {
     "name": "stdout",
     "output_type": "stream",
     "text": [
      "(108778, 5)\n",
      "     sampno  perno  tract_id  county_id  state_id\n",
      "0   1031985      1  252202.0       95.0         6\n",
      "3   1031985      2  252202.0       95.0         6\n",
      "6   1032036      1   17030.0       73.0         6\n",
      "12  1032036      2   17030.0       73.0         6\n",
      "31  1032036      3   17030.0       73.0         6\n",
      "0\n",
      "100.0\n",
      "999999.0\n",
      "0\n",
      "1.0\n",
      "999.0\n",
      "0\n",
      "1\n",
      "99\n",
      "(351742, 89)\n"
     ]
    }
   ],
   "source": [
    "# Get the origin location variables of first trip (tripno==0)\n",
    "loc_ori=myPlace5.loc[myPlace5['tripno']==0,('sampno','perno','tract_id','county_id','state_id')]\n",
    "print loc_ori.shape\n",
    "print loc_ori[['sampno','perno','tract_id','county_id','state_id']].head()\n",
    "print loc_ori['tract_id'].isnull().sum()\n",
    "print loc_ori['tract_id'].min()\n",
    "print loc_ori['tract_id'].max()\n",
    "print loc_ori['county_id'].isnull().sum()\n",
    "print loc_ori['county_id'].min()\n",
    "print loc_ori['county_id'].max()\n",
    "print loc_ori['state_id'].isnull().sum()\n",
    "print loc_ori['state_id'].min()\n",
    "print loc_ori['state_id'].max()\n",
    "loc_ori.columns=['sampno','perno','tract_id_first','county_id_first','state_id_first']\n",
    "myTrip1=merge(myTrip,loc_ori, on=['sampno','perno'], how='left')\n",
    "print myTrip1.shape"
   ]
  },
  {
   "cell_type": "code",
   "execution_count": 4,
   "metadata": {
    "collapsed": false
   },
   "outputs": [
    {
     "data": {
      "text/html": [
       "<div>\n",
       "<table border=\"1\" class=\"dataframe\">\n",
       "  <thead>\n",
       "    <tr style=\"text-align: right;\">\n",
       "      <th></th>\n",
       "      <th>sampno</th>\n",
       "      <th>perno</th>\n",
       "      <th>tripno</th>\n",
       "      <th>tract_id</th>\n",
       "      <th>county_id</th>\n",
       "      <th>state_id</th>\n",
       "      <th>tract_id_first</th>\n",
       "      <th>county_id_first</th>\n",
       "      <th>state_id_first</th>\n",
       "    </tr>\n",
       "  </thead>\n",
       "  <tbody>\n",
       "    <tr>\n",
       "      <th>0</th>\n",
       "      <td>1031985</td>\n",
       "      <td>1</td>\n",
       "      <td>1.0</td>\n",
       "      <td>252108.0</td>\n",
       "      <td>95.0</td>\n",
       "      <td>6</td>\n",
       "      <td>252202.0</td>\n",
       "      <td>95.0</td>\n",
       "      <td>6</td>\n",
       "    </tr>\n",
       "    <tr>\n",
       "      <th>1</th>\n",
       "      <td>1031985</td>\n",
       "      <td>1</td>\n",
       "      <td>2.0</td>\n",
       "      <td>252202.0</td>\n",
       "      <td>95.0</td>\n",
       "      <td>6</td>\n",
       "      <td>252202.0</td>\n",
       "      <td>95.0</td>\n",
       "      <td>6</td>\n",
       "    </tr>\n",
       "    <tr>\n",
       "      <th>2</th>\n",
       "      <td>1031985</td>\n",
       "      <td>2</td>\n",
       "      <td>1.0</td>\n",
       "      <td>251902.0</td>\n",
       "      <td>95.0</td>\n",
       "      <td>6</td>\n",
       "      <td>252202.0</td>\n",
       "      <td>95.0</td>\n",
       "      <td>6</td>\n",
       "    </tr>\n",
       "    <tr>\n",
       "      <th>3</th>\n",
       "      <td>1031985</td>\n",
       "      <td>2</td>\n",
       "      <td>2.0</td>\n",
       "      <td>252202.0</td>\n",
       "      <td>95.0</td>\n",
       "      <td>6</td>\n",
       "      <td>252202.0</td>\n",
       "      <td>95.0</td>\n",
       "      <td>6</td>\n",
       "    </tr>\n",
       "    <tr>\n",
       "      <th>4</th>\n",
       "      <td>1032036</td>\n",
       "      <td>1</td>\n",
       "      <td>1.0</td>\n",
       "      <td>17051.0</td>\n",
       "      <td>73.0</td>\n",
       "      <td>6</td>\n",
       "      <td>17030.0</td>\n",
       "      <td>73.0</td>\n",
       "      <td>6</td>\n",
       "    </tr>\n",
       "  </tbody>\n",
       "</table>\n",
       "</div>"
      ],
      "text/plain": [
       "    sampno  perno  tripno  tract_id  county_id  state_id  tract_id_first  \\\n",
       "0  1031985      1     1.0  252108.0       95.0         6        252202.0   \n",
       "1  1031985      1     2.0  252202.0       95.0         6        252202.0   \n",
       "2  1031985      2     1.0  251902.0       95.0         6        252202.0   \n",
       "3  1031985      2     2.0  252202.0       95.0         6        252202.0   \n",
       "4  1032036      1     1.0   17051.0       73.0         6         17030.0   \n",
       "\n",
       "   county_id_first  state_id_first  \n",
       "0             95.0               6  \n",
       "1             95.0               6  \n",
       "2             95.0               6  \n",
       "3             95.0               6  \n",
       "4             73.0               6  "
      ]
     },
     "execution_count": 4,
     "metadata": {},
     "output_type": "execute_result"
    }
   ],
   "source": [
    "myTrip1[['sampno','perno','tripno','tract_id','county_id','state_id','tract_id_first','county_id_first','state_id_first']].head()"
   ]
  },
  {
   "cell_type": "code",
   "execution_count": 5,
   "metadata": {
    "collapsed": true
   },
   "outputs": [],
   "source": [
    "myTrip1['d_tract_id']=myTrip1['tract_id']\n",
    "myTrip1['d_county_id']=myTrip1['county_id']\n",
    "myTrip1['d_state_id']=myTrip1['state_id']"
   ]
  },
  {
   "cell_type": "code",
   "execution_count": 8,
   "metadata": {
    "collapsed": false
   },
   "outputs": [
    {
     "name": "stdout",
     "output_type": "stream",
     "text": [
      "DONE\n"
     ]
    }
   ],
   "source": [
    "#destination location is the origin location of next trip\n",
    "def oriTract(group): #groupby smapno, perno\n",
    "    tripid=group.tripno.tolist()\n",
    "    sze=len(tripid)\n",
    "    dtract_ls=group.d_tract_id.tolist()[:-1] #Take all but the last one\n",
    "    tract_first=group.tract_id_first.tolist()[0] #Take the first one\n",
    "    \n",
    "    o_tract_ls=[-999 for x in xrange(sze)]\n",
    "    \n",
    "    if sze==1: #only made one trip\n",
    "        o_tract_ls[0]=tract_first\n",
    "        \n",
    "    else: \n",
    "        o_tract_ls[0]=tract_first \n",
    "        \n",
    "        for i in xrange(len(dtract_ls)):\n",
    "            o_tract_id=dtract_ls[i]\n",
    "            o_tract_ls[i+1]=o_tract_id\n",
    "\n",
    "    \n",
    "    group['o_tract_id']=o_tract_ls\n",
    "    return group\n",
    "print 'DONE'"
   ]
  },
  {
   "cell_type": "code",
   "execution_count": null,
   "metadata": {
    "collapsed": true
   },
   "outputs": [],
   "source": [
    "result=myTrip1.groupby(['sampno','perno']).apply(oriTract)\n",
    "print sum(result['o_tract_id']==-999)\n",
    "print result[['sampno','perno','tripno','tract_id_first','o_tract_id','d_tract_id']].head(10)\n",
    "myTrip1['o_tract_id']=result['o_tract_id']\n",
    "del result"
   ]
  },
  {
   "cell_type": "code",
   "execution_count": null,
   "metadata": {
    "collapsed": true
   },
   "outputs": [],
   "source": [
    "#destination location is the origin location of next trip\n",
    "def oriCounty(group): #groupby smapno, perno\n",
    "    tripid=group.tripno.tolist()\n",
    "    sze=len(tripid)\n",
    "    dcounty_ls=group.d_county_id.tolist()[:-1] #Take all but the last one\n",
    "    county_first=group.county_id_first.tolist()[0] #Take the first one\n",
    "    \n",
    "    o_county_ls=[-999 for x in xrange(sze)]\n",
    "    \n",
    "    if sze==1: #only made one trip\n",
    "        o_county_ls[0]=county_first\n",
    "        \n",
    "    else: \n",
    "        o_county_ls[0]=county_first \n",
    "        \n",
    "        for i in xrange(len(dcounty_ls)):\n",
    "            o_county_id=dcounty_ls[i]\n",
    "            o_county_ls[i+1]=o_county_id\n",
    "\n",
    "    \n",
    "    group['o_county_id']=o_county_ls\n",
    "    return group\n",
    "print 'DONE'"
   ]
  },
  {
   "cell_type": "code",
   "execution_count": null,
   "metadata": {
    "collapsed": true
   },
   "outputs": [],
   "source": [
    "result=myTrip1.groupby(['sampno','perno']).apply(oriCounty)\n",
    "print sum(result['o_county_id']==-999)\n",
    "#print result[['sampno','perno','tripno','county_id_first','o_county_id','d_county_id']].tail(50)\n",
    "print result.loc[result['sampno']==7211944,('perno','tripno','county_id_first','o_county_id','d_county_id')]\n",
    "myTrip1['o_county_id']=result['o_county_id']\n",
    "del result"
   ]
  },
  {
   "cell_type": "code",
   "execution_count": null,
   "metadata": {
    "collapsed": true
   },
   "outputs": [],
   "source": [
    "myTrip1.to_pickle('C:/Users/jiz13007/Documents/CAMMSE/California House Travel Survey/code/pickle data new/trip_processing3.pkl')"
   ]
  },
  {
   "cell_type": "code",
   "execution_count": null,
   "metadata": {
    "collapsed": true
   },
   "outputs": [],
   "source": [
    "#destination location is the origin location of next trip\n",
    "def oriState(group): #groupby smapno, perno\n",
    "    tripid=group.tripno.tolist()\n",
    "    sze=len(tripid)\n",
    "    dstate_ls=group.d_state_id.tolist()[:-1] #Take all but the last one\n",
    "    state_first=group.state_id_first.tolist()[0] #Take the first one\n",
    "    \n",
    "    o_state_ls=[-999 for x in xrange(sze)]\n",
    "    \n",
    "    if sze==1: #only made one trip\n",
    "        o_state_ls[0]=state_first\n",
    "        \n",
    "    else: \n",
    "        o_state_ls[0]=state_first \n",
    "        \n",
    "        for i in xrange(len(dstate_ls)):\n",
    "            o_state_id=dstate_ls[i]\n",
    "            o_state_ls[i+1]=o_state_id\n",
    "\n",
    "    \n",
    "    group['o_state_id']=o_state_ls\n",
    "    return group\n",
    "print 'DONE'"
   ]
  },
  {
   "cell_type": "code",
   "execution_count": null,
   "metadata": {
    "collapsed": true
   },
   "outputs": [],
   "source": [
    "result=myTrip1.groupby(['sampno','perno']).apply(oriState)\n",
    "print sum(result['o_state_id']==-999)\n",
    "print result[['sampno','perno','tripno','tract_id_first','o_tract_id','d_tract_id','state_id_first','o_state_id','d_state_id']].head(10)\n",
    "myTrip1['o_state_id']=result['o_state_id']\n",
    "del result"
   ]
  },
  {
   "cell_type": "markdown",
   "metadata": {},
   "source": [
    "### Done! Write trip file"
   ]
  },
  {
   "cell_type": "code",
   "execution_count": 170,
   "metadata": {
    "collapsed": false
   },
   "outputs": [],
   "source": [
    "##Done !!! The variables need for tour formation are created.\n",
    "##Write trip file\n",
    "myTrip1.to_pickle('C:/Users/jiz13007/Documents/CAMMSE/California House Travel Survey/code/pickle data new/Trips/survey_trip.pkl')"
   ]
  },
  {
   "cell_type": "code",
   "execution_count": 171,
   "metadata": {
    "collapsed": false
   },
   "outputs": [
    {
     "data": {
      "text/html": [
       "<div>\n",
       "<table border=\"1\" class=\"dataframe\">\n",
       "  <thead>\n",
       "    <tr style=\"text-align: right;\">\n",
       "      <th></th>\n",
       "      <th>sampno</th>\n",
       "      <th>perno</th>\n",
       "      <th>plano</th>\n",
       "      <th>tripno</th>\n",
       "      <th>trpid</th>\n",
       "    </tr>\n",
       "  </thead>\n",
       "  <tbody>\n",
       "    <tr>\n",
       "      <th>0</th>\n",
       "      <td>1031985</td>\n",
       "      <td>1</td>\n",
       "      <td>2</td>\n",
       "      <td>1.0</td>\n",
       "      <td>10319850101</td>\n",
       "    </tr>\n",
       "    <tr>\n",
       "      <th>1</th>\n",
       "      <td>1031985</td>\n",
       "      <td>1</td>\n",
       "      <td>3</td>\n",
       "      <td>2.0</td>\n",
       "      <td>10319850102</td>\n",
       "    </tr>\n",
       "    <tr>\n",
       "      <th>2</th>\n",
       "      <td>1031985</td>\n",
       "      <td>2</td>\n",
       "      <td>2</td>\n",
       "      <td>1.0</td>\n",
       "      <td>10319850201</td>\n",
       "    </tr>\n",
       "    <tr>\n",
       "      <th>3</th>\n",
       "      <td>1031985</td>\n",
       "      <td>2</td>\n",
       "      <td>3</td>\n",
       "      <td>2.0</td>\n",
       "      <td>10319850202</td>\n",
       "    </tr>\n",
       "    <tr>\n",
       "      <th>4</th>\n",
       "      <td>1032036</td>\n",
       "      <td>1</td>\n",
       "      <td>2</td>\n",
       "      <td>1.0</td>\n",
       "      <td>10320360101</td>\n",
       "    </tr>\n",
       "  </tbody>\n",
       "</table>\n",
       "</div>"
      ],
      "text/plain": [
       "    sampno  perno  plano  tripno        trpid\n",
       "0  1031985      1      2     1.0  10319850101\n",
       "1  1031985      1      3     2.0  10319850102\n",
       "2  1031985      2      2     1.0  10319850201\n",
       "3  1031985      2      3     2.0  10319850202\n",
       "4  1032036      1      2     1.0  10320360101"
      ]
     },
     "execution_count": 171,
     "metadata": {},
     "output_type": "execute_result"
    }
   ],
   "source": [
    "myTrip1[['sampno','perno','plano','tripno','trpid']].head()"
   ]
  },
  {
   "cell_type": "code",
   "execution_count": 173,
   "metadata": {
    "collapsed": false
   },
   "outputs": [
    {
     "data": {
      "text/plain": [
       "-9.0     114509\n",
       " 1.0      11332\n",
       " 2.0      29005\n",
       " 3.0       9279\n",
       " 4.0      22230\n",
       " 5.0      36161\n",
       " 6.0      47539\n",
       " 7.0      22108\n",
       " 8.0      24203\n",
       " 9.0      12113\n",
       " 10.0     23263\n",
       "Name: d_pur, dtype: int64"
      ]
     },
     "execution_count": 173,
     "metadata": {},
     "output_type": "execute_result"
    }
   ],
   "source": [
    "myTrip1['d_pur'].value_counts().sort_index()"
   ]
  }
 ],
 "metadata": {
  "anaconda-cloud": {},
  "kernelspec": {
   "display_name": "Python [default]",
   "language": "python",
   "name": "python2"
  },
  "language_info": {
   "codemirror_mode": {
    "name": "ipython",
    "version": 2
   },
   "file_extension": ".py",
   "mimetype": "text/x-python",
   "name": "python",
   "nbconvert_exporter": "python",
   "pygments_lexer": "ipython2",
   "version": "2.7.12"
  }
 },
 "nbformat": 4,
 "nbformat_minor": 1
}
